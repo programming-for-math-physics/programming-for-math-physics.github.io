{
  "cells": [
    {
      "cell_type": "markdown",
      "metadata": {
        "kernel": "Python 3 (ipykernel)",
        "nbgrader": {
          "grade": false,
          "grade_id": "c-001",
          "locked": true,
          "schema_version": 3,
          "solution": false,
          "task": false
        }
      },
      "source": [
        "\n",
        "#  matplotlibでのアニメーション",
        ""
      ]
    },
    {
      "cell_type": "markdown",
      "metadata": {
        "kernel": "Python 3 (ipykernel)",
        "nbgrader": {
          "grade": false,
          "grade_id": "c-002",
          "locked": true,
          "schema_version": 3,
          "solution": false,
          "task": false
        }
      },
      "source": [
        "\n",
        "* グラフを書くにはmatplotlib, 3Dオブジェクトのアニメーションをするにはvpythonを使うのが基本だが, 2次元の場が時々刻々どのように変化するかを表示したいときなど, 「グラフのアニメーション」がしたくなることがある\n",
        "\n",
        "* matplotlibにもアニメーション機能がある\n",
        "* 実はあまりドキュメントがなくて不便なのでここにまとめておく\n",
        ""
      ]
    },
    {
      "cell_type": "markdown",
      "metadata": {
        "kernel": "Python 3 (ipykernel)",
        "nbgrader": {
          "grade": false,
          "grade_id": "c-003",
          "locked": true,
          "schema_version": 3,
          "solution": false,
          "task": false
        }
      },
      "source": [
        "\n",
        "# 1. 1変数のグラフ(曲線)のアニメーション",
        "\n",
        "## 1-1. 復習: ",
        "\n",
        "以下が $y = \\sin x$のグラフを書くコード\n",
        "(後でアニメーション化する都合で以前に書いたものよりも少し変更している)\n",
        ""
      ]
    },
    {
      "cell_type": "markdown",
      "metadata": {
        "kernel": "Python 3 (ipykernel)",
        "nbgrader": {
          "grade": false,
          "grade_id": "c-004",
          "locked": true,
          "schema_version": 3,
          "solution": false,
          "task": false
        }
      },
      "source": [
        "その前に, Jupyter notebook内でグラフを表示するには以下のおまじないを唱えておくと良いみたい"
      ]
    },
    {
      "cell_type": "code",
      "metadata": {
        "kernel": "Python 3 (ipykernel)",
        "nbgrader": {
          "grade": false,
          "grade_id": "c-005",
          "locked": false,
          "schema_version": 3,
          "solution": false,
          "task": false
        }
      },
      "source": [
        "%matplotlib notebook"
      ],
      "execution_count": null,
      "outputs": []
    },
    {
      "cell_type": "code",
      "metadata": {
        "kernel": "Python 3 (ipykernel)",
        "nbgrader": {
          "grade": false,
          "grade_id": "c-006",
          "locked": false,
          "schema_version": 3,
          "solution": false,
          "task": false
        }
      },
      "source": [
        "%matplotlib notebook\n",
        "import matplotlib.pyplot as plt\n",
        "import numpy as np\n",
        "\n",
        "def draw_sin():\n",
        "    fig = plt.figure()\n",
        "    ax = fig.add_subplot(111)\n",
        "    x = np.linspace(0, 10, 100)\n",
        "    y = np.sin(x)\n",
        "    ax.plot(x, y)\n",
        "    plt.show()\n",
        "\n",
        "draw_sin()"
      ],
      "execution_count": null,
      "outputs": []
    },
    {
      "cell_type": "markdown",
      "metadata": {
        "kernel": "Python 3 (ipykernel)",
        "nbgrader": {
          "grade": false,
          "grade_id": "c-007",
          "locked": true,
          "schema_version": 3,
          "solution": false,
          "task": false
        }
      },
      "source": [
        "\n",
        "## 1-2. アニメ化したつもりで上手く行かない例",
        "\n",
        "* たとえばこれを $y = \\sin (x-k)$ の曲線を$k$を変えながら表示する(平行移動)アニメーションにしたいとしよう\n",
        "\n",
        "* なんとなく以下のようなことをすればいいのではないかと思いたくなるが, 残念ながら以下は 色々な$k$に対する $y = \\sin (x-k)$の曲線を一つの絵の中に重ねて書いて, それを最後に表示するだけのもので, アニメーションにはならない\n",
        ""
      ]
    },
    {
      "cell_type": "code",
      "metadata": {
        "kernel": "Python 3 (ipykernel)",
        "nbgrader": {
          "grade": false,
          "grade_id": "c-008",
          "locked": false,
          "schema_version": 3,
          "solution": false,
          "task": false
        }
      },
      "source": [
        "%matplotlib notebook\n",
        "import matplotlib.pyplot as plt\n",
        "import numpy as np\n",
        "\n",
        "def draw_many_sins():\n",
        "    fig = plt.figure()\n",
        "    ax = fig.add_subplot(111)\n",
        "    x = np.linspace(0, 10, 100)\n",
        "    for k in range(20):\n",
        "        y = np.sin(x-k)\n",
        "        ax.plot(x, y)\n",
        "    plt.show()\n",
        "\n",
        "draw_many_sins()"
      ],
      "execution_count": null,
      "outputs": []
    },
    {
      "cell_type": "markdown",
      "metadata": {
        "kernel": "Python 3 (ipykernel)",
        "nbgrader": {
          "grade": false,
          "grade_id": "c-009",
          "locked": true,
          "schema_version": 3,
          "solution": false,
          "task": false
        }
      },
      "source": [
        "\n",
        "## 1-3. アニメ化",
        "\n",
        "* アニメーションにするには上記の繰り返しを\n",
        "\n",
        " 1. 最初に一度だけ曲線を書き (plt.plot を呼び出し), 返り値(実は書かれた曲線を表すデータ)を変数に保存しておく\n",
        " 1. それ以降は曲線を変更したい時に, 書かれた曲線の「データを変更する」関数(set_data)を呼び出す\n",
        " 1. 「データを変更」したらおまじない(yield)を唱える\n",
        "\n",
        "という風に変更する\n",
        "\n",
        "* yieldはこれまで教えていないPython言語の要素なのだが話すと長くなるので今は, 実際に画面を更新する人に処理をうつす(で, 更新が終わったらまた戻ってくる)ための「おまじない」と思っていて下さい\n",
        ""
      ]
    },
    {
      "cell_type": "code",
      "metadata": {
        "kernel": "Python 3 (ipykernel)",
        "nbgrader": {
          "grade": false,
          "grade_id": "c-010",
          "locked": false,
          "schema_version": 3,
          "solution": false,
          "task": false
        }
      },
      "source": [
        "%matplotlib notebook\n",
        "import matplotlib.pyplot as plt\n",
        "import numpy as np\n",
        "import matplotlib.animation as anm\n",
        "\n",
        "def generate_sins(fig):\n",
        "    ax = fig.add_subplot(111)\n",
        "    x = np.linspace(0, 10, 100)\n",
        "    for k in range(100):\n",
        "        y = np.sin(x-k/10)\n",
        "        if k == 0:\n",
        "            # 1周目は普通に plot などする\n",
        "            # 返り値を保存しておく\n",
        "            # 下記の代入文については以下の注を参照\n",
        "            [ line ] = ax.plot(x, y)\n",
        "        else:\n",
        "            # 2週目以降は書いた曲線のデータを変更する\n",
        "            # データを変更するための関数名はどうやって\n",
        "            # 書いたか(plot, pcolor, etc.)により異なる\n",
        "            line.set_data(x, y)\n",
        "        # 更新してほしいところで, 更新してほしいオブジェクト\n",
        "        # のリストを yield する(おまじない)\n",
        "        yield [ line ]"
      ],
      "execution_count": null,
      "outputs": []
    },
    {
      "cell_type": "markdown",
      "metadata": {
        "kernel": "Python 3 (ipykernel)",
        "nbgrader": {
          "grade": false,
          "grade_id": "c-011",
          "locked": true,
          "schema_version": 3,
          "solution": false,
          "task": false
        }
      },
      "source": [
        "\n",
        "* その上で以下を呼び出すと実際の描画・アニメーションが始まる\n",
        "* 以下で1行目 (fig, lambda x: x, repeat=0)はおまじないと思って良い\n",
        "1. animate_sins が呼ばれる\n",
        "1. animate_sins の中で yield するたびに yield した曲線が更新される\n",
        "1. interval は ミリ秒 (1/1000秒)単位で更新間隔を指定する\n",
        ""
      ]
    },
    {
      "cell_type": "code",
      "metadata": {
        "kernel": "Python 3 (ipykernel)",
        "nbgrader": {
          "grade": false,
          "grade_id": "c-012",
          "locked": false,
          "schema_version": 3,
          "solution": false,
          "task": false
        }
      },
      "source": [
        "%matplotlib notebook\n",
        "def animate_sins():\n",
        "    fig = plt.figure()\n",
        "    ani = anm.FuncAnimation(fig, lambda x: x, repeat=0,\n",
        "                            frames=generate_sins(fig), \n",
        "                            interval=30)\n",
        "    plt.show()\n",
        "    return ani\n",
        "\n",
        "animate_sins()"
      ],
      "execution_count": null,
      "outputs": []
    },
    {
      "cell_type": "markdown",
      "metadata": {
        "kernel": "Python 3 (ipykernel)",
        "nbgrader": {
          "grade": false,
          "grade_id": "c-013",
          "locked": true,
          "schema_version": 3,
          "solution": false,
          "task": false
        }
      },
      "source": [
        "\n",
        "* 注: plt.plot は書かれた曲線のリストを返す\n",
        " * ここでは曲線を一つしか書いていないので1要素のリストが返る\n",
        " * 代入文 \n",
        "```\n",
        "[ line ] = plt.plot(x, y)\n",
        "```\n",
        "は右辺が1要素のリストである時にその唯一の要素をlineに代入するという構文(初出)\n",
        " * 想像通り右辺が2要素のリストなら, こんなことも書ける(以下は x=1, y=2 が代入される)\n",
        "[ x,y ] = [ 1,2 ]\n",
        "\n",
        "* 例えば以下は二つの曲線を同時にアニメーションする\n",
        ""
      ]
    },
    {
      "cell_type": "code",
      "metadata": {
        "kernel": "Python 3 (ipykernel)",
        "nbgrader": {
          "grade": false,
          "grade_id": "c-014",
          "locked": false,
          "schema_version": 3,
          "solution": false,
          "task": false
        }
      },
      "source": [
        "%matplotlib notebook\n",
        "import matplotlib.pyplot as plt\n",
        "import numpy as np\n",
        "import matplotlib.animation as anm\n",
        "\n",
        "def generate_2_sins(fig):\n",
        "    ax = fig.add_subplot(111)\n",
        "    x = np.linspace(0, 10, 100)\n",
        "    for k in range(100):\n",
        "        y0 = np.sin(x - k/10)\n",
        "        y1 = y0 + np.sin(x + k/10)\n",
        "        if k == 0:\n",
        "            # 1周目は普通に plot などする\n",
        "            # 返り値を保存しておく\n",
        "            # 下記の代入文については以下の注を参照\n",
        "            [ line0,line1 ] = ax.plot(x, y0, x, y1)\n",
        "        else:\n",
        "            # 2週目以降は書いた曲線のデータを変更する\n",
        "            # データを変更するための関数名はどうやって\n",
        "            # 書いたか(plot, pcolor, etc.)により異なる\n",
        "            line0.set_data(x, y0)\n",
        "            line1.set_data(x, y1)\n",
        "        # 更新してほしいところで, 更新してほしいオブジェクト\n",
        "        # のリストを yield する(おまじない)\n",
        "        yield [ line0,line1 ]\n",
        "\n",
        "def animate_2_sins():\n",
        "    fig = plt.figure()\n",
        "    ani = anm.FuncAnimation(fig, lambda x: x, repeat=0,\n",
        "                            # これで肝心の処理が始まる\n",
        "                            frames=generate_2_sins(fig),\n",
        "                            interval=30)\n",
        "    plt.show()\n",
        "    return ani\n",
        "\n",
        "animate_2_sins()"
      ],
      "execution_count": null,
      "outputs": []
    },
    {
      "cell_type": "markdown",
      "metadata": {
        "kernel": "Python 3 (ipykernel)",
        "nbgrader": {
          "grade": false,
          "grade_id": "c-015",
          "locked": true,
          "schema_version": 3,
          "solution": false,
          "task": false
        }
      },
      "source": [
        "\n",
        "# 2. 2変数の色表示(pcolor)のアニメーション",
        "\n",
        "## 2-1. 復習 通常の2変数の色表示(pcolor)",
        ""
      ]
    },
    {
      "cell_type": "code",
      "metadata": {
        "kernel": "Python 3 (ipykernel)",
        "nbgrader": {
          "grade": false,
          "grade_id": "c-016",
          "locked": false,
          "schema_version": 3,
          "solution": false,
          "task": false
        }
      },
      "source": [
        "%matplotlib notebook\n",
        "import matplotlib.pyplot as plt\n",
        "import numpy as np\n",
        "\n",
        "# [0,1]x[0,1]の領域を1辺hの正方形に区切り, \n",
        "# dtずつ時刻を進めて, 時刻Tまでシミュレートする\n",
        "# 最終結果(だけ)を最後に表示する\n",
        "\n",
        "def heat2d(h, dt, end_t):\n",
        "    k = 0.1\n",
        "    n = int(1/h)\n",
        "    X = np.linspace(0,1,n)\n",
        "    Y = np.linspace(0,1,n)\n",
        "    X,Y = np.meshgrid(X,Y)\n",
        "    T = np.zeros((n,n))\n",
        "    T[:,0] = 1\n",
        "    T[0,:] = 1\n",
        "    n_steps = int(end_t / dt)\n",
        "    for s in range(n_steps):\n",
        "        T[1:n-1,1:n-1] = (T[1:n-1,1:n-1] +\n",
        "                          (k * dt / (h*h)) *\n",
        "                          (T[2:n,  1:n-1] +\n",
        "                           T[0:n-2,1:n-1] +\n",
        "                           T[1:n-1,2:n] +\n",
        "                           T[1:n-1,0:n-2] -\n",
        "                           4 * T[1:n-1,1:n-1]))\n",
        "    fig = plt.figure()\n",
        "    ax = fig.add_subplot(111)\n",
        "    pc = ax.pcolor(X, Y, T, shading='auto')\n",
        "    plt.show()\n",
        "\n",
        "heat2d(2.0e-2, 1.0e-3, 1.0)"
      ],
      "execution_count": null,
      "outputs": []
    },
    {
      "cell_type": "markdown",
      "metadata": {
        "kernel": "Python 3 (ipykernel)",
        "nbgrader": {
          "grade": false,
          "grade_id": "c-017",
          "locked": true,
          "schema_version": 3,
          "solution": false,
          "task": false
        }
      },
      "source": [
        "\n",
        "# 3. アニメ化: ",
        "\n",
        "* 概念的な仕組みは曲線(plt.plot)の場合と同じ\n",
        "* 違いは,\n",
        "1. plt.pcolor で返されるのは書かれた2次元色表示を表すオブジェクト1つ. つまりリストではない(なので [ ... ] = ... みたいな変な代入文は不必要)\n",
        "1. データの変更には set_data ではなく set_array という関数を用いる\n",
        "1. しかもややこしいことにset_arrayに渡すデータは2次元配列ではなく, 2次元の点の色データを1次元に無理やり変えた(reshape)したもので, しかもその2次元の点のデータは, X, Yよりも1行, 1列ずつ小さいものにしておく必要がある. つまり元々が100x100の2次元データを pcolor に渡したのであれば, その後のset_arrayに渡すデータは 99*99=9801 要素の1次元配列. (余談: 1つずつ縮めなくてはいけない理由はよく考えるとわかります. xやyは格子点のデータであるのに対して, 色のデータはセルに対するものなので, 植木算の理屈で縦横1ずつ小さくなる. 最初にpcolorに渡したときも実は最後の1行, 1列は無視されている)\n",
        ""
      ]
    },
    {
      "cell_type": "code",
      "metadata": {
        "kernel": "Python 3 (ipykernel)",
        "nbgrader": {
          "grade": false,
          "grade_id": "c-018",
          "locked": false,
          "schema_version": 3,
          "solution": false,
          "task": false
        }
      },
      "source": [
        "%matplotlib notebook\n",
        "def shrink(z):\n",
        "    # z : 2次元配列 を縦横1ずつ縮めて, かつ無理やり1次元の配列に直す\n",
        "    m,n = z.shape\n",
        "    return z[:m-1,:n-1].reshape((m - 1) * (n - 1))\n",
        "    \n",
        "def generate_heat2d(fig, h, dt, end_t):\n",
        "    ax = fig.add_subplot(111)\n",
        "    k = 0.1\n",
        "    n = int(1/h)\n",
        "    X = np.linspace(0,1,n)\n",
        "    Y = np.linspace(0,1,n)\n",
        "    X,Y = np.meshgrid(X,Y)\n",
        "    T = np.zeros((n,n))\n",
        "    T[:,0] = 1\n",
        "    T[0,:] = 1\n",
        "    n_steps = int(end_t / dt)\n",
        "    for s in range(n_steps):\n",
        "        print(\"step %d\" % s)\n",
        "        T[1:n-1,1:n-1] = (T[1:n-1,1:n-1]\n",
        "                          + (k * dt / (h*h))\n",
        "                          * (T[2:n,  1:n-1] +\n",
        "                             T[0:n-2,1:n-1] +\n",
        "                             T[1:n-1,2:n]   +\n",
        "                             T[1:n-1,0:n-2] -\n",
        "                             4 * T[1:n-1,1:n-1]))\n",
        "        if s == 0:\n",
        "            pc = ax.pcolor(X, Y, T, shading='auto')\n",
        "        else:\n",
        "            pc.set_array(shrink(T))\n",
        "            yield [pc]\n",
        "\n",
        "def animate_heat2d():\n",
        "    fig = plt.figure()\n",
        "    ani = anm.FuncAnimation(fig, lambda x: x, repeat=0,\n",
        "                            frames=generate_heat2d(fig, 2.0e-2, 1.0e-3, 1.0),\n",
        "                            interval=1)\n",
        "    plt.show()\n",
        "    return ani\n",
        "\n",
        "animate_heat2d()"
      ],
      "execution_count": null,
      "outputs": []
    },
    {
      "cell_type": "markdown",
      "metadata": {
        "kernel": "Python 3 (ipykernel)",
        "nbgrader": {
          "grade": false,
          "grade_id": "c-019",
          "locked": true,
          "schema_version": 3,
          "solution": false,
          "task": false
        }
      },
      "source": [
        "\n",
        "# 4. 2変数の3次元表示(plot_surface)のアニメーション",
        "\n",
        "## 4-1. 復習 通常の3次元表示",
        ""
      ]
    },
    {
      "cell_type": "code",
      "metadata": {
        "kernel": "Python 3 (ipykernel)",
        "nbgrader": {
          "grade": false,
          "grade_id": "c-020",
          "locked": false,
          "schema_version": 3,
          "solution": false,
          "task": false
        }
      },
      "source": [
        "%matplotlib notebook\n",
        "import matplotlib.pyplot as plt\n",
        "from mpl_toolkits.mplot3d import Axes3D\n",
        "import numpy as np\n",
        "\n",
        "def plot3d():\n",
        "    X = np.linspace(0,1,101)\n",
        "    Y = np.linspace(0,1,101)\n",
        "    X,Y = np.meshgrid(X, Y)\n",
        "    Z = 2 - X * X - Y * Y\n",
        "    fig = plt.figure()\n",
        "    axis = fig.add_subplot(111, projection=\"3d\")\n",
        "    sfc = axis.plot_surface(X, Y, Z)\n",
        "    plt.show()\n",
        "\n",
        "plot3d()"
      ],
      "execution_count": null,
      "outputs": []
    },
    {
      "cell_type": "markdown",
      "metadata": {
        "kernel": "Python 3 (ipykernel)",
        "nbgrader": {
          "grade": false,
          "grade_id": "c-021",
          "locked": true,
          "schema_version": 3,
          "solution": false,
          "task": false
        }
      },
      "source": [
        "\n",
        "## 4-2. アニメ化",
        "\n",
        "* 3D表示のアニメ化はこれまでの方法では何故か上手く行かない\n",
        "* 代わりに1 stepごとに前に書いたsurfaceを消去して(axis.clear()), また書き直すということをしている\n",
        "* データに合わせてmatplotlibが軸の範囲を調整してしまうとアニメーションにならなくなってしまうので以下では z の範囲を強制的に 0 .. 4 までにしている\n",
        "\n",
        ""
      ]
    },
    {
      "cell_type": "code",
      "metadata": {
        "kernel": "Python 3 (ipykernel)",
        "nbgrader": {
          "grade": false,
          "grade_id": "c-022",
          "locked": false,
          "schema_version": 3,
          "solution": false,
          "task": false
        }
      },
      "source": [
        "%matplotlib notebook\n",
        "import matplotlib.pyplot as plt\n",
        "from mpl_toolkits.mplot3d import Axes3D\n",
        "import matplotlib.animation as anm\n",
        "import numpy as np\n",
        "\n",
        "def generate_plot3d(fig):\n",
        "    X = np.linspace(-1,1,101)\n",
        "    Y = np.linspace(-1,1,101)\n",
        "    X,Y = np.meshgrid(X, Y)\n",
        "    axis = fig.add_subplot(111, projection=\"3d\")\n",
        "    for k in np.linspace(0,2 * np.pi,101):\n",
        "        print(\"step %f\" % k)\n",
        "        Z = 2 - np.cos(k) * (X * X + Y * Y)\n",
        "        axis.clear()\n",
        "        sfc = axis.plot_surface(X, Y, Z)\n",
        "        axis.set_zlim(0,4)\n",
        "        yield\n",
        "\n",
        "def animate_plot3d():\n",
        "    fig = plt.figure()\n",
        "    ani = anm.FuncAnimation(fig, lambda x: x,  repeat=0,\n",
        "                            frames=generate_plot3d(fig),\n",
        "                            interval=1)\n",
        "    plt.show()\n",
        "    return ani\n",
        "\n",
        "animate_plot3d()"
      ],
      "execution_count": null,
      "outputs": []
    }
  ],
  "metadata": {
    "celltoolbar": "Create Assignment",
    "kernelspec": {
      "display_name": "Python 3 (ipykernel)",
      "language": "python",
      "name": "python3"
    },
    "language_info": {
      "codemirror_mode": {
        "name": "ipython",
        "version": 3
      },
      "file_extension": ".py",
      "mimetype": "text/x-python",
      "name": "python",
      "nbconvert_exporter": "python",
      "pygments_lexer": "ipython3",
      "version": "3.8.10"
    }
  },
  "nbformat": 4,
  "nbformat_minor": 4
}