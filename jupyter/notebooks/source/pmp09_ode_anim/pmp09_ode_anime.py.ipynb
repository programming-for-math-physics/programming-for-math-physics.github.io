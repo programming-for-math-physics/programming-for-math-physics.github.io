{
  "cells": [
    {
      "cell_type": "markdown",
      "metadata": {
        "kernel": "Python 3 (ipykernel)",
        "nbgrader": {
          "grade": false,
          "grade_id": "c-001",
          "locked": true,
          "schema_version": 3,
          "solution": false,
          "task": false
        }
      },
      "source": [
        "\n",
        "#  物理シミュレーション + アニメーション",
        "\n",
        "いよいよ, 常微分方程式を解きながら, その結果をアニメーションで表示する.\n",
        "\n",
        "先の単振動の例を引き続き用いる.\n",
        "\n",
        "## 1-1. 復習1: ",
        "\n",
        "以下の状況\n",
        "\n",
        "<img src=\"img/spring.svg\" />\n",
        "\n",
        "$$ {\\LARGE m \\ddot{x}(t) = F } $$\n",
        "\n",
        "をシミュレートするコードが以下であった. \n",
        "\n",
        "__xが時々刻々変わる質点の位置を保持していた__ことを思い出しておく\n",
        ""
      ]
    },
    {
      "cell_type": "code",
      "metadata": {
        "kernel": "Python 3 (ipykernel)",
        "nbgrader": {
          "grade": false,
          "grade_id": "c-002",
          "locked": true,
          "schema_version": 3,
          "solution": false,
          "task": false
        }
      },
      "source": [
        "def mass_spring(x0, v0, T, m, k):\n",
        "    x = x0\n",
        "    v = v0\n",
        "    dt = 0.01\n",
        "    n = int(T / dt)\n",
        "    dt = T / n\n",
        "    for i in range(n):\n",
        "        a = -k * x / m\n",
        "        x += v * dt\n",
        "        v += a * dt\n",
        "        t += dt\n",
        "    return (x,v)"
      ],
      "execution_count": null,
      "outputs": []
    },
    {
      "cell_type": "markdown",
      "metadata": {
        "kernel": "Python 3 (ipykernel)",
        "nbgrader": {
          "grade": false,
          "grade_id": "c-003",
          "locked": true,
          "schema_version": 3,
          "solution": false,
          "task": false
        }
      },
      "source": [
        "\n",
        "## 1-2. 復習2: Visual Pythonでアニメーションをする",
        "\n",
        "1. おまじない: \n",
        "```\n",
        "from vpython import *\n",
        "```\n",
        "を唱えておく\n",
        "1. sphere(), box(), helix()などの関数を呼び出すと対応するオブジェが表示される\n",
        "1. sphere(pos=vector(1,2,3)) のようにposという属性を指定することで位置を指定できる\n",
        "1. s = sphere(pos=vector(1,2,3)) としておいて, あとから s.pos += vector(0.1, 0.2, 0.3) のように pos属性を代入文で変更すれば, それだけで s の表示位置を変更, つまり sを動かせる\n",
        "1. これを繰り返し行えばアニメーションができる. \n",
        "```\n",
        "s = オブジェ(pos=vector(...))\n",
        "for i in range(n):\n",
        "      s.pos = ...\n",
        "```\n",
        "1. ただし, rate(更新レート) という関数を呼び出さないと画面は更新されない. 例えば毎秒30回の速度で更新するなら\n",
        "```\n",
        "s = オブジェ(pos=vector(...))\n",
        "for i in range(n):\n",
        "      s.pos = ...\n",
        "      rate(30)\n",
        "```\n",
        "1. アニメーションの先頭で, \n",
        "\n",
        "```\n",
        "c = canvas()\n",
        "``` \n",
        "\n",
        "という呼び出しをしておくとよい. それにより新しい画面(キャンバス)に描画が行われる. これをやらないと以前に作られたキャンバスに上書きで描画されてしまう. つまり以下が最低限のテンプレート\n",
        "```\n",
        "c = canvas()\n",
        "s = オブジェ(pos=vector(...))\n",
        "for i in range(n):\n",
        "  s.pos = ...\n",
        "  rate(30)\n",
        "```\n",
        ""
      ]
    },
    {
      "cell_type": "markdown",
      "metadata": {
        "kernel": "Python 3 (ipykernel)",
        "nbgrader": {
          "grade": false,
          "grade_id": "c-004",
          "locked": true,
          "schema_version": 3,
          "solution": false,
          "task": false
        }
      },
      "source": [
        "\n",
        "以上, 復習1と復習2を合わせて, バネに繋がれて運動する質点のアニメ\n",
        ""
      ]
    },
    {
      "cell_type": "code",
      "metadata": {
        "kernel": "Python 3 (ipykernel)",
        "nbgrader": {
          "grade": false,
          "grade_id": "c-005",
          "locked": true,
          "schema_version": 3,
          "solution": false,
          "task": false
        }
      },
      "source": [
        "from vpython import *\n",
        "\n",
        "def mass_spring_anime(x0, v0, T, m, k):\n",
        "    c = canvas()\n",
        "    b0 = sphere()\n",
        "    s = sphere(color=color.red, pos=vector(x0,0,0), vel=vector(v0,0,0))\n",
        "    dt = 0.01\n",
        "    n = int(T / dt)\n",
        "    dt = T / n\n",
        "    t = 0\n",
        "    for i in range(n):\n",
        "        s.acc = -k * s.pos / m\n",
        "        s.pos += s.vel * dt\n",
        "        s.vel += s.acc * dt\n",
        "        t += dt\n",
        "        rate(1/dt)\n",
        "    return (s.pos,s.vel)"
      ],
      "execution_count": null,
      "outputs": []
    },
    {
      "cell_type": "code",
      "metadata": {
        "kernel": "Python 3 (ipykernel)",
        "nbgrader": {
          "grade": false,
          "grade_id": "c-006",
          "locked": true,
          "schema_version": 3,
          "solution": false,
          "task": false
        }
      },
      "source": [
        "# 以下で初期位置や速度, 質量, バネ定数などを変えて動きの違いを見てみよ\n",
        "mass_spring_anime(10, 0, 50, 1, 1)"
      ],
      "execution_count": null,
      "outputs": []
    },
    {
      "cell_type": "markdown",
      "metadata": {
        "kernel": "Python 3 (ipykernel)",
        "nbgrader": {
          "grade": false,
          "grade_id": "c-007",
          "locked": true,
          "schema_version": 3,
          "solution": false,
          "task": false
        }
      },
      "source": [
        "\n",
        "# <font color=\"green\"> Problem 1 :  バネ + 空気抵抗</font>",
        "\n",
        "上記を参考にして, 「空気抵抗のある状態」をシミュレートする関数,\n",
        "mass_spring_drag_anime(x0, v0, T, m, k, mu) を書け.\n",
        "\n",
        "空気抵抗は, 速度の逆向きに, 速度に比例して働くとせよ(その比例定数がmu).\n",
        "空気抵抗の係数を変えて, 動きの違いを見てみよ.\n",
        ""
      ]
    },
    {
      "cell_type": "code",
      "metadata": {
        "kernel": "Python 3 (ipykernel)",
        "nbgrader": {
          "grade": true,
          "grade_id": "p-001",
          "locked": false,
          "schema_version": 3,
          "solution": true,
          "task": false,
          "points": 1
        }
      },
      "source": [
        "BEGIN SOLUTION\n",
        "END SOLUTION"
      ],
      "execution_count": null,
      "outputs": []
    },
    {
      "cell_type": "markdown",
      "metadata": {
        "kernel": "Python 3 (ipykernel)",
        "nbgrader": {
          "grade": false,
          "grade_id": "c-008",
          "locked": true,
          "schema_version": 3,
          "solution": false,
          "task": false
        }
      },
      "source": [
        "\n",
        "# <font color=\"green\"> Problem 2 :  アニメーションらしく</font>",
        "\n",
        "アニメーションをそれらしくするためにバネや壁も表示してみよ.\n",
        ""
      ]
    },
    {
      "cell_type": "code",
      "metadata": {
        "kernel": "Python 3 (ipykernel)",
        "nbgrader": {
          "grade": true,
          "grade_id": "p-002",
          "locked": false,
          "schema_version": 3,
          "solution": true,
          "task": false,
          "points": 1
        }
      },
      "source": [
        "BEGIN SOLUTION\n",
        "END SOLUTION"
      ],
      "execution_count": null,
      "outputs": []
    },
    {
      "cell_type": "markdown",
      "metadata": {
        "kernel": "Python 3 (ipykernel)",
        "nbgrader": {
          "grade": false,
          "grade_id": "c-009",
          "locked": true,
          "schema_version": 3,
          "solution": false,
          "task": false
        }
      },
      "source": [
        "\n",
        "# <font color=\"green\"> Problem 3 :  太陽と惑星</font>",
        "\n",
        "原点に太陽(動かない)があり, その周りを惑星が回っている状態をシミュレート(アニメーション)せよ.\n",
        "\n",
        "地球が位置$x$にいる時に働く力は, \n",
        "\n",
        "$$ - G m M \\frac{x}{|x|^3} $$\n",
        "\n",
        "ただし$m$が惑星の質量, $M$は太陽の質量. \n",
        "ここでは地球と比べて非常に質量が大きいので動かないものとして良い.\n",
        "\n",
        "* まずうまく初期値を設定し, 惑星が太陽を中心とした円運動をするようにしてみよ(物理の問題)\n",
        "\n",
        "また初期値により,\n",
        "\n",
        "* 惑星がどんどん遠ざかる\n",
        "* ある軌道(太陽を一頂点とする楕円)を回り続ける\n",
        "\n",
        "彗星のような, 太陽の周りをつぶれた楕円運動をする初期値を設定してみよ\n",
        ""
      ]
    },
    {
      "cell_type": "code",
      "metadata": {
        "kernel": "Python 3 (ipykernel)",
        "nbgrader": {
          "grade": true,
          "grade_id": "p-003",
          "locked": false,
          "schema_version": 3,
          "solution": true,
          "task": false,
          "points": 1
        }
      },
      "source": [
        "BEGIN SOLUTION\n",
        "END SOLUTION"
      ],
      "execution_count": null,
      "outputs": []
    },
    {
      "cell_type": "markdown",
      "metadata": {
        "kernel": "Python 3 (ipykernel)",
        "nbgrader": {
          "grade": false,
          "grade_id": "c-010",
          "locked": true,
          "schema_version": 3,
          "solution": false,
          "task": false
        }
      },
      "source": [
        "\n",
        "# <font color=\"green\"> Problem 4 :  連星</font>",
        "\n",
        "前問で, もう一方の太陽も動かしてみよ. $M$と$m$をだいたい同じくらいにすれば両者が絡まり合って動く, 連星のような動きができる.\n",
        ""
      ]
    },
    {
      "cell_type": "code",
      "metadata": {
        "kernel": "Python 3 (ipykernel)",
        "nbgrader": {
          "grade": true,
          "grade_id": "p-004",
          "locked": false,
          "schema_version": 3,
          "solution": true,
          "task": false,
          "points": 1
        }
      },
      "source": [
        "BEGIN SOLUTION\n",
        "END SOLUTION"
      ],
      "execution_count": null,
      "outputs": []
    },
    {
      "cell_type": "markdown",
      "metadata": {
        "kernel": "Python 3 (ipykernel)",
        "nbgrader": {
          "grade": false,
          "grade_id": "c-011",
          "locked": true,
          "schema_version": 3,
          "solution": false,
          "task": false
        }
      },
      "source": [
        "\n",
        "# <font color=\"green\"> Problem 5 :  重力(落下) + バウンド</font>",
        "\n",
        "地上から速さ$v_0$, 角度$\\theta$で斜めに打ち上げられた質点の動き(初期位置を原点とする)を時刻$T$までシミュレート(アニメーション)する関数 free_fall(v0, theta, T) を書いて実行せよ. ただし, 時刻$T$に至るまでに再び地上に衝突したら, バウンドさせよ, つまり, 速度の$y$成分を反転させよ.\n",
        ""
      ]
    },
    {
      "cell_type": "code",
      "metadata": {
        "kernel": "Python 3 (ipykernel)",
        "nbgrader": {
          "grade": true,
          "grade_id": "p-005",
          "locked": false,
          "schema_version": 3,
          "solution": true,
          "task": false,
          "points": 1
        }
      },
      "source": [
        "BEGIN SOLUTION\n",
        "END SOLUTION"
      ],
      "execution_count": null,
      "outputs": []
    },
    {
      "cell_type": "markdown",
      "metadata": {
        "kernel": "Python 3 (ipykernel)",
        "nbgrader": {
          "grade": false,
          "grade_id": "c-012",
          "locked": true,
          "schema_version": 3,
          "solution": false,
          "task": false
        }
      },
      "source": [
        "\n",
        "# <font color=\"green\"> Problem 6 :  反発係数</font>",
        "\n",
        "前問を修正して, バウンドする際の反発係数$e < 1$を設定できるようにした関数 free_fall2(v0, theta, e, T) を書いて実行せよ. \n",
        ""
      ]
    },
    {
      "cell_type": "code",
      "metadata": {
        "kernel": "Python 3 (ipykernel)",
        "nbgrader": {
          "grade": true,
          "grade_id": "p-006",
          "locked": false,
          "schema_version": 3,
          "solution": true,
          "task": false,
          "points": 1
        }
      },
      "source": [
        "BEGIN SOLUTION\n",
        "END SOLUTION"
      ],
      "execution_count": null,
      "outputs": []
    }
  ],
  "metadata": {
    "celltoolbar": "Create Assignment",
    "kernelspec": {
      "display_name": "Python 3 (ipykernel)",
      "language": "python",
      "name": "python3"
    },
    "language_info": {
      "codemirror_mode": {
        "name": "ipython",
        "version": 3
      },
      "file_extension": ".py",
      "mimetype": "text/x-python",
      "name": "python",
      "nbconvert_exporter": "python",
      "pygments_lexer": "ipython3",
      "version": "3.8.10"
    }
  },
  "nbformat": 4,
  "nbformat_minor": 4
}