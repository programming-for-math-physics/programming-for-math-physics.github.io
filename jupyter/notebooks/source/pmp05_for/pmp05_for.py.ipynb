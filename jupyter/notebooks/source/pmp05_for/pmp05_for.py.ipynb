{
  "cells": [
    {
      "cell_type": "markdown",
      "metadata": {
        "kernel": "Python 3 (ipykernel)",
        "nbgrader": {
          "grade": false,
          "grade_id": "c-001",
          "locked": true,
          "schema_version": 3,
          "solution": false,
          "task": false
        }
      },
      "source": [
        "\n",
        "#  for文",
        "\n",
        " * for文は同じ文を何度も繰り返し実行する文で, 関数を定義できる機能と合わせてプログラム言語の<font color=\"blue\">最重要機能</font>\n",
        " * 「同じ文を何度も繰り返し」実行と言っても全く同じ計算を何度も繰り返しても普通は意味がない. 「変数」を使うことで, 同じ文でも異なる計算ができる. \n",
        " * もう一つの重要な文が if文. 条件によってことなる動作をさせたい時に使う\n",
        " * 関数定義, for, ifを使いこなせばかなりのことができるようになる\n",
        " * <a href=\"https://docs.python.org/ja/3.8/tutorial/controlflow.html#for-statements\" target=\"_blank\">チュートリアル for文の節</a>も参照: \n",
        ""
      ]
    },
    {
      "cell_type": "markdown",
      "metadata": {
        "kernel": "Python 3 (ipykernel)",
        "nbgrader": {
          "grade": false,
          "grade_id": "c-002",
          "locked": true,
          "schema_version": 3,
          "solution": false,
          "task": false
        }
      },
      "source": [
        "\n",
        "# 1. for文の基本",
        "\n",
        "for文の一番簡単な例は以下\n",
        ""
      ]
    },
    {
      "cell_type": "code",
      "metadata": {
        "kernel": "Python 3 (ipykernel)",
        "nbgrader": {
          "grade": false,
          "grade_id": "c-003",
          "locked": true,
          "schema_version": 3,
          "solution": false,
          "task": false
        }
      },
      "source": [
        "for i in range(2, 7):\n",
        "    print(i)"
      ],
      "execution_count": null,
      "outputs": []
    },
    {
      "cell_type": "markdown",
      "metadata": {
        "kernel": "Python 3 (ipykernel)",
        "nbgrader": {
          "grade": false,
          "grade_id": "c-004",
          "locked": true,
          "schema_version": 3,
          "solution": false,
          "task": false
        }
      },
      "source": [
        "\n",
        "__for文の文法 (後に拡張する):__\n",
        "\n",
        "```\n",
        "for 名前 in range ( 式1 , 式2 ) : \n",
        "    文1\n",
        "    ...\n",
        "    文m\n",
        "```\n",
        "\n",
        " * __文法上の注意:__\n",
        "  * 関数定義と同様, for文の中身は字下げをする必要がある\n",
        "  * 複数の文 (文1 ... 文m)を並べることができるがその場合は同じだけ字下げをする\n",
        "\n",
        " * __for文の意味(実行規則):__\n",
        "  * まず式1と式2が計算される. 結果をそれぞれa, bとする\n",
        "  * a, bはともに整数でなくてはならない. そうでなければエラーになる\n",
        "  * 「名前(変数)」をa, a+1, a+2, ... b-1 (a以上b未満)として文1 ... 文m が繰り返し(つまり(b - a)回)実行される\n",
        ""
      ]
    },
    {
      "cell_type": "markdown",
      "metadata": {
        "kernel": "Python 3 (ipykernel)",
        "nbgrader": {
          "grade": false,
          "grade_id": "c-005",
          "locked": true,
          "schema_version": 3,
          "solution": false,
          "task": false
        }
      },
      "source": [
        "したがって\n",
        "\n",
        "```\n",
        "for i in range(2, 7):\n",
        "    print(i)\n",
        "```\n",
        "\n",
        "を実行すると,\n",
        "\n",
        "```\n",
        "print(2)\n",
        "print(3)\n",
        "print(4)\n",
        "print(5)\n",
        "print(6)\n",
        "```\n",
        "\n",
        "を実行したのと同じことになる.\n",
        "\n",
        "print(x) は x の値を表示する効果を持つ関数. したがって, 2, 3, 4, 5, 6が表示される\n",
        ""
      ]
    },
    {
      "cell_type": "markdown",
      "metadata": {
        "kernel": "Python 3 (ipykernel)",
        "nbgrader": {
          "grade": false,
          "grade_id": "c-006",
          "locked": true,
          "schema_version": 3,
          "solution": false,
          "task": false
        }
      },
      "source": [
        "\n",
        "なお, 式1 (と ,)を省略することもでき, その場合は式1は0の意味になる.  つまり\n",
        "\n",
        "```\n",
        "for 名前 in range (式) : \n",
        "    文1\n",
        "    ...\n",
        "    文m\n",
        "```\n",
        "\n",
        "は\n",
        "\n",
        "```\n",
        "for 名前 in range (0, 式) : \n",
        "    文1\n",
        "    ...\n",
        "    文m\n",
        "```\n",
        "\n",
        "の意味. \n",
        ""
      ]
    },
    {
      "cell_type": "markdown",
      "metadata": {
        "kernel": "Python 3 (ipykernel)",
        "nbgrader": {
          "grade": false,
          "grade_id": "c-007",
          "locked": true,
          "schema_version": 3,
          "solution": false,
          "task": false
        }
      },
      "source": [
        "\n",
        "# 2. for文にまつわる用語",
        "\n",
        "```\n",
        "for 名前 in range ( 式1, 式2 ) : \n",
        "    文1\n",
        "    ...\n",
        "    文m\n",
        "```\n",
        "\n",
        "において,\n",
        "\n",
        " * 文1, ..., 文m のことをfor文の<font color=\"blue\">「本体 (body)」</font>という\n",
        " * プログラミング言語ではfor文に限らず, 同じ文を繰り返し実行する文が他にもある. これらのことを一般に<font color=\"blue\">「ループ」</font>とも言う. 「ループ」を使いこなせるようになることはプログラミング言語になれることの多くの部分を占める\n",
        ""
      ]
    },
    {
      "cell_type": "markdown",
      "metadata": {
        "kernel": "Python 3 (ipykernel)",
        "nbgrader": {
          "grade": false,
          "grade_id": "c-008",
          "locked": true,
          "schema_version": 3,
          "solution": false,
          "task": false
        }
      },
      "source": [
        "\n",
        "__for 文を実行しながら, 変数を更新していき, 終了時にその変数に答えが入っているようにする__ というパターンが非常に多く現れる. \n",
        "\n",
        "例えば以下は 0 + 1 + 2 + ... + 99 を計算する for 文である(以下を実行すると s に答えが格納される).\n",
        ""
      ]
    },
    {
      "cell_type": "code",
      "metadata": {
        "kernel": "Python 3 (ipykernel)",
        "nbgrader": {
          "grade": false,
          "grade_id": "c-009",
          "locked": true,
          "schema_version": 3,
          "solution": false,
          "task": false
        }
      },
      "source": [
        "s = 0\n",
        "for i in range(100):\n",
        "    s = s + i"
      ],
      "execution_count": null,
      "outputs": []
    },
    {
      "cell_type": "code",
      "metadata": {
        "kernel": "Python 3 (ipykernel)",
        "nbgrader": {
          "grade": false,
          "grade_id": "c-010",
          "locked": true,
          "schema_version": 3,
          "solution": false,
          "task": false
        }
      },
      "source": [
        "s"
      ],
      "execution_count": null,
      "outputs": []
    },
    {
      "cell_type": "markdown",
      "metadata": {
        "kernel": "Python 3 (ipykernel)",
        "nbgrader": {
          "grade": false,
          "grade_id": "c-011",
          "locked": true,
          "schema_version": 3,
          "solution": false,
          "task": false
        }
      },
      "source": [
        "\n",
        "関数を使えば「100」の部分をパラメータにすることが出来, 以下は, nが与えられたら, 0 + 1 + ... + (n-1) を計算する関数である.\n",
        ""
      ]
    },
    {
      "cell_type": "code",
      "metadata": {
        "kernel": "Python 3 (ipykernel)",
        "nbgrader": {
          "grade": false,
          "grade_id": "c-012",
          "locked": true,
          "schema_version": 3,
          "solution": false,
          "task": false
        }
      },
      "source": [
        "def sum_to_n(n):\n",
        "    s = 0\n",
        "    for i in range(n):\n",
        "        s = s + i\n",
        "    return s"
      ],
      "execution_count": null,
      "outputs": []
    },
    {
      "cell_type": "code",
      "metadata": {
        "kernel": "Python 3 (ipykernel)",
        "nbgrader": {
          "grade": false,
          "grade_id": "c-013",
          "locked": true,
          "schema_version": 3,
          "solution": false,
          "task": false
        }
      },
      "source": [
        "sum_to_n(100)"
      ],
      "execution_count": null,
      "outputs": []
    },
    {
      "cell_type": "code",
      "metadata": {
        "kernel": "Python 3 (ipykernel)",
        "nbgrader": {
          "grade": false,
          "grade_id": "c-014",
          "locked": true,
          "schema_version": 3,
          "solution": false,
          "task": false
        }
      },
      "source": [
        "sum_to_n(1000)"
      ],
      "execution_count": null,
      "outputs": []
    },
    {
      "cell_type": "markdown",
      "metadata": {
        "kernel": "Python 3 (ipykernel)",
        "nbgrader": {
          "grade": false,
          "grade_id": "c-015",
          "locked": true,
          "schema_version": 3,
          "solution": false,
          "task": false
        }
      },
      "source": [
        "\n",
        "これを実行するとおきることは,\n",
        "\n",
        "```\n",
        "s = 0\n",
        "s = s + 1\n",
        "s = s + 2\n",
        "\n",
        "  ...\n",
        "\n",
        "s = s + (n - 1)\n",
        "```\n",
        "\n",
        "ということであり, 確かに, 結果として 0 + 1 + ... + (n - 1) が計算されている\n",
        ""
      ]
    },
    {
      "cell_type": "markdown",
      "metadata": {
        "kernel": "Python 3 (ipykernel)",
        "nbgrader": {
          "grade": false,
          "grade_id": "c-016",
          "locked": true,
          "schema_version": 3,
          "solution": false,
          "task": false
        }
      },
      "source": [
        "\n",
        "* 繰り返しは同じ文を一度書くだけで何度も実行できるようになるので, 100回同じ文を実行するのに同じ文を100回書かなくて済む, というご利益もあるのだが, もっと大事なことは, 繰り返し__<font color=\"blue\">回数自身をパラメータにできる</font>__ (nを与えられたらn回繰り返すとか, 答えを求めるのに必要な回数だけ繰り返すなど)というところ. この機能がないと, 「与えられたnに対し 0 + 1 + ... + (n-1) を計算する」関数を書くことは困難である.\n",
        ""
      ]
    },
    {
      "cell_type": "markdown",
      "metadata": {
        "kernel": "Python 3 (ipykernel)",
        "nbgrader": {
          "grade": false,
          "grade_id": "c-017",
          "locked": true,
          "schema_version": 3,
          "solution": false,
          "task": false
        }
      },
      "source": [
        "\n",
        "# 3. 「やりたい計算」をする for 文の作り方",
        "\n",
        "* プログラミングをマスターするためにできるようにならなくてはならないことは, ある計算をfor文に翻訳すること. 英語の勉強でいえば「英作文」にあたる(for文が与えられてそれが何をするかを理解できるのが「英文解釈」).\n",
        "\n",
        "* 例題として, 「nを与えられたらn!」を計算する関数 fact(n) を書いてみよう.\n",
        "\n",
        "* つまり,\n",
        "\n",
        "> fact(n) = 1 * 2 * ... * n\n",
        "\n",
        "がやりたい計算.\n",
        "\n",
        "* この右辺をこのままではプログラムに出来ない理由は, ... が含まれているからで, ... を「同じ文の繰り返し」に焼き直すことが for文への翻訳ということになる. \n",
        "\n",
        "* まずは自分が紙の上でどう, n! を計算するかを思い浮かべてみると良い. すると\n",
        "\n",
        "```\n",
        "  1 * 2 -> 2\n",
        "  2 * 3 -> 6\n",
        "  6 * 4 -> 24\n",
        " 24 * 5 -> 120\n",
        "120 * 6 -> 720\n",
        "    ...\n",
        "```\n",
        "\n",
        "みたいなことをやっている.\n",
        "\n",
        "* ある計算した結果(1, 2, 6, ...)を次の行で使っている部分は, 変数を使って表現できる. 上記を変数への代入を使って書き換えるならば,\n",
        "\n",
        "```\n",
        "  p = 1 * 2 (= 2)\n",
        "  p = p * 3 (= 6)\n",
        "  p = p * 4 (= 24)\n",
        "  p = p * 5 (= 120)\n",
        "  p = p * 6 (= 720)\n",
        "    ...\n",
        "  p = p * n\n",
        "```\n",
        "\n",
        "という計算をしているとわかる. 1行目だけpを使っていないのが気持ちが悪いので以下のように書き換えておくのが良い\n",
        "\n",
        "```\n",
        "  p = 1\n",
        "  # --- 以下が繰り返し行われる計算 ---\n",
        "  p = p * 2 (= 2)\n",
        "  p = p * 3 (= 6)\n",
        "  p = p * 4 (= 24)\n",
        "  p = p * 5 (= 120)\n",
        "  p = p * 6 (= 720)\n",
        "    ...\n",
        "  p = p * n\n",
        "```\n",
        "\n",
        "ここまでくればfor文に書き換えることは容易い\n",
        "\n",
        "```\n",
        "p = 1\n",
        "for i を 2, 3, 4, ..., n としながら\n",
        "    p = p * i\n",
        "pに答えが残っているはず\n",
        "```\n",
        "\n",
        "関数の形でまとめておくと以下のようになる\n",
        ""
      ]
    },
    {
      "cell_type": "code",
      "metadata": {
        "kernel": "Python 3 (ipykernel)",
        "nbgrader": {
          "grade": false,
          "grade_id": "c-018",
          "locked": true,
          "schema_version": 3,
          "solution": false,
          "task": false
        }
      },
      "source": [
        "def fact(n):\n",
        "    p = 1\n",
        "    for i in range(2, n+1):\n",
        "        p = p * i\n",
        "    return p"
      ],
      "execution_count": null,
      "outputs": []
    },
    {
      "cell_type": "markdown",
      "metadata": {
        "kernel": "Python 3 (ipykernel)",
        "nbgrader": {
          "grade": false,
          "grade_id": "c-019",
          "locked": true,
          "schema_version": 3,
          "solution": false,
          "task": false
        }
      },
      "source": [
        "\n",
        "なお, あまりこだわる必要はないが, 上記を n = 0 でも正しくしようと思えば,  0! = 1 なので\n",
        "\n",
        "```\n",
        "  p = 1   # 0! \n",
        "  # --- 以下が繰り返し行われる計算 ---\n",
        "  p = p * 1 (= 1)\n",
        "  p = p * 2 (= 2)\n",
        "  p = p * 3 (= 6)\n",
        "  p = p * 4 (= 24)\n",
        "  p = p * 5 (= 120)\n",
        "  p = p * 6 (= 720)\n",
        "    ...\n",
        "  p = p * n\n",
        "```\n",
        "\n",
        "としておく方が気持ちは良い(答えは一緒だが偶然).\n",
        ""
      ]
    },
    {
      "cell_type": "code",
      "metadata": {
        "kernel": "Python 3 (ipykernel)",
        "nbgrader": {
          "grade": false,
          "grade_id": "c-020",
          "locked": true,
          "schema_version": 3,
          "solution": false,
          "task": false
        }
      },
      "source": [
        "def fact(n):\n",
        "    p = 1\n",
        "    for i in range(1, n+1):\n",
        "        p = p * i\n",
        "    return p"
      ],
      "execution_count": null,
      "outputs": []
    },
    {
      "cell_type": "code",
      "metadata": {
        "kernel": "Python 3 (ipykernel)",
        "nbgrader": {
          "grade": false,
          "grade_id": "c-021",
          "locked": true,
          "schema_version": 3,
          "solution": false,
          "task": false
        }
      },
      "source": [
        "fact(0)"
      ],
      "execution_count": null,
      "outputs": []
    },
    {
      "cell_type": "code",
      "metadata": {
        "kernel": "Python 3 (ipykernel)",
        "nbgrader": {
          "grade": false,
          "grade_id": "c-022",
          "locked": true,
          "schema_version": 3,
          "solution": false,
          "task": false
        }
      },
      "source": [
        "fact(1)"
      ],
      "execution_count": null,
      "outputs": []
    },
    {
      "cell_type": "code",
      "metadata": {
        "kernel": "Python 3 (ipykernel)",
        "nbgrader": {
          "grade": false,
          "grade_id": "c-023",
          "locked": true,
          "schema_version": 3,
          "solution": false,
          "task": false
        }
      },
      "source": [
        "fact(2)"
      ],
      "execution_count": null,
      "outputs": []
    },
    {
      "cell_type": "code",
      "metadata": {
        "kernel": "Python 3 (ipykernel)",
        "nbgrader": {
          "grade": false,
          "grade_id": "c-024",
          "locked": true,
          "schema_version": 3,
          "solution": false,
          "task": false
        }
      },
      "source": [
        "fact(3)"
      ],
      "execution_count": null,
      "outputs": []
    },
    {
      "cell_type": "code",
      "metadata": {
        "kernel": "Python 3 (ipykernel)",
        "nbgrader": {
          "grade": false,
          "grade_id": "c-025",
          "locked": true,
          "schema_version": 3,
          "solution": false,
          "task": false
        }
      },
      "source": [
        "fact(20)"
      ],
      "execution_count": null,
      "outputs": []
    },
    {
      "cell_type": "code",
      "metadata": {
        "kernel": "Python 3 (ipykernel)",
        "nbgrader": {
          "grade": false,
          "grade_id": "c-026",
          "locked": true,
          "schema_version": 3,
          "solution": false,
          "task": false
        }
      },
      "source": [
        "fact(100)"
      ],
      "execution_count": null,
      "outputs": []
    },
    {
      "cell_type": "markdown",
      "metadata": {
        "kernel": "Python 3 (ipykernel)",
        "nbgrader": {
          "grade": false,
          "grade_id": "c-027",
          "locked": true,
          "schema_version": 3,
          "solution": false,
          "task": false
        }
      },
      "source": [
        "\n",
        "__このようなプログラムは<font color=\"blue\">「超頻出パターン」</font>.__ \n",
        "\n",
        "具体的には\n",
        "\n",
        " 1. ループ実行前に変数の値(初期値)をセット\n",
        " 1. ループ中 (for文の本体中)で, 変数を繰り返し更新する\n",
        " 1. ループ終了時に変数に求めたい答えが残っている\n",
        "\n",
        "というパターン.\n",
        "こういうものを書けるようになることはプログラムによる計算になれることの多くの部分を占める.\n",
        "\n",
        "なお, しばしば最初のステップ(ループ実行前に変数の値(初期値)をセット)を忘れることがあるので注意せよ. 「for文の中で繰り返し更新される変数」が出てきたら, 99%, for文実行に先立って初期値を代入しておく必要があるので, for文を書いているときは反射的に「初期値を代入しなくてよいか?」と気をつけるようになって下さい.\n",
        ""
      ]
    },
    {
      "cell_type": "markdown",
      "metadata": {
        "kernel": "Python 3 (ipykernel)",
        "nbgrader": {
          "grade": false,
          "grade_id": "c-028",
          "locked": true,
          "schema_version": 3,
          "solution": false,
          "task": false
        }
      },
      "source": [
        "\n",
        "# 4. for文(ループ)を間違いなく書くときのコツ",
        "\n",
        "* for文を含む計算を書くとしばしば, 繰り返し回数が1ずれる, 使う変数の値が1ずれる, という間違いを犯しがちである(小学校の算数で植木算とか, 曜日を求める計算で頭がこんがらかるのと同じ)\n",
        "* 例えば\n",
        "\n",
        "```\n",
        "def fact(n):\n",
        "    p = 1\n",
        "    for i in range(1, n+1):\n",
        "        p = p * i\n",
        "    return p\n",
        "```\n",
        "\n",
        "を\n",
        "\n",
        "```\n",
        "def fact(n):\n",
        "    p = 1\n",
        "    for i in range(1, n):\n",
        "        p = p * i\n",
        "    return p\n",
        "```\n",
        "\n",
        "としては間違いだし,\n",
        "\n",
        "```\n",
        "def fact(n):\n",
        "    p = 1\n",
        "    for i in range(0, n):\n",
        "        p = p * i\n",
        "    return p\n",
        "```\n",
        "\n",
        "も間違い.\n",
        "\n",
        "```\n",
        "def fact(n):\n",
        "    p = 1\n",
        "    for i in range(0, n):\n",
        "        p = p * (i + 1)\n",
        "    return p\n",
        "```\n",
        "\n",
        "は正解. このような, 変数が1ずれる間違いを防ぐためには, nが0, 1, 2などの小さい数のときに正しく動くかを確かめるのが良い\n",
        "\n",
        "* 一般には, 意識して\n",
        "  * for文が一度も回らないケース\n",
        "  * for文が一度だけ回るケース\n",
        "\n",
        "などで答えが正しいかを確かめるのが良い. \n",
        "\n",
        "```\n",
        "def fact(n):\n",
        "    p = 1\n",
        "    for i in range(1, n):\n",
        "        p = p * i\n",
        "    return p\n",
        "```\n",
        "\n",
        "であれば,\n",
        "\n",
        "* n = 1として実行すると, for文の本体は一度も実行されないので, return 1 (これは正解)\n",
        "* n = 2として実行すると, for文の本体は一度だけ(p = p * 1 が)実行され, return 1 (これは不正解)\n",
        "\n",
        "となり, 間違いが検出できる.\n",
        "\n",
        "```\n",
        "def fact(n):\n",
        "    p = 1\n",
        "    for i in range(0, n):\n",
        "        p = p * (i + 1)\n",
        "    return p\n",
        "```\n",
        "\n",
        "は\n",
        "\n",
        "  | n | 実行されるfor文の本体 | returnされる値 | 計算されるべき値 |\n",
        "  | - | --------------------- | -------------- | ---------------- |\n",
        "  | 0 | なし                  | 1              | 1                |\n",
        "  | 1 | p = p * 1             | 1              | 1                |\n",
        "  | 2 | p = p * 1; p = p * 2  | 2              | 2                |\n",
        "\n",
        "だから正しそうな気がする. ついでに n のとき, for文の最後の一回が, \n",
        "\n",
        "```\n",
        "p = p * n\n",
        "```\n",
        "\n",
        "であることを見ておけばおそらく正しく n! が計算されているだろうと, ほぼ確信できる\n",
        ""
      ]
    },
    {
      "cell_type": "markdown",
      "metadata": {
        "kernel": "Python 3 (ipykernel)",
        "nbgrader": {
          "grade": false,
          "grade_id": "c-029",
          "locked": true,
          "schema_version": 3,
          "solution": false,
          "task": false
        }
      },
      "source": [
        "\n",
        "# <font color=\"green\"> Problem 1 :  漸化式</font>",
        "\n",
        "実数$a$, $b$, $c$と整数$n$を受取り,\n",
        "\n",
        "$$ \\begin{array}{rcl} x_0 & = & c \\\\ x_n & = & a x_{n-1} + b \\end{array}$$\n",
        "\n",
        "で定まる数列 $\\{x_n\\}$ の 第$n$項 $x_n$を求める関数 linrec(a,b,c,n) を書け.\n",
        ""
      ]
    },
    {
      "cell_type": "code",
      "metadata": {
        "kernel": "Python 3 (ipykernel)",
        "nbgrader": {
          "grade": true,
          "grade_id": "p-001",
          "locked": false,
          "schema_version": 3,
          "solution": true,
          "task": false,
          "points": 1
        }
      },
      "source": [
        "BEGIN SOLUTION\n",
        "END SOLUTION"
      ],
      "execution_count": null,
      "outputs": []
    },
    {
      "cell_type": "code",
      "metadata": {
        "kernel": "Python 3 (ipykernel)",
        "nbgrader": {
          "grade": true,
          "grade_id": "p-002",
          "locked": true,
          "schema_version": 3,
          "solution": true,
          "task": false,
          "points": 1
        }
      },
      "source": [
        "BEGIN SOLUTION\n",
        "END SOLUTION\n",
        "# test\n",
        "# a が1ならただの等差数列\n",
        "assert(linrec(1,1,0,100) == 100), (linrec(1,1,0,100), 100)\n",
        "# b が0ならただの等比数列\n",
        "assert(linrec(3,0,1,10) == 3 ** 10), (linrec(3,0,1,10), 3 ** 10)\n",
        "print(\"OK\")\n",
        "\n",
        "def check_linrec(a, b, c):\n",
        "    # |a| < 1 の場合, ax+b = x の解に収束する\n",
        "    n = 1000000\n",
        "    x_inf = linrec(a, b, c, n)\n",
        "    assert(abs(a * x_inf + b - x_inf) < 1.0e-6), (x_inf, a * x_inf + b)\n",
        "    print(\"OK\")\n",
        "\n",
        "check_linrec(0.875, 1.0, 1.0)"
      ],
      "execution_count": null,
      "outputs": []
    },
    {
      "cell_type": "markdown",
      "metadata": {
        "kernel": "Python 3 (ipykernel)",
        "nbgrader": {
          "grade": false,
          "grade_id": "c-030",
          "locked": true,
          "schema_version": 3,
          "solution": false,
          "task": false
        }
      },
      "source": [
        "\n",
        "* ところでfor文で変数を繰り返し更新するという計算は, ほとんど漸化式の計算そのものと言っても良い.  一般に,\n",
        "\n",
        "```\n",
        "x = c\n",
        "for i in range(n):\n",
        "    x = f(x, i)\n",
        "```\n",
        "\n",
        "という計算をした結果, for文終了後にxに格納されるのは, \n",
        "\n",
        "$$ \\begin{array}{rcl} x_0 & = & c \\\\ x_{i+1} & = & f(x_i, i) \\quad\\quad\\quad (\\dagger) \\end{array} $$\n",
        "\n",
        "で定まる数列の$x_n$そのものである(※). それは以下のように考えればすぐにわかる(数学的帰納法).\n",
        "\n",
        " * $n=0$のとき主張(※)は正しい: 実際プログラムの方では, for文は一回も繰り返さないので終了後にx=cを満たしている. それは実際$x_0$と等しい.\n",
        " * $n=k$まで主張(※)が正しかったとする. すなわち\n",
        "```\n",
        "x = c\n",
        "for i in range(k):\n",
        "    x = f(x, i)\n",
        "```\n",
        "は終了後にx=$x_k$を満たしているとする.\n",
        "すると,\n",
        "```\n",
        "x = c\n",
        "for i in range(k+1):\n",
        "    x = f(x, i)\n",
        "```\n",
        "が終了した際にxに残る値は明らかに$f(x_k, k)$で, すなわちそれは$x_{k+1}$である. 故に主張(※)は$n = k+1$の場合も正しい\n",
        "\n",
        "だから, 求めたい値を for 文に翻訳するのに, 前述したような, 計算の過程をイメージする代わりに, 求めたい値を($\\dagger$)の形式の漸化式で書いてみるというのは良い手段である. \n",
        "\n",
        "例えば$n$を与えられて\n",
        "\n",
        "$$  0 + 1 + ... + (n-1) $$\n",
        "\n",
        "を計算するプログラムを書けと言われたら以下のように考えれば良い.\n",
        "\n",
        " * 上記を $s_n$ とする. それは以下の漸化式を満たす\n",
        "\n",
        "$$ \\begin{array}{rcl} s_0 & = & 0 \\\\ s_{i+1} & = & s_i + i \\end{array} $$\n",
        "\n",
        "ゆえに,\n",
        "\n",
        "```\n",
        "def sum_to_n(n):\n",
        "  s = 0\n",
        "  for i in range(n):\n",
        "    s = s + i\n",
        "  return s\n",
        "```\n",
        "\n",
        "でそれが計算できる.\n",
        ""
      ]
    },
    {
      "cell_type": "markdown",
      "metadata": {
        "kernel": "Python 3 (ipykernel)",
        "nbgrader": {
          "grade": false,
          "grade_id": "c-031",
          "locked": true,
          "schema_version": 3,
          "solution": false,
          "task": false
        }
      },
      "source": [
        "\n",
        "しつこいようだがもう一つの例題として, $n$を与えられて $n!$\n",
        "\n",
        "$$ 1 \\cdot 2 \\cdot \\cdots \\cdot n $$\n",
        "\n",
        "を計算するプログラムを書けと言われたら以下のように考えれば良い.\n",
        "\n",
        " * 上記を $p_n$ とすると\n",
        "\n",
        "$$ \\begin{array}{rcl} p_0 & = & 1 \\\\ p_{i+1} & = & p_i \\cdot (i + 1) \\end{array}$$\n",
        "\n",
        "である. 故に以下が答え\n",
        "\n",
        "```\n",
        "def fact(n):\n",
        "    p = 1\n",
        "    for i in range(n):\n",
        "        p = p * (i + 1)\n",
        "    return p\n",
        "```\n",
        ""
      ]
    },
    {
      "cell_type": "markdown",
      "metadata": {
        "kernel": "Python 3 (ipykernel)",
        "nbgrader": {
          "grade": false,
          "grade_id": "c-032",
          "locked": true,
          "schema_version": 3,
          "solution": false,
          "task": false
        }
      },
      "source": [
        "\n",
        "# <font color=\"green\"> Problem 2 :  3乗根</font>",
        "\n",
        "次で定まる数列の第$n$項を計算する関数sqrt3(c, n)を書け．\n",
        "\n",
        "$$ \\begin{array}{rcl}\n",
        "a_0 & = & c, \\\\\n",
        "a_{n+1} & = & \\frac{1}{3} \\left(2a_{n} + \\frac{c}{a_{n}^2}\\right) \\;\\; (n > 0).\n",
        "\\end{array} $$\n",
        "\n",
        "これは$\\sqrt[3]{c}$に収束する数列で, \n",
        "ある程度大きな$n$に対して, \n",
        "a($c$, $n$)を計算すればそれが, $\\sqrt[3]{c}$の近似値となる.\n",
        "\n",
        "a($c$, $n$)を3乗して, 結果がほぼ$c$と同じになるか確かめよ．\n",
        ""
      ]
    },
    {
      "cell_type": "code",
      "metadata": {
        "kernel": "Python 3 (ipykernel)",
        "nbgrader": {
          "grade": true,
          "grade_id": "p-003",
          "locked": false,
          "schema_version": 3,
          "solution": true,
          "task": false,
          "points": 1
        }
      },
      "source": [
        "BEGIN SOLUTION\n",
        "END SOLUTION"
      ],
      "execution_count": null,
      "outputs": []
    },
    {
      "cell_type": "code",
      "metadata": {
        "kernel": "Python 3 (ipykernel)",
        "nbgrader": {
          "grade": true,
          "grade_id": "p-004",
          "locked": true,
          "schema_version": 3,
          "solution": true,
          "task": false,
          "points": 1
        }
      },
      "source": [
        "BEGIN SOLUTION\n",
        "END SOLUTION\n",
        "# test\n",
        "import math\n",
        "assert(sqrt3(27, 100) == 3), sqrt3(27, 100)\n",
        "assert(math.isclose(sqrt3(10, 100) ** 3, 10)), sqrt3(10, 100)\n",
        "print(\"OK\")"
      ],
      "execution_count": null,
      "outputs": []
    },
    {
      "cell_type": "markdown",
      "metadata": {
        "kernel": "Python 3 (ipykernel)",
        "nbgrader": {
          "grade": false,
          "grade_id": "c-033",
          "locked": true,
          "schema_version": 3,
          "solution": false,
          "task": false
        }
      },
      "source": [
        "\n",
        "以降の練習のため, \n",
        "\n",
        "for文を一回繰り返す毎に\n",
        "$a_i$の値を表示するprint文を挿入して，\n",
        "$\\sqrt[3]{c}$に収束していく様子を表示してみよ.\n",
        "\n",
        "ただし$n$は小さな値(10とか)で実行すること\n",
        "(さもないとブラウザの出力がprint文による表示で埋め尽くされてしまう).\n",
        "\n",
        "これは，計算結果が思うようにでない場合の最も基本的な調査手段．"
      ]
    },
    {
      "cell_type": "markdown",
      "metadata": {
        "kernel": "Python 3 (ipykernel)",
        "nbgrader": {
          "grade": false,
          "grade_id": "c-034",
          "locked": true,
          "schema_version": 3,
          "solution": false,
          "task": false
        }
      },
      "source": [
        "\n",
        "__参考:__ 一般に, $f(x) = 0$の解を求めるのに以下のニュートン法が用いられる.\n",
        "\n",
        "$$ \\begin{array}{rcl} a_0 & = & c, \\\\ a_{n+1} & = & a_n - f(a_n)/f'(a_n) \\;\\; (n > 0). \\end{array} $$\n",
        "\n",
        "これが__収束するならば__, $x = x - f(x)/f'(x)$を満たす$x$,  \n",
        "すなわち$f(x) = 0$を満たす$x$に収束することは明らか. \n",
        "本問はこれを, $f(x) = x^3 - c$に適用したものである.\n",
        "\n",
        "ただし, 収束するとは限らないので無条件に使えるわけではない.\n",
        ""
      ]
    },
    {
      "cell_type": "markdown",
      "metadata": {
        "kernel": "Python 3 (ipykernel)",
        "nbgrader": {
          "grade": false,
          "grade_id": "c-035",
          "locked": true,
          "schema_version": 3,
          "solution": false,
          "task": false
        }
      },
      "source": [
        "\n",
        "# <font color=\"green\"> Problem 3 :  積分</font>",
        "\n",
        "* 積分\n",
        "$$ \\int_a^b f(x)\\,dx $$\n",
        "の定義は以下のようなものである.\n",
        "\n",
        " * 区間$[a,b]$を$n$分割する. つまり$a = x_0 < x_1 < \\cdots < x_{n-1} < x_n = b$ となるように$x_i$を選ぶ. $x_{i+1} - x_i = \\Delta x_i$ と書く.\n",
        " * そのもとで和\n",
        "$$\\sum_{i=0}^{n-1} f(x_i) \\Delta x_i$$\n",
        "を作る\n",
        " * $|\\Delta x_i| \\rightarrow 0$のとき上記の和が常に一定値$S$に収束するならば, $f$が$[a,b]$で__積分可能__と言って, $S$を求める積分値と定義する\n",
        "\n",
        "* 堅苦しい部分を抜きにすると, 要するに, $[a,b]$を充分細かく分割して, $f(x) \\Delta x$の和を作ればそれが($f$が$[a,b]$で積分可能ならば)積分の近似値になっている, ということである.\n",
        "\n",
        "* 手計算で積分をするとき, 被積分関数の原子関数(微分すると被積分関数になる関数)を発見的に求める必要があったが, 計算機で近似値を計算するときは, 上記の定義式にそのまましたがって, $[a,b]$内に点を多数とり, 実際に上記の和を計算する. 点を取る際も, もっとも単純に$n$等分するのが普通.\n",
        ""
      ]
    },
    {
      "cell_type": "markdown",
      "metadata": {
        "kernel": "Python 3 (ipykernel)",
        "nbgrader": {
          "grade": false,
          "grade_id": "c-036",
          "locked": true,
          "schema_version": 3,
          "solution": false,
          "task": false
        }
      },
      "source": [
        "\n",
        "* 上記の定義に従い, 積分\n",
        "\n",
        "$$ \\int_a^b \\sqrt{1-x^2}\\,dx $$\n",
        "\n",
        "の近似値を, $[a,b]$を$n$等分して計算する関数 int_circle(a, b, n) を書け(ただし$0 \\leq a \\leq b \\leq 1$を仮定して良い.\n",
        ""
      ]
    },
    {
      "cell_type": "code",
      "metadata": {
        "kernel": "Python 3 (ipykernel)",
        "nbgrader": {
          "grade": true,
          "grade_id": "p-005",
          "locked": false,
          "schema_version": 3,
          "solution": true,
          "task": false,
          "points": 1
        }
      },
      "source": [
        "BEGIN SOLUTION\n",
        "END SOLUTION"
      ],
      "execution_count": null,
      "outputs": []
    },
    {
      "cell_type": "code",
      "metadata": {
        "kernel": "Python 3 (ipykernel)",
        "nbgrader": {
          "grade": true,
          "grade_id": "p-006",
          "locked": true,
          "schema_version": 3,
          "solution": true,
          "task": false,
          "points": 1
        }
      },
      "source": [
        "BEGIN SOLUTION\n",
        "END SOLUTION\n",
        "# test\n",
        "assert(math.isclose(int_circle(0, 1, 100000), math.pi / 4, rel_tol=1.0e-3)), (int_circle(0, 1, 100000), math.pi / 4)\n",
        "print(\"OK\")"
      ],
      "execution_count": null,
      "outputs": []
    },
    {
      "cell_type": "markdown",
      "metadata": {
        "kernel": "Python 3 (ipykernel)",
        "nbgrader": {
          "grade": false,
          "grade_id": "c-037",
          "locked": true,
          "schema_version": 3,
          "solution": false,
          "task": false
        }
      },
      "source": [
        "\n",
        "# 5. 関数をとる関数",
        "\n",
        "* もし前問に引き続き,\n",
        "\n",
        "$$ \\int_a^b \\log x\\,dx $$\n",
        "\n",
        "とか\n",
        "\n",
        "$$ \\int_a^b \\sqrt{1+x^3} x\\,dx $$\n",
        "\n",
        "を求めよと言われたらどうするか?\n",
        "\n",
        "* おそらく, 先程のプログラム int_circle をほんの少しだけ書き換えて, 被積分関数を計算するところだけを変更することだろう.\n",
        "\n",
        "* そうすると, どうせ変更するのであれば「被積分関数」自身をパラメータとして受け取って, どんな被積分関数でも積分できる一つのPython関数を書けないものだろうかと思いたくなる.\n",
        "\n",
        "* 実際Pythonでは, それは難なくできる. Python関数はパラメータとして関数を受け取ることが出来, パラメータとして受け取った関数を呼び出すのに何も特別な記法は必要ない. 例えば以下は関数 f とその入力xを受取り, f(f(x)) を計算する関数.\n",
        ""
      ]
    },
    {
      "cell_type": "code",
      "metadata": {
        "kernel": "Python 3 (ipykernel)",
        "nbgrader": {
          "grade": false,
          "grade_id": "c-038",
          "locked": true,
          "schema_version": 3,
          "solution": false,
          "task": false
        }
      },
      "source": [
        "def app2(f, x):\n",
        "    return f(f(x))"
      ],
      "execution_count": null,
      "outputs": []
    },
    {
      "cell_type": "markdown",
      "metadata": {
        "kernel": "Python 3 (ipykernel)",
        "nbgrader": {
          "grade": false,
          "grade_id": "c-039",
          "locked": true,
          "schema_version": 3,
          "solution": false,
          "task": false
        }
      },
      "source": [
        "\n",
        "このfとして渡すべきものは, 当然Python関数である. 最初から組み込まれた{\\tt math.sin}, {\\tt math.cos} などでもよいし, 自分で定義したものでも良い.\n",
        ""
      ]
    },
    {
      "cell_type": "code",
      "metadata": {
        "kernel": "Python 3 (ipykernel)",
        "nbgrader": {
          "grade": false,
          "grade_id": "c-040",
          "locked": true,
          "schema_version": 3,
          "solution": false,
          "task": false
        }
      },
      "source": [
        "app2(math.sin, 1)"
      ],
      "execution_count": null,
      "outputs": []
    },
    {
      "cell_type": "code",
      "metadata": {
        "kernel": "Python 3 (ipykernel)",
        "nbgrader": {
          "grade": false,
          "grade_id": "c-041",
          "locked": true,
          "schema_version": 3,
          "solution": false,
          "task": false
        }
      },
      "source": [
        "app2(math.exp, 1)"
      ],
      "execution_count": null,
      "outputs": []
    },
    {
      "cell_type": "code",
      "metadata": {
        "kernel": "Python 3 (ipykernel)",
        "nbgrader": {
          "grade": false,
          "grade_id": "c-042",
          "locked": true,
          "schema_version": 3,
          "solution": false,
          "task": false
        }
      },
      "source": [
        "def my_fun(x):\n",
        "    return x ** x\n",
        "\n",
        "app2(my_fun, 2)"
      ],
      "execution_count": null,
      "outputs": []
    },
    {
      "cell_type": "markdown",
      "metadata": {
        "kernel": "Python 3 (ipykernel)",
        "nbgrader": {
          "grade": false,
          "grade_id": "c-043",
          "locked": true,
          "schema_version": 3,
          "solution": false,
          "task": false
        }
      },
      "source": [
        "\n",
        "# <font color=\"green\"> Problem 4 :  何でも積分できる関数</font>",
        "\n",
        "* 被積分関数$f$と$a$, $b$が与えられたら,\n",
        "\n",
        "$$ \\int_a^b f(x)\\,dx $$\n",
        "\n",
        "の近似値を, $[a,b]$を$n$等分して計算する関数 integral(f, a, b, n) を書け(ただし$f$は$\\leq a \\leq x \\leq b $で定義されているものと仮定して良い.\n",
        ""
      ]
    },
    {
      "cell_type": "code",
      "metadata": {
        "kernel": "Python 3 (ipykernel)",
        "nbgrader": {
          "grade": true,
          "grade_id": "p-007",
          "locked": false,
          "schema_version": 3,
          "solution": true,
          "task": false,
          "points": 1
        }
      },
      "source": [
        "BEGIN SOLUTION\n",
        "END SOLUTION"
      ],
      "execution_count": null,
      "outputs": []
    },
    {
      "cell_type": "code",
      "metadata": {
        "kernel": "Python 3 (ipykernel)",
        "nbgrader": {
          "grade": true,
          "grade_id": "p-008",
          "locked": true,
          "schema_version": 3,
          "solution": true,
          "task": false,
          "points": 1
        }
      },
      "source": [
        "BEGIN SOLUTION\n",
        "END SOLUTION\n",
        "# test\n",
        "assert(math.isclose(integral(math.sin, 0, math.pi/2, 1000000), 1, rel_tol=1.0e-3)), integral(math.sin, 0, math.pi/2, 1000000)\n",
        "assert(math.isclose(integral(math.exp, 0, 1, 1000000), math.e - 1, rel_tol=1.0e-3)), (integral(math.exp, 0, 1, 1000000), (math.e - 1))\n",
        "\n",
        "def some_func(x):\n",
        "    return x * x * x + x * x + x + 1\n",
        "\n",
        "assert(math.isclose(integral(some_func, 0, 1, 1000000), 2.083331833333774))\n",
        "print(\"OK\")"
      ],
      "execution_count": null,
      "outputs": []
    }
  ],
  "metadata": {
    "celltoolbar": "Create Assignment",
    "kernelspec": {
      "display_name": "Python 3 (ipykernel)",
      "language": "python",
      "name": "python3"
    },
    "language_info": {
      "codemirror_mode": {
        "name": "ipython",
        "version": 3
      },
      "file_extension": ".py",
      "mimetype": "text/x-python",
      "name": "python",
      "nbconvert_exporter": "python",
      "pygments_lexer": "ipython3",
      "version": "3.8.10"
    }
  },
  "nbformat": 4,
  "nbformat_minor": 4
}