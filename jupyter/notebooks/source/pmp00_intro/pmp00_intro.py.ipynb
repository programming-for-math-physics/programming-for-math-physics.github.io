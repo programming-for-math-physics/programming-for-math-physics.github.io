{
  "cells": [
    {
      "cell_type": "markdown",
      "metadata": {
        "kernel": "Python 3 (ipykernel)",
        "nbgrader": {
          "grade": false,
          "grade_id": "c-001",
          "locked": true,
          "schema_version": 3,
          "solution": false,
          "task": false
        }
      },
      "source": [
        "\n",
        "#  Jupyter環境の基本",
        "\n",
        "* Jupyter環境は, 今まさに使っているもので, 様々なプログラミング言語をウェブブラウザを通して実行し, プログラム, その出力, このようなドキュメント, を一緒にして保存できる仕組み.\n",
        "\n",
        "* 本初年次ゼミではJupyter環境を用いながら, Pythonというプログラミング言語を用いて, プログラミングを習得する.\n",
        "\n",
        "* Jupyterでは以下のような四角を __セル__ と呼ぶ.\n",
        "\n",
        "* セルには Pythonの__「式」__や__「文」__を, (いくつでも)書ける(「式」と「文」の違いは今は余り気にしなくて良い. 以下でわかる). "
      ]
    },
    {
      "cell_type": "code",
      "metadata": {
        "kernel": "Python 3 (ipykernel)",
        "nbgrader": {
          "grade": false,
          "grade_id": "c-002",
          "locked": false,
          "schema_version": 3,
          "solution": false,
          "task": false
        }
      },
      "source": [],
      "execution_count": null,
      "outputs": []
    },
    {
      "cell_type": "markdown",
      "metadata": {
        "kernel": "Python 3 (ipykernel)",
        "nbgrader": {
          "grade": false,
          "grade_id": "c-003",
          "locked": true,
          "schema_version": 3,
          "solution": false,
          "task": false
        }
      },
      "source": [
        "\n",
        "* セルの上でマウスをクリックするとセルが「選択」される\n",
        "* そこで`Shift + Enter` を入力する (`Shift`キーを押しながら`Enter`キーを押す)と, セルの中身が計算される (「計算する」=「式の値を規則に従って求める」ということなので, 「評価する」ということもある. また, 「実行する」ということもある)\n",
        "\n",
        "* 一部のセルは自分で修正したり, 一からコードを書くようになっており, 選択すると入力できる状態になる(その他にもキーボードの矢印キーで, 選択することもできる)\n",
        "* 自分では入力できないセルもある(単に書かれたものを実行して結果を見ることを想定している場合)\n",
        ""
      ]
    },
    {
      "cell_type": "markdown",
      "metadata": {
        "kernel": "Python 3 (ipykernel)",
        "nbgrader": {
          "grade": false,
          "grade_id": "c-004",
          "locked": true,
          "schema_version": 3,
          "solution": false,
          "task": false
        }
      },
      "source": [
        "\n",
        "# 1. まずはやってみよう",
        "\n",
        "* 以下のセルに何が書かれているかを確認し(雰囲気だけわかれば, 意味がわからなくても気にする必要はない), `Shift + Enter` を押して実行してみよ.\n",
        ""
      ]
    },
    {
      "cell_type": "code",
      "metadata": {
        "kernel": "Python 3 (ipykernel)",
        "nbgrader": {
          "grade": false,
          "grade_id": "c-005",
          "locked": true,
          "schema_version": 3,
          "solution": false,
          "task": false
        }
      },
      "source": [
        "1 + 2"
      ],
      "execution_count": null,
      "outputs": []
    },
    {
      "cell_type": "markdown",
      "metadata": {
        "kernel": "Python 3 (ipykernel)",
        "nbgrader": {
          "grade": false,
          "grade_id": "c-006",
          "locked": true,
          "schema_version": 3,
          "solution": false,
          "task": false
        }
      },
      "source": [
        "\n",
        "# 2. matplotlibでグラフが書ける",
        ""
      ]
    },
    {
      "cell_type": "code",
      "metadata": {
        "kernel": "Python 3 (ipykernel)",
        "nbgrader": {
          "grade": false,
          "grade_id": "c-007",
          "locked": true,
          "schema_version": 3,
          "solution": false,
          "task": false
        }
      },
      "source": [
        "%matplotlib inline"
      ],
      "execution_count": null,
      "outputs": []
    },
    {
      "cell_type": "code",
      "metadata": {
        "kernel": "Python 3 (ipykernel)",
        "nbgrader": {
          "grade": false,
          "grade_id": "c-008",
          "locked": true,
          "schema_version": 3,
          "solution": false,
          "task": false
        }
      },
      "source": [
        "import matplotlib.pyplot as plt\n",
        "import math\n",
        "\n",
        "X = range(0,100)\n",
        "Y = [ math.sin(0.2 * x) for x in X ]\n",
        "\n",
        "plt.plot(X, Y)\n",
        "plt.show()"
      ],
      "execution_count": null,
      "outputs": []
    },
    {
      "cell_type": "markdown",
      "metadata": {
        "kernel": "Python 3 (ipykernel)",
        "nbgrader": {
          "grade": false,
          "grade_id": "c-009",
          "locked": true,
          "schema_version": 3,
          "solution": false,
          "task": false
        }
      },
      "source": [
        "\n",
        "# 3. numpyで行列計算(など色々)ができる",
        "\n",
        "以下は\n",
        "\n",
        "$$ A = \\left(\\begin{array}{cc} 1 & 2 \\\\ 3 & 4 \\end{array}\\right) $$\n",
        "\n",
        "に対して\n",
        "\n",
        "$$ y = Ax$$\n",
        "\n",
        "を計算し, その後で(求まった$y$に対して方程式)\n",
        "\n",
        "$$ Ax = y$$\n",
        "\n",
        "を解いている(ので, 当然\n",
        "\n",
        "$$ x = \\left( \\begin{array}{cc} 5 \\\\ 6 \\end{array} \\right) $$\n",
        "\n",
        "が解として求まる\n",
        ""
      ]
    },
    {
      "cell_type": "code",
      "metadata": {
        "kernel": "Python 3 (ipykernel)",
        "nbgrader": {
          "grade": false,
          "grade_id": "c-010",
          "locked": true,
          "schema_version": 3,
          "solution": false,
          "task": false
        }
      },
      "source": [
        "import numpy as np\n",
        "A = np.matrix([[1,2],[3,4]])\n",
        "x = np.matrix([[5],[6]])\n",
        "y = A * x\n",
        "# Ax = y を解く\n",
        "print(np.linalg.solve(A, y))"
      ],
      "execution_count": null,
      "outputs": []
    },
    {
      "cell_type": "markdown",
      "metadata": {
        "kernel": "Python 3 (ipykernel)",
        "nbgrader": {
          "grade": false,
          "grade_id": "c-011",
          "locked": true,
          "schema_version": 3,
          "solution": false,
          "task": false
        }
      },
      "source": [
        "\n",
        "# 4. scipyでも色々な計算ができる",
        "\n",
        "以下は 単位円に内接する三角形の面積$S$の最大値(正確には$-2S$の最小値)を求めている.\n",
        "\n",
        "ご存知の(または容易に想像がつく)通り, 最大になるのは正三角形のときで, その面積は$\\frac{{3\\sqrt{{3}} }}{{4}}$なので, 以下では答えとして, $=-\\frac{{3\\sqrt{{3}} }}{{2}} \\approx -2.5980762...$が求まるはず.\n",
        ""
      ]
    },
    {
      "cell_type": "code",
      "metadata": {
        "kernel": "Python 3 (ipykernel)",
        "nbgrader": {
          "grade": false,
          "grade_id": "c-012",
          "locked": true,
          "schema_version": 3,
          "solution": false,
          "task": false
        }
      },
      "source": [
        "import scipy.optimize\n",
        "from math import pi,sin\n",
        "\n",
        "def f(x):\n",
        "    return - sin(x[0]) - sin(x[1]) - sin(2.0 * pi - x[0] - x[1])\n",
        "\n",
        "print(scipy.optimize.minimize(f, (0.5, 0.5)))"
      ],
      "execution_count": null,
      "outputs": []
    },
    {
      "cell_type": "markdown",
      "metadata": {
        "kernel": "Python 3 (ipykernel)",
        "nbgrader": {
          "grade": false,
          "grade_id": "c-013",
          "locked": true,
          "schema_version": 3,
          "solution": false,
          "task": false
        }
      },
      "source": [
        "\n",
        "# 5. VPython で3Dグラフィクス・アニメーションができる",
        "\n",
        "* 以下を実行して, 黒い空間に大きな白い球が現れたら成功\n",
        "* だが, 未だ解明できていない原因により, 何も表示されない, 黒い空間だけが表示されるなど, <font color=\"red\">動作がとても怪しい</font>\n",
        "* うまく表示されなかったら以下をやってみてください ((詳細)[https://pmp.eidos.ic.i.u-tokyo.ac.jp/html/jupyter.html#when_something_went_wrong])\n",
        "  * メニューの Kernel -&gt; Restart Kernel\n",
        "  * メニューの File Kernel -&gt; Hub Control Panel -&gt; Restart Kernel -&gt; Stop My Server -&gt; Start My Server\n",
        "* ただしそれでもうまく行くとは限らない. その場合は今日のところは放っておいてください\n",
        "\n",
        "* 以下でsphere() の変わりに helix() とすると, バネのようなもの画表示される\n",
        "* 球はダメでなぜかバネなら表示されるなんてこともある\n",
        "* どんなものが表示できるかは (このページ)[https://www.glowscript.org/docs/VPythonDocs/index.html] の, 左のメニュー (Choose a 3D object) にあるので試してみてください\n",
        ""
      ]
    },
    {
      "cell_type": "code",
      "metadata": {
        "kernel": "Python 3 (ipykernel)",
        "nbgrader": {
          "grade": false,
          "grade_id": "c-014",
          "locked": false,
          "schema_version": 3,
          "solution": false,
          "task": false
        }
      },
      "source": [
        "from vpython import *\n",
        "sphere()"
      ],
      "execution_count": null,
      "outputs": []
    },
    {
      "cell_type": "markdown",
      "metadata": {
        "kernel": "Python 3 (ipykernel)",
        "nbgrader": {
          "grade": false,
          "grade_id": "c-015",
          "locked": true,
          "schema_version": 3,
          "solution": false,
          "task": false
        }
      },
      "source": [
        "\n",
        "* 与えられたセルを実行するだけでなく, 自分で新しいセルを作って自由に書くこともできるので適当に遊んでみてください\n",
        "* メニューの + またはキーボードで 'b' でセルを追加\n",
        "* 'x' でセルを削除\n",
        "など\n",
        ""
      ]
    }
  ],
  "metadata": {
    "celltoolbar": "Create Assignment",
    "kernelspec": {
      "display_name": "Python 3 (ipykernel)",
      "language": "python",
      "name": "python3"
    },
    "language_info": {
      "codemirror_mode": {
        "name": "ipython",
        "version": 3
      },
      "file_extension": ".py",
      "mimetype": "text/x-python",
      "name": "python",
      "nbconvert_exporter": "python",
      "pygments_lexer": "ipython3",
      "version": "3.8.10"
    }
  },
  "nbformat": 4,
  "nbformat_minor": 4
}