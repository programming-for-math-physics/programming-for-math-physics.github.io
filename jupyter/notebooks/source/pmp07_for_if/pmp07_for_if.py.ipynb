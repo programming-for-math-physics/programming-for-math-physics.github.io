{
  "cells": [
    {
      "cell_type": "markdown",
      "metadata": {
        "kernel": "Python 3 (ipykernel)",
        "nbgrader": {
          "grade": false,
          "grade_id": "c-001",
          "locked": true,
          "schema_version": 3,
          "solution": false,
          "task": false
        }
      },
      "source": [
        "\n",
        "#  for文とif文の組み合わせ",
        "\n",
        "# 1. for文とif文の組み合わせ",
        "\n",
        " * for文, if文を組み合わせてさらにできる計算が抱負になる\n",
        " * 特に, for文で繰り返し計算をしながら途中で答えが見つかったらその答えを返す(returnする)ような計算がよく現れる\n",
        ""
      ]
    },
    {
      "cell_type": "markdown",
      "metadata": {
        "kernel": "Python 3 (ipykernel)",
        "nbgrader": {
          "grade": false,
          "grade_id": "c-002",
          "locked": true,
          "schema_version": 3,
          "solution": false,
          "task": false
        }
      },
      "source": [
        "\n",
        "例えば以下は, $n$以上の整数で, 「100でわって1あまり, 101で割って2あまる数」(のうち最小の数)を求める関数 find_100_1_101_2(n).\n",
        "\n",
        "ただし, \n",
        "\n",
        " * 「(100 * 101)個の連続した数の中に少なくとも1つそのような数がある」という事実を証明なしに用いている. \n",
        " * 本来あってはならないことだが, 見つからなかった場合はNoneを返している\n",
        ""
      ]
    },
    {
      "cell_type": "code",
      "metadata": {
        "kernel": "Python 3 (ipykernel)",
        "nbgrader": {
          "grade": false,
          "grade_id": "c-003",
          "locked": true,
          "schema_version": 3,
          "solution": false,
          "task": false
        }
      },
      "source": [
        "def find_100_1_101_2(n):\n",
        "    for i in range(n, n+100*101):\n",
        "        if i % 100 == 1 and i % 101 == 2:\n",
        "            return i\n",
        "    return None # 見つからなかった(実際はありえない)"
      ],
      "execution_count": null,
      "outputs": []
    },
    {
      "cell_type": "code",
      "metadata": {
        "kernel": "Python 3 (ipykernel)",
        "nbgrader": {
          "grade": false,
          "grade_id": "c-004",
          "locked": true,
          "schema_version": 3,
          "solution": false,
          "task": false
        }
      },
      "source": [
        "find_100_1_101_2(1000)"
      ],
      "execution_count": null,
      "outputs": []
    },
    {
      "cell_type": "code",
      "metadata": {
        "kernel": "Python 3 (ipykernel)",
        "nbgrader": {
          "grade": false,
          "grade_id": "c-005",
          "locked": true,
          "schema_version": 3,
          "solution": false,
          "task": false
        }
      },
      "source": [
        "find_100_1_101_2(100000)"
      ],
      "execution_count": null,
      "outputs": []
    },
    {
      "cell_type": "markdown",
      "metadata": {
        "kernel": "Python 3 (ipykernel)",
        "nbgrader": {
          "grade": false,
          "grade_id": "c-006",
          "locked": true,
          "schema_version": 3,
          "solution": false,
          "task": false
        }
      },
      "source": [
        "\n",
        " * なお「式1 and 式2」という記法は(恐らく想像通り), 式1と式2が両方真であれば真になる式である.\n",
        " * 上と同じプログラムを and を使わずに以下のように書くことも可能 (else節が存在しないif文. i % 100 == 1が成り立たなければ「何もしない(のですぐに次のnに進む)」. i % 101 == 2 が成り立たない場合も同様.\n",
        ""
      ]
    },
    {
      "cell_type": "code",
      "metadata": {
        "kernel": "Python 3 (ipykernel)",
        "nbgrader": {
          "grade": false,
          "grade_id": "c-007",
          "locked": true,
          "schema_version": 3,
          "solution": false,
          "task": false
        }
      },
      "source": [
        "def find_100_1_101_2(n):\n",
        "    for i in range(n, n+100*101):\n",
        "        if i % 100 == 1:\n",
        "            if i % 101 == 2:\n",
        "                return i\n",
        "    return None # 見つからなかった(実際はありえない)"
      ],
      "execution_count": null,
      "outputs": []
    },
    {
      "cell_type": "code",
      "metadata": {
        "kernel": "Python 3 (ipykernel)",
        "nbgrader": {
          "grade": false,
          "grade_id": "c-008",
          "locked": true,
          "schema_version": 3,
          "solution": false,
          "task": false
        }
      },
      "source": [
        "find_100_1_101_2(1000)"
      ],
      "execution_count": null,
      "outputs": []
    },
    {
      "cell_type": "code",
      "metadata": {
        "kernel": "Python 3 (ipykernel)",
        "nbgrader": {
          "grade": false,
          "grade_id": "c-009",
          "locked": true,
          "schema_version": 3,
          "solution": false,
          "task": false
        }
      },
      "source": [
        "find_100_1_101_2(100000)"
      ],
      "execution_count": null,
      "outputs": []
    },
    {
      "cell_type": "markdown",
      "metadata": {
        "kernel": "Python 3 (ipykernel)",
        "nbgrader": {
          "grade": false,
          "grade_id": "c-010",
          "locked": true,
          "schema_version": 3,
          "solution": false,
          "task": false
        }
      },
      "source": [
        "\n",
        "# 2. continue文",
        "\n",
        "for文を実行しながら, 「現在の繰り返しを終了して直ちに次の繰り返しに進む」continue文というものがある.\n",
        "\n",
        "複雑な条件式を and や or で繋げる代わりに, continueを使うときれいに書けることがある.\n",
        ""
      ]
    },
    {
      "cell_type": "code",
      "metadata": {
        "kernel": "Python 3 (ipykernel)",
        "nbgrader": {
          "grade": false,
          "grade_id": "c-011",
          "locked": true,
          "schema_version": 3,
          "solution": false,
          "task": false
        }
      },
      "source": [
        "def find_100_1_101_2(n):\n",
        "    for i in range(n, n+100*101):\n",
        "        if i % 100 != 1:        # このiは違う\n",
        "            continue\n",
        "        if i % 101 != 2:        # このiは違う\n",
        "            continue\n",
        "        return i\n",
        "    return None # 見つからなかった(実際はありえない)"
      ],
      "execution_count": null,
      "outputs": []
    },
    {
      "cell_type": "code",
      "metadata": {
        "kernel": "Python 3 (ipykernel)",
        "nbgrader": {
          "grade": false,
          "grade_id": "c-012",
          "locked": true,
          "schema_version": 3,
          "solution": false,
          "task": false
        }
      },
      "source": [
        "find_100_1_101_2(1000)"
      ],
      "execution_count": null,
      "outputs": []
    },
    {
      "cell_type": "code",
      "metadata": {
        "kernel": "Python 3 (ipykernel)",
        "nbgrader": {
          "grade": false,
          "grade_id": "c-013",
          "locked": true,
          "schema_version": 3,
          "solution": false,
          "task": false
        }
      },
      "source": [
        "find_100_1_101_2(100000)"
      ],
      "execution_count": null,
      "outputs": []
    },
    {
      "cell_type": "markdown",
      "metadata": {
        "kernel": "Python 3 (ipykernel)",
        "nbgrader": {
          "grade": false,
          "grade_id": "c-014",
          "locked": true,
          "schema_version": 3,
          "solution": false,
          "task": false
        }
      },
      "source": [
        "\n",
        " * 同じ関数を書くのにどの書き方がいいかは場合, 好みにもよるが, 一般的に\n",
        "  * あまり長い式は見にくくなるので避けたほうが良い\n",
        "  * ifやforが深く入れ子になるのは見にくくなるので避けたほうが良い\n",
        " ということで, continueなどを使いこなして, 短い文が縦に並ぶ, という書き方がわかりやすいことが多い\n",
        ""
      ]
    },
    {
      "cell_type": "markdown",
      "metadata": {
        "kernel": "Python 3 (ipykernel)",
        "nbgrader": {
          "grade": false,
          "grade_id": "c-015",
          "locked": true,
          "schema_version": 3,
          "solution": false,
          "task": false
        }
      },
      "source": [
        "\n",
        "# <font color=\"green\"> Problem 1 :  素数の判定</font>",
        "\n",
        "2以上の整数n が与えられ, それが素数であるか否かを判定する(素数であればTrue, 素数でなければFalseを返す)関数を書け\n",
        "\n",
        "ヒント: nが素数か否かを判定するには, i = 2, 3, 4, 5, ... で, nを順に割っていき, 約数 (nを割って余りが0になる数)を見つける. $i < n$である約数が見つかれば素数ではない. $i = n$まで約数が見つからなければ, $n$未満の約数がないということだから素数である. なお, 実際には$n = a b$と分解できたとすると, $a, b$のどちらかは$\\leq \\sqrt{n}$だから, $i^2 \\leq n$の範囲で約数が見つからなければ, ただしに素数であると断定できる (1000001が素数かどうかを判定するには 1000まで割り算をすればよい).\n",
        ""
      ]
    },
    {
      "cell_type": "code",
      "metadata": {
        "kernel": "Python 3 (ipykernel)",
        "nbgrader": {
          "grade": true,
          "grade_id": "p-001",
          "locked": false,
          "schema_version": 3,
          "solution": true,
          "task": false,
          "points": 1
        }
      },
      "source": [
        "BEGIN SOLUTION\n",
        "END SOLUTION"
      ],
      "execution_count": null,
      "outputs": []
    },
    {
      "cell_type": "code",
      "metadata": {
        "kernel": "Python 3 (ipykernel)",
        "nbgrader": {
          "grade": true,
          "grade_id": "p-002",
          "locked": true,
          "schema_version": 3,
          "solution": true,
          "task": false,
          "points": 1
        }
      },
      "source": [
        "BEGIN SOLUTION\n",
        "END SOLUTION\n",
        "# test\n",
        "assert(is_prime(2))\n",
        "assert(is_prime(3))\n",
        "assert(not is_prime(4))\n",
        "assert(is_prime(5))\n",
        "assert(is_prime(99991))\n",
        "assert(not is_prime(99991 * 99991))\n",
        "print(\"OK\")"
      ],
      "execution_count": null,
      "outputs": []
    },
    {
      "cell_type": "markdown",
      "metadata": {
        "kernel": "Python 3 (ipykernel)",
        "nbgrader": {
          "grade": false,
          "grade_id": "c-016",
          "locked": true,
          "schema_version": 3,
          "solution": false,
          "task": false
        }
      },
      "source": [
        "\n",
        "# <font color=\"green\"> Problem 2 :  方程式の解</font>",
        "\n",
        "関数$f$と実数$a, b$ ($a < b$)が与えられ, \n",
        "区間$[a,b]$の中で$f(x) = 0$の解(のうち最小のもの)\n",
        "を求める関数 find_root(f, a, b) を書け.\n",
        "解がなければ, Noneを返せ.\n",
        "\n",
        "ヒント: ここでやりたいのは人間が紙で計算するときのように, $f(x)$の形を見て記号的に解くということではなく, $f(x) \\approx 0$となるような$x$ (の近似値)を, 「コンピュータらしい」単純なやり方で求めるということ. \n",
        "\n",
        "それは単に, $x$を$a$から$b$までくまなく動かしてその中で$f(x)\\approx 0$となる値が現れたらそれを答えとする, というだけである. $f(x) \\approx 0$というのがあまりにも曖昧であるのと, できるだけ真の解に近いものを求めるため, 以下のようにする.\n",
        "\n",
        "それをプログラムにする上でのヒント:\n",
        "\n",
        " * $\\Delta x = (b-a)/10000$とする\n",
        " * $x$を$a$から$b$まで, $\\Delta x$ずつ動かしていく\n",
        " * それぞれに対し, $f(x)$と$f(x+\\Delta x)$を計算\n",
        " * どちらかが0になるか, 両者の符号が入れ変わったところで$x$を答えとする\n",
        "\n",
        "なお, 運が悪いとこのやり方で解を見逃すこともある. どのような場合か考えてみよ(そのような場合にどうしたらいいかというのは実際かなり難しい問題なのでとりあえず深入りはしない).\n",
        ""
      ]
    },
    {
      "cell_type": "code",
      "metadata": {
        "kernel": "Python 3 (ipykernel)",
        "nbgrader": {
          "grade": true,
          "grade_id": "p-003",
          "locked": false,
          "schema_version": 3,
          "solution": true,
          "task": false,
          "points": 1
        }
      },
      "source": [
        "BEGIN SOLUTION\n",
        "END SOLUTION"
      ],
      "execution_count": null,
      "outputs": []
    },
    {
      "cell_type": "code",
      "metadata": {
        "kernel": "Python 3 (ipykernel)",
        "nbgrader": {
          "grade": true,
          "grade_id": "p-004",
          "locked": true,
          "schema_version": 3,
          "solution": true,
          "task": false,
          "points": 1
        }
      },
      "source": [
        "BEGIN SOLUTION\n",
        "END SOLUTION\n",
        "# test\n",
        "import math\n",
        "def check_root(f, a, b, x_true):\n",
        "    x = find_root(f, a, b)\n",
        "    assert(math.isclose(x, x_true, abs_tol=(b - a) / 10000)), (x, x_true)\n",
        "    print(\"OK\")\n",
        "    \n",
        "check_root(math.cos, 0, 10, math.pi/2.0)\n",
        "\n",
        "def f0(x):\n",
        "    return (x - 1) * (x - 1.1) * (x - 1.2)\n",
        "\n",
        "check_root(f0, -2, 2, 1)"
      ],
      "execution_count": null,
      "outputs": []
    },
    {
      "cell_type": "markdown",
      "metadata": {
        "kernel": "Python 3 (ipykernel)",
        "nbgrader": {
          "grade": false,
          "grade_id": "c-017",
          "locked": true,
          "schema_version": 3,
          "solution": false,
          "task": false
        }
      },
      "source": [
        "\n",
        "# <font color=\"green\"> Problem 3 :  関数の最小値</font>",
        "\n",
        "* 関数 $f$ と, 2つの実数$a, b$ ($a < b$)が与えられ, $f$の, 区間$[a,b]$における最小値を与える$x$ (の近似値)を求める関数 find_min(f, a, b) を書け.\n",
        "\n",
        "* ヒント: もちろんここでも考えているのは, $f(x)$ を(記号的に)微分して, $f'(x) = 0$をといて, ...みたいな紙の上でやったような記号的な計算をコンピュータにやらせようということではない.\n",
        "\n",
        "* 「コンピュータらしい」単純なやり方をする. それは単に$x$を$a$から$b$までくまなく動かしてその中で出現する$f(x)$の最小値を拾い上げるというだけのやりかたである.\n",
        "\n",
        "* それをプログラムにする上でのヒント:\n",
        "\n",
        " * $\\Delta x = (b-a)/10000$とする\n",
        " * $x$を$a$から$b$まで, $\\Delta x$ずつ動かしていく\n",
        " * それぞれに対し$f(x)$を計算\n",
        " * 「これまでの最小を記録した$x$」を別の変数に覚えておき, 記録が更新されたらその変数を更新する\n",
        ""
      ]
    },
    {
      "cell_type": "code",
      "metadata": {
        "kernel": "Python 3 (ipykernel)",
        "nbgrader": {
          "grade": true,
          "grade_id": "p-005",
          "locked": false,
          "schema_version": 3,
          "solution": true,
          "task": false,
          "points": 1
        }
      },
      "source": [
        "BEGIN SOLUTION\n",
        "END SOLUTION"
      ],
      "execution_count": null,
      "outputs": []
    },
    {
      "cell_type": "code",
      "metadata": {
        "kernel": "Python 3 (ipykernel)",
        "nbgrader": {
          "grade": true,
          "grade_id": "p-006",
          "locked": true,
          "schema_version": 3,
          "solution": true,
          "task": false,
          "points": 1
        }
      },
      "source": [
        "BEGIN SOLUTION\n",
        "END SOLUTION\n",
        "# test\n",
        "import random\n",
        "def check_min(f, a, b):\n",
        "    rg = random.Random()\n",
        "    x_min = find_min(f, a, b)\n",
        "    for i in range(1000):\n",
        "        x = a + (b - a) * rg.random()\n",
        "        assert(f(x_min) <= f(x)), (x, x_min, f(x), f(x_min))\n",
        "    print(\"OK\")\n",
        "\n",
        "def f1(x):\n",
        "    return x * x - 2 * x + 3\n",
        "\n",
        "check_min(f1, -5, 5)\n",
        "\n",
        "def f2(x):\n",
        "    return x ** 3 - 4 * x\n",
        "\n",
        "check_min(f2, -2, 2)"
      ],
      "execution_count": null,
      "outputs": []
    },
    {
      "cell_type": "markdown",
      "metadata": {
        "kernel": "Python 3 (ipykernel)",
        "nbgrader": {
          "grade": false,
          "grade_id": "c-018",
          "locked": true,
          "schema_version": 3,
          "solution": false,
          "task": false
        }
      },
      "source": [
        "\n",
        "# 3. for文の中のfor文 (多重ループ, ループの入れ子)",
        "\n",
        "* for文の文法は,\n",
        "```\n",
        "for 変数名 in range(式, 式):\n",
        "    文\n",
        "    ...\n",
        "    文\n",
        "```\n",
        "で, for文自体, 「文」の一種なので, for文の中にまたfor文を書くことができる\n",
        "* for文の中に代入文, if文, 関数呼び出し, などを書けるのと全く同じことで, 何も特別なものではない\n",
        "\n",
        "* 例えば以下を実行すると何が起きるか予想してから実行してみよ\n",
        "* 注: print(i, j) は iの値とjの値を1行に表示する (_i j_ のように)"
      ]
    },
    {
      "cell_type": "code",
      "metadata": {
        "kernel": "Python 3 (ipykernel)",
        "nbgrader": {
          "grade": false,
          "grade_id": "c-019",
          "locked": true,
          "schema_version": 3,
          "solution": false,
          "task": false
        }
      },
      "source": [
        "for i in range(0, 3):\n",
        "    for j in range(0, 3):\n",
        "        print(i, j)"
      ],
      "execution_count": null,
      "outputs": []
    },
    {
      "cell_type": "markdown",
      "metadata": {
        "kernel": "Python 3 (ipykernel)",
        "nbgrader": {
          "grade": false,
          "grade_id": "c-020",
          "locked": true,
          "schema_version": 3,
          "solution": false,
          "task": false
        }
      },
      "source": [
        "\n",
        "# <font color=\"green\"> Problem 4 :  関数の最小値(2変数)</font>",
        "\n",
        " 半径1の円に内接する三角形の面積の最大値を求める関数 find_max_triangle() を書け\n",
        "\n",
        " (数学の)ヒント: 円の中心をO, 三角形の三頂点ABC, ∠AOB $= x$ ∠BOC $= y$ とすると, 三角形の面積$S$は\n",
        "\n",
        "$$ S = \\frac{1}{2} (\\sin x + \\sin y + \\sin(2\\pi - x - y)) $$\n",
        "\n",
        "あとは$x$と$y$を, $0 < x < \\pi$, $0 < y < \\pi$, $x + y < \\pi$\n",
        "の範囲で動かせばよいだけである.\n",
        "\n",
        " (プログラム上のヒント): 前問の, 最小値を求める考え方は変数が二つになってもほとんど同じで通用する. 違いは, for文を二重にしなくてはならないことだけ\n",
        "\n",
        "```\n",
        "xを0 < x < piまで動かすためのfor文:\n",
        "  yを0 < y < pi - xまで動かすためのfor文:\n",
        "    ... 記録更新していれば ...   \n",
        "```\n",
        "\n",
        "という具合.\n",
        "\n",
        "* なお, $x$や$y$を動かす際, 区間$[0,\\pi]$を何分割くらいにすればいいかは試行錯誤してみてほしいのだが, $1000$分割とでもすると, 合計で$1000 \\times 1000$回, 面積の計算をすることになる. このくらいになると計算に体感できるほどの時間がかかることがわかる. ためしに5000分割すると相当またなくてはならない.\n",
        "\n",
        "* コンピュータがいくら計算が速いと行っても, 2次元, 3次元, 多次元の問題になってくるとたちまち計算量が増えていき, 何らかの工夫をしなくてはならないことが感じられるだろう. ここでは時間がないので扱わずに先へ進む\n",
        ""
      ]
    },
    {
      "cell_type": "code",
      "metadata": {
        "kernel": "Python 3 (ipykernel)",
        "nbgrader": {
          "grade": true,
          "grade_id": "p-007",
          "locked": false,
          "schema_version": 3,
          "solution": true,
          "task": false,
          "points": 1
        }
      },
      "source": [
        "BEGIN SOLUTION\n",
        "END SOLUTION"
      ],
      "execution_count": null,
      "outputs": []
    },
    {
      "cell_type": "code",
      "metadata": {
        "kernel": "Python 3 (ipykernel)",
        "nbgrader": {
          "grade": true,
          "grade_id": "p-008",
          "locked": true,
          "schema_version": 3,
          "solution": true,
          "task": false,
          "points": 1
        }
      },
      "source": [
        "BEGIN SOLUTION\n",
        "END SOLUTION\n",
        "# test\n",
        "assert(math.isclose(find_max_triangle(), 3 * math.sqrt(3) / 4, rel_tol=1.0e-3)), find_max_triangle()\n",
        "print(\"OK\")"
      ],
      "execution_count": null,
      "outputs": []
    }
  ],
  "metadata": {
    "celltoolbar": "Create Assignment",
    "kernelspec": {
      "display_name": "Python 3 (ipykernel)",
      "language": "python",
      "name": "python3"
    },
    "language_info": {
      "codemirror_mode": {
        "name": "ipython",
        "version": 3
      },
      "file_extension": ".py",
      "mimetype": "text/x-python",
      "name": "python",
      "nbconvert_exporter": "python",
      "pygments_lexer": "ipython3",
      "version": "3.8.10"
    }
  },
  "nbformat": 4,
  "nbformat_minor": 4
}