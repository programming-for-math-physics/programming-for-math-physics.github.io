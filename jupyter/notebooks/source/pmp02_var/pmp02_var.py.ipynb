{
 "cells": [
  {
   "cell_type": "markdown",
   "metadata": {
    "kernel": "Python 3 (ipykernel)",
    "nbgrader": {
     "grade": false,
     "grade_id": "c-001",
     "locked": true,
     "schema_version": 3,
     "solution": false,
     "task": false
    }
   },
   "source": [
    "\n",
    "#  変数: 「プログラミング」の第一歩\n",
    "これまで, Pythonで色々な式が書けること --- 数は整数, 浮動小数点数はもちろん, 複素数が扱える, 整数は巨大でも良い, $\\sin$, $\\cos$はじめ色々な関数が使えるなど --- を学んだが, それらは一言で言って, 「高機能な電卓」という程度のことであり, プログラムというには遠い. あまりコンピュータに何かを「やらせている」感じはしない.\n",
    "\n",
    "プログラムをプログラムたらしめる要素はいくつかあるがその一番目が「変数」である. 変数は, ある式を評価した結果に名前をつけて, 後でその名前でその値を参照できるようにする機能である."
   ]
  },
  {
   "cell_type": "markdown",
   "metadata": {
    "kernel": "Python 3 (ipykernel)",
    "nbgrader": {
     "grade": false,
     "grade_id": "c-002",
     "locked": true,
     "schema_version": 3,
     "solution": false,
     "task": false
    }
   },
   "source": [
    "\n",
    "# 1. 基本\n",
    "まず以下で, $\\sin 1$の結果を`x`という変数に覚えておく"
   ]
  },
  {
   "cell_type": "code",
   "execution_count": null,
   "metadata": {
    "kernel": "Python 3 (ipykernel)",
    "nbgrader": {
     "grade": false,
     "grade_id": "c-003",
     "locked": true,
     "schema_version": 3,
     "solution": false,
     "task": false
    }
   },
   "outputs": [],
   "source": [
    "import math\n",
    "x = math.sin(1)"
   ]
  },
  {
   "cell_type": "markdown",
   "metadata": {
    "kernel": "Python 3 (ipykernel)",
    "nbgrader": {
     "grade": false,
     "grade_id": "c-004",
     "locked": true,
     "schema_version": 3,
     "solution": false,
     "task": false
    }
   },
   "source": [
    "\n",
    "このような記法を__代入文__と呼ぶ. つまり, 代入文はある式の結果(値)に名前をつける, あるいは同じことだが別の言い方として, 変数に式の結果(値)を格納する, という効果を持つ.\n",
    "\n",
    "上記を実行したあと, 以下で`x`の値が表示できる.\n"
   ]
  },
  {
   "cell_type": "code",
   "execution_count": null,
   "metadata": {
    "kernel": "Python 3 (ipykernel)",
    "nbgrader": {
     "grade": false,
     "grade_id": "c-005",
     "locked": true,
     "schema_version": 3,
     "solution": false,
     "task": false
    }
   },
   "outputs": [],
   "source": [
    "x"
   ]
  },
  {
   "cell_type": "markdown",
   "metadata": {
    "kernel": "Python 3 (ipykernel)",
    "nbgrader": {
     "grade": false,
     "grade_id": "c-006",
     "locked": true,
     "schema_version": 3,
     "solution": false,
     "task": false
    }
   },
   "source": [
    "\n",
    "それだけでなく, `x`を使って色々な式を作ることができる. 要するに`x`も式の一種であって, 算術演算や関数の入力にしたりすることができる.\n"
   ]
  },
  {
   "cell_type": "code",
   "execution_count": null,
   "metadata": {
    "kernel": "Python 3 (ipykernel)",
    "nbgrader": {
     "grade": false,
     "grade_id": "c-007",
     "locked": true,
     "schema_version": 3,
     "solution": false,
     "task": false
    }
   },
   "outputs": [],
   "source": [
    "x * x"
   ]
  },
  {
   "cell_type": "markdown",
   "metadata": {
    "kernel": "Python 3 (ipykernel)",
    "nbgrader": {
     "grade": false,
     "grade_id": "c-008",
     "locked": true,
     "schema_version": 3,
     "solution": false,
     "task": false
    }
   },
   "source": [
    "\n",
    "以下はおなじみの公式\n",
    "\n",
    "$$ \\cos^2 t + \\sin^2 t = 1$$\n",
    "\n",
    "を($t = 1$に対して)確かめてみたものである."
   ]
  },
  {
   "cell_type": "code",
   "execution_count": null,
   "metadata": {
    "kernel": "Python 3 (ipykernel)",
    "nbgrader": {
     "grade": false,
     "grade_id": "c-009",
     "locked": true,
     "schema_version": 3,
     "solution": false,
     "task": false
    }
   },
   "outputs": [],
   "source": [
    "t = 1\n",
    "x = math.cos(t)\n",
    "y = math.sin(t)\n",
    "x * x + y * y"
   ]
  },
  {
   "cell_type": "markdown",
   "metadata": {
    "kernel": "Python 3 (ipykernel)",
    "nbgrader": {
     "grade": false,
     "grade_id": "c-010",
     "locked": true,
     "schema_version": 3,
     "solution": false,
     "task": false
    }
   },
   "source": [
    "\n",
    "この例は結局,\n",
    "\n",
    "`math.cos(1) * math.cos(1) + math.sin(1) * math.sin(1)`\n",
    "\n",
    "を計算しているに過ぎないのだが, 明らかに変数を使ったほうが短くわかりやすく, 意味も把握しやすい.\n",
    "\n",
    "また, 同じ計算を, $t = 1$ではなく$t = 1.5$でやりたくなった時に, 変数を使っていれば書き換える場所は一箇所で済むのに対し, 後者の場合, 四箇所を書き換える羽目になる. プログラムが大きくなってくるとこのような変更を間違う可能性も大きくなる. 変数を使うことで, 「(やりたい計算が多少代わっても)こことここでは同じ値を使う」という制約を保つことができる.\n",
    "\n",
    "実は変数には, 単に複雑な式を見やすく書けるという以上の, もっと本質的な意味がある(変数なしには決してできない計算がある)のだが, それはこのあとで関数や繰り返しを学ぶ時にわかる."
   ]
  },
  {
   "cell_type": "markdown",
   "metadata": {
    "kernel": "Python 3 (ipykernel)",
    "nbgrader": {
     "grade": false,
     "grade_id": "c-011",
     "locked": true,
     "schema_version": 3,
     "solution": false,
     "task": false
    }
   },
   "source": [
    "\n",
    "# 2. 変数の効能\n",
    "* 値に「わかりやすい名前」をつけることが出来る. プログラム中に円周率を使いたいときに, pi と書く方が, 3.1415926535 とベタに書くより, 書きやすいし読みやすい\n",
    "* 同じ値を同じであると明言, 保証できる上, 異なる値で同じ計算をすると気に一箇所の書き換えで済む\n",
    "```\n",
    "a = 3\n",
    "b = 4\n",
    "theta = math.pi / 3\n",
    "math.sqrt(a * a + b * b - 2 * a * b * math.cos(theta))\n",
    "```\n",
    "は, 行数こそ増えるものの,\n",
    "```\n",
    "math.sqrt(3 * 3 + 4 * 4 - 2 * 3 * 4 * math.cos(math.pi / 3))\n",
    "```\n",
    "よりもわかりやすく, a, b, thetaの変更も簡単にできる"
   ]
  },
  {
   "cell_type": "markdown",
   "metadata": {
    "kernel": "Python 3 (ipykernel)",
    "nbgrader": {
     "grade": false,
     "grade_id": "c-012",
     "locked": true,
     "schema_version": 3,
     "solution": false,
     "task": false
    }
   },
   "source": [
    "\n",
    "# <font color=\"green\"> Problem 1 :  ヘロンの公式</font>\n",
    "ヘロンの公式は, 3辺の長さが$a, b, c$であるような三角形の面積が,\n",
    "\n",
    "$$ S = \\sqrt{s(s-a)(s-b)(s-c)} $$\n",
    "\n",
    "というものである. ただし,\n",
    "\n",
    "$$ s = \\frac{a+b+c}{2} $$\n",
    "\n",
    "である.\n",
    "\n",
    "変数を使いつつ, 3辺の長さが, 7, 8, 9 であるような三角形の面積を求め, 結果を変数Hに格納せよ.\n"
   ]
  },
  {
   "cell_type": "code",
   "execution_count": null,
   "metadata": {
    "kernel": "Python 3 (ipykernel)",
    "nbgrader": {
     "grade": true,
     "grade_id": "p-001",
     "locked": false,
     "points": 1,
     "schema_version": 3,
     "solution": true,
     "task": false
    }
   },
   "outputs": [],
   "source": [
    "BEGIN SOLUTION\n",
    "END SOLUTION"
   ]
  },
  {
   "cell_type": "markdown",
   "metadata": {
    "kernel": "Python 3 (ipykernel)",
    "nbgrader": {
     "grade": false,
     "grade_id": "c-013",
     "locked": true,
     "schema_version": 3,
     "solution": false,
     "task": false
    }
   },
   "source": [
    "Hを表示してみよ"
   ]
  },
  {
   "cell_type": "code",
   "execution_count": null,
   "metadata": {
    "kernel": "Python 3 (ipykernel)",
    "nbgrader": {
     "grade": false,
     "grade_id": "c-014",
     "locked": true,
     "schema_version": 3,
     "solution": false,
     "task": false
    }
   },
   "outputs": [],
   "source": [
    "H"
   ]
  },
  {
   "cell_type": "code",
   "execution_count": null,
   "metadata": {
    "kernel": "Python 3 (ipykernel)",
    "nbgrader": {
     "grade": true,
     "grade_id": "p-002",
     "locked": true,
     "points": 1,
     "schema_version": 3,
     "solution": true,
     "task": false
    }
   },
   "outputs": [],
   "source": [
    "BEGIN SOLUTION\n",
    "END SOLUTION\n",
    "assert(H == 26.832815729997478), H\n",
    "print(\"OK\")"
   ]
  },
  {
   "cell_type": "markdown",
   "metadata": {
    "kernel": "Python 3 (ipykernel)",
    "nbgrader": {
     "grade": false,
     "grade_id": "c-015",
     "locked": true,
     "schema_version": 3,
     "solution": false,
     "task": false
    }
   },
   "source": [
    "\n",
    "# 3. 文や式の「順序」は重要\n",
    "ところで前掲の\n",
    "\n",
    "```\n",
    "t = 1\n",
    "x = math.cos(t)\n",
    "y = math.sin(t)\n",
    "x * x + y * y\n",
    "```\n",
    "\n",
    "の4行を, (後に述べる理由により変数名はx -> xx, y -> yy, t -> ttに変更しているがそれは今は重要ではない)以下のように入れ替えてみるとどうなるか?\n"
   ]
  },
  {
   "cell_type": "code",
   "execution_count": null,
   "metadata": {
    "kernel": "Python 3 (ipykernel)",
    "nbgrader": {
     "grade": false,
     "grade_id": "c-016",
     "locked": true,
     "schema_version": 3,
     "solution": false,
     "task": false
    }
   },
   "outputs": [],
   "source": [
    "xx * xx + yy * yy\n",
    "xx = math.cos(tt)\n",
    "yy = math.sin(tt)\n",
    "tt = 1"
   ]
  },
  {
   "cell_type": "markdown",
   "metadata": {
    "kernel": "Python 3 (ipykernel)",
    "nbgrader": {
     "grade": false,
     "grade_id": "c-017",
     "locked": true,
     "schema_version": 3,
     "solution": false,
     "task": false
    }
   },
   "source": [
    "やってみるとわかるが以下のようなエラーになる. \n",
    "\n",
    "```\n",
    "---------------------------------------------------------------------------\n",
    "NameError                                 Traceback (most recent call last)\n",
    "<ipython-input-1-d0a489cf3236> in <module>\n",
    "----> 1 xx * xx + yy * yy\n",
    "      2 xx = math.cos(tt)\n",
    "      3 yy = math.sin(tt)\n",
    "      4 tt = 1\n",
    "\n",
    "NameError: name 'xx' is not defined\n",
    "```\n",
    "\n",
    "それは, xx という変数が「定義されていない」というエラーである\n",
    "(プログラミングでは, 習得した後も間違いを犯すのが日常なので, 上記のようなエラーメッセージをきちんと読んでその意味を解読し, 自分の間違いを発見できるようになることも重要. それは後の話題).\n",
    "\n",
    "数学では, ある式(例えば $x^2+y^2$)の中で文字(例えば $x$)を使っておいて, あとから(\"ここで $x = \\cdots$である\")などといって定義することはよくある. \n",
    "\n",
    "$$ x * x + y * y $$\n",
    "ただしここで,\n",
    "$$ x = \\ldots t \\ldots $$\n",
    "$$ y = \\ldots t \\ldots $$\n",
    "$$ t = \\ldots $$\n",
    "\n",
    "のように. 全体としてすべての文字にきちんと定義が与えられていれば良しとして, それらを書く順番はどうでもよい. もし実際の値を計算しなくてはならなくなったら, 読み手が適切な順番で(この例であれば, $t$, つぎに$x$と$y$, 最後に$ x * x + y * y $ という具合に)計算する約束になっている.\n",
    "\n",
    "プログラミング言語(少なくともPython)はもっと杓子定規であり, 要するに, 「実際に計算可能な順番」に代入文と式を並べてあげないといけない. \n",
    "\n",
    "と, いうよりも, Pythonでこのように, 文と式を複数並べた場合に起きることは, 単純に, __「上から順に実行(計算)をしているだけである」__という風に考えるのが今後にとっても役に立つ. 以下にまとめておく.\n"
   ]
  },
  {
   "cell_type": "markdown",
   "metadata": {
    "kernel": "Python 3 (ipykernel)",
    "nbgrader": {
     "grade": false,
     "grade_id": "c-018",
     "locked": true,
     "schema_version": 3,
     "solution": false,
     "task": false
    }
   },
   "source": [
    "\n",
    "# 4. 複数の文と式を並べたときの実行規則\n",
    "```\n",
    "t = 1\n",
    "x = math.cos(t)\n",
    "y = math.sin(t)\n",
    "x * x + y * y\n",
    "```\n",
    "\n",
    "のように, 複数行にわたるプログラム片をセルに書いてそれを実行したときの規則は以下の通り\n",
    "\n",
    " 1. 各行は「式」または「文」である(もっとも「文」は代入文しかまだ習っていない)\n",
    " 1. 上から順に実行(式であれば評価(値を計算))していく\n",
    " 1. 代入文を実行すると, 右辺の式が評価され, 左辺の変数名で記憶される(= その変数に値が格納される)\n",
    " 1. 式を評価する際, 式の部分式として変数名が現れたら(例: x * x という式にはxという部分式が(2回)現れている),\n",
    "  * その変数に値が格納されていたらその値がその部分式の値となる\n",
    "  * その変数に値が格納されていなければエラーが発生する(※)\n",
    " 1. 最後に実行した行が式であればその値が表示される(文の場合は何も表示されない)\n",
    "\n",
    "(※)が, 以下のような順番で書いてもエラーになる理由で,\n",
    "\n",
    "```\n",
    "xx * xx + yy * yy\n",
    "xx = math.cos(tt)\n",
    "yy = math.sin(tt)\n",
    "tt = 1\n",
    "```\n",
    "\n",
    "単純に, \n",
    "\n",
    " 1. 上から実行していく\n",
    " 1. 最初の式で xx が使われている\n",
    " 1. しかしその時, __まだ__ xx には値が代入(格納)されていない\n",
    "\n",
    "からエラーになる, というだけのことである.\n",
    "\n",
    "くどいかも知れないがもう一度.\n",
    "\n",
    "複数行を並べたら, 上から順に実行していく(だけ)\n"
   ]
  },
  {
   "cell_type": "markdown",
   "metadata": {
    "kernel": "Python 3 (ipykernel)",
    "nbgrader": {
     "grade": false,
     "grade_id": "c-019",
     "locked": true,
     "schema_version": 3,
     "solution": false,
     "task": false
    }
   },
   "source": [
    "\n",
    "# 5. 同じ変数に何度も代入することもできる\n",
    "以下のプログラムを実行すると何が表示されるか?\n"
   ]
  },
  {
   "cell_type": "code",
   "execution_count": null,
   "metadata": {
    "kernel": "Python 3 (ipykernel)",
    "nbgrader": {
     "grade": false,
     "grade_id": "c-020",
     "locked": true,
     "schema_version": 3,
     "solution": false,
     "task": false
    }
   },
   "outputs": [],
   "source": [
    "x = 3\n",
    "x = 4\n",
    "x * x"
   ]
  },
  {
   "cell_type": "markdown",
   "metadata": {
    "kernel": "Python 3 (ipykernel)",
    "nbgrader": {
     "grade": false,
     "grade_id": "c-021",
     "locked": true,
     "schema_version": 3,
     "solution": false,
     "task": false
    }
   },
   "source": [
    "\n",
    "見ての通り`x`に2回代入されている. これを数学でいうところの\n",
    "\n",
    "$$ x * x $$\n",
    "ただし\n",
    "$$ x = \\cdots $$\n",
    "\n",
    "のようなものだと思って読むと, いったい$x$は3, 4どっちやねん, ということになるのだが, こういう場合も「上から順に実行していく(だけ)」という規則さえ頭に入っていれば,\n",
    "\n",
    "```\n",
    "16\n",
    "```\n",
    "\n",
    "と表示される, というのは簡単にわかると思う. 要するにこの例では最初の`x = 3`は無意味だったということ. ではなぜこんな話をわざわざするのか, それはこの後を読んでくれればわかる.\n",
    "\n",
    "以下のようなプログラムも全く合法である.\n",
    "\n",
    "何が表示されるか予想(理解)した上で実行してみよ."
   ]
  },
  {
   "cell_type": "code",
   "execution_count": null,
   "metadata": {
    "kernel": "Python 3 (ipykernel)",
    "nbgrader": {
     "grade": false,
     "grade_id": "c-022",
     "locked": true,
     "schema_version": 3,
     "solution": false,
     "task": false
    }
   },
   "outputs": [],
   "source": [
    "x = 0\n",
    "x = x + 1\n",
    "x = x + 2\n",
    "x = x + 3\n",
    "x = x + 4\n",
    "x"
   ]
  },
  {
   "cell_type": "markdown",
   "metadata": {
    "kernel": "Python 3 (ipykernel)",
    "nbgrader": {
     "grade": false,
     "grade_id": "c-023",
     "locked": true,
     "schema_version": 3,
     "solution": false,
     "task": false
    }
   },
   "source": [
    "\n",
    "このプログラムでは`x`に複数回(5回も)代入されているというのみならず, `x`に代入している右辺にまた`x`が現れるという, 代入文を, 数学に出てくる等式だと思って理解すると意味不明な式になっている. 数学で`x`を定義するのに,\n",
    "\n",
    "$$ x = x + 1 $$\n",
    "\n",
    "などとかいたら普通は意味不明. 人によってはもう少し考えて, あ, これは\n",
    "\n",
    "$$ x = x + 1 $$\n",
    "\n",
    "を満たす$x$を定義しているのだな(方程式による定義)と思い直して, 「解なし」と言って満足するかも知れない.\n",
    "\n",
    "プログラムとしての上記の意味はそれらとは全く違うもので, ここでも純粋に「上から順に」実行していく(だけ)という原則を守って理解する. そうすれば,\n",
    "\n",
    "```\n",
    "x = 0\n",
    "```\n",
    "\n",
    "でまず`x`に0が格納され,\n",
    "\n",
    "```\n",
    "x = x + 1\n",
    "```\n",
    "\n",
    "では, まず右辺が計算される. その際, __この時点では__ `x`に0が格納されているために右辺の値は, $0 + 1$, つまり1になる. したがってこの代入文の実行により`x`には1が格納される. 以下,\n",
    "\n",
    "```\n",
    "x = x + 2\n",
    "```\n",
    "\n",
    "で `x`に 3 $(1 + 2)$が,\n",
    "\n",
    "```\n",
    "x = x + 3\n",
    "```\n",
    "\n",
    "で 6 $(3 + 3)$が,\n",
    "\n",
    "```\n",
    "x = x + 4\n",
    "```\n",
    "\n",
    "で 10 $(6 + 4)$が代入される.\n",
    "\n",
    "したがって最後の\n",
    "\n",
    "```\n",
    "x\n",
    "```\n",
    "\n",
    "で10が表示される.\n",
    "\n",
    "つまり振り返ってみるとこのプログラムは, $0 + 1 + 2 + 3 + 4$を計算するための, 一方法だったことになる. もちろんそれが計算したいのであればわざわざこんな回りくどいことをしなくても素直に, $0 + 1 + 2 + 3 + 4$と書けばよかったのだが, あえて上記のように計算することの意義は後に(繰り返し(for)文を学ぶところで)わかる. ここでは深入りしない.\n",
    "\n",
    "ここでのポイントは, しつこいようだが, プログラムが何を計算しているかを理解するには, 数式からの類推は有用だがあるところで諦めて, プログラムの実行規則:\n",
    "\n",
    "文や式を並べたら上から実行していく\n",
    "\n",
    "を(いわば機械的に)当てはめてそれに忠実に従うことが重要, ということである.\n",
    "\n",
    "```\n",
    "x = x + 1\n",
    "```\n",
    "\n",
    "のような, 数式としてみると謎(または単なる「偽」としか読めない)式も, プログラムにとっては, 「x(の今の値)」に1を足してxに入れる(以降のxとする), という意味があり, 実際プログラミングでは, そんなことを使って色々な計算をしていく.\n"
   ]
  },
  {
   "cell_type": "markdown",
   "metadata": {
    "kernel": "Python 3 (ipykernel)",
    "nbgrader": {
     "grade": false,
     "grade_id": "c-024",
     "locked": true,
     "schema_version": 3,
     "solution": false,
     "task": false
    }
   },
   "source": [
    "\n",
    "# 6. 変数名の規則\n",
    "変数は`x`, `y`のように1文字でなくてもよい.\n",
    "むしろプログラミングでは, その変数に格納している値が「何」であるのかがわかるような, 意味のある名前をつけることが推奨されている.\n",
    "\n",
    "だが, 変数の名前として任意の文字が許されているわけではない. \n",
    "実際, `x+y` などという (`+`を含んだ)変数の名前を許してしまうと, これが\n",
    "$x + y$のことなのか, 一つの変数名のことなのかがわからなく(曖昧に)なってしまう.\n",
    "\n",
    "そこで, 変数に使って良い文字は以下のような制限がある.\n",
    "\n",
    " * 使える文字は, アルファベット(A-Z, a-z), 下線(_), 数字(0-9), に限られる\n",
    " * ただし先頭には数字は使えない(「先頭に数字」を許してしまうとどのような不都合(曖昧性)があるか, 考えてみよ)\n",
    "\n",
    "読みやすい変数名を選ぶことの重要性は, 徐々に複雑なプログラムを書くようになって初めてわかるもので, 現時点で無理に例を作ってもあまり実感できない. \n"
   ]
  },
  {
   "cell_type": "markdown",
   "metadata": {
    "kernel": "Python 3 (ipykernel)",
    "nbgrader": {
     "grade": false,
     "grade_id": "c-025",
     "locked": true,
     "schema_version": 3,
     "solution": false,
     "task": false
    }
   },
   "source": [
    "\n",
    "以下を, エラーになるものとならないものを予想しながら実行せよ.\n",
    "また, その際どのようなエラーメッセージが出てくるのかも一度見ておくこと\n"
   ]
  },
  {
   "cell_type": "code",
   "execution_count": null,
   "metadata": {
    "kernel": "Python 3 (ipykernel)",
    "nbgrader": {
     "grade": false,
     "grade_id": "c-026",
     "locked": true,
     "schema_version": 3,
     "solution": false,
     "task": false
    }
   },
   "outputs": [],
   "source": [
    "x = 10"
   ]
  },
  {
   "cell_type": "code",
   "execution_count": null,
   "metadata": {
    "kernel": "Python 3 (ipykernel)",
    "nbgrader": {
     "grade": false,
     "grade_id": "c-027",
     "locked": true,
     "schema_version": 3,
     "solution": false,
     "task": false
    }
   },
   "outputs": [],
   "source": [
    "x0 = 10"
   ]
  },
  {
   "cell_type": "code",
   "execution_count": null,
   "metadata": {
    "kernel": "Python 3 (ipykernel)",
    "nbgrader": {
     "grade": false,
     "grade_id": "c-028",
     "locked": true,
     "schema_version": 3,
     "solution": false,
     "task": false
    }
   },
   "outputs": [],
   "source": [
    "x_0 = 10"
   ]
  },
  {
   "cell_type": "code",
   "execution_count": null,
   "metadata": {
    "kernel": "Python 3 (ipykernel)",
    "nbgrader": {
     "grade": false,
     "grade_id": "c-029",
     "locked": true,
     "schema_version": 3,
     "solution": false,
     "task": false
    }
   },
   "outputs": [],
   "source": [
    "my name = 10"
   ]
  },
  {
   "cell_type": "markdown",
   "metadata": {
    "kernel": "Python 3 (ipykernel)",
    "nbgrader": {
     "grade": false,
     "grade_id": "c-030",
     "locked": true,
     "schema_version": 3,
     "solution": false,
     "task": false
    }
   },
   "source": [
    "\n",
    "# 7. 代入されていない変数の参照\n",
    "変数のタイプミスをして間違えて存在しない(代入されていない)変数を使ってしまうことがある. そのような場合のエラーも一度見ておくこと\n"
   ]
  },
  {
   "cell_type": "code",
   "execution_count": null,
   "metadata": {
    "kernel": "Python 3 (ipykernel)",
    "nbgrader": {
     "grade": false,
     "grade_id": "c-031",
     "locked": true,
     "schema_version": 3,
     "solution": false,
     "task": false
    }
   },
   "outputs": [],
   "source": [
    "very_long_variable_name = 10"
   ]
  },
  {
   "cell_type": "code",
   "execution_count": null,
   "metadata": {
    "kernel": "Python 3 (ipykernel)",
    "nbgrader": {
     "grade": false,
     "grade_id": "c-032",
     "locked": true,
     "schema_version": 3,
     "solution": false,
     "task": false
    }
   },
   "outputs": [],
   "source": [
    "very_long_variable_name"
   ]
  },
  {
   "cell_type": "code",
   "execution_count": null,
   "metadata": {
    "kernel": "Python 3 (ipykernel)",
    "nbgrader": {
     "grade": false,
     "grade_id": "c-033",
     "locked": true,
     "schema_version": 3,
     "solution": false,
     "task": false
    }
   },
   "outputs": [],
   "source": [
    "very_long_variable_neme"
   ]
  },
  {
   "cell_type": "markdown",
   "metadata": {
    "kernel": "Python 3 (ipykernel)",
    "nbgrader": {
     "grade": false,
     "grade_id": "c-034",
     "locked": true,
     "schema_version": 3,
     "solution": false,
     "task": false
    }
   },
   "source": [
    "\n",
    "# <font color=\"green\"> Problem 2 :  水素のイオン化エネルギー</font>\n",
    "水素の電子を引き剥がすのに必要なエネルギー(イオン化エネルギー)は\n",
    "\n",
    "$$ \\frac{m_e e^4}{8 \\epsilon_0^2 h^2} \\mbox{[J]}$$\n",
    "\n",
    "で与えられる. ただし,\n",
    "\n",
    "* $m_e = 9.10938356 \\times 10^{-31} [\\mbox{kg}]$  : 電子の質量 \n",
    "* $e = 1.602176634 \\times 10^{-19} [\\mbox{A} \\cdot \\mbox{s}]$  : 電子の電荷\n",
    "* $\\epsilon_0 = 8.85418782 \\times 10^{-12} [\\mbox{m}^{-3} \\mbox{kg}^{-1} \\mbox{s}^4 \\mbox{A}^2]$ : 誘電率\n",
    "* $h = 6.62607004 \\times 10^{-34} [\\mbox{m}^2 \\mbox{kg} / \\mbox{s}]$ : プランク定数\n",
    "\n",
    "変数を使いながら水素のイオン化エネルギーを計算し, <a href=\"https://ja.wikipedia.org/wiki/%E3%82%A4%E3%82%AA%E3%83%B3%E5%8C%96%E3%82%A8%E3%83%8D%E3%83%AB%E3%82%AE%E3%83%BC\" target=\"_blank\"> Wikipedia </a> で答え合わせをせよ.\n",
    "\n",
    "注: 上記の値をそのまま上の式に代入すると求まるのは水素電子1個あたりのエネルギーで, J (ジュール)単位になる. Wikipediaの答えは, 1 mol (アボガドロ数個)のエネルギーで, kJ/mol である.\n",
    "\n",
    "* アボガドロ数 $= 6.0221409 \\times 10^{23}$\n",
    "\n",
    "なおややこしい数値を書き写すときはコピー・ペーストを使おう\n"
   ]
  },
  {
   "cell_type": "code",
   "execution_count": null,
   "metadata": {
    "kernel": "Python 3 (ipykernel)",
    "nbgrader": {
     "grade": true,
     "grade_id": "p-003",
     "locked": false,
     "points": 1,
     "schema_version": 3,
     "solution": true,
     "task": false
    }
   },
   "outputs": [],
   "source": [
    "BEGIN SOLUTION\n",
    "END SOLUTION"
   ]
  },
  {
   "cell_type": "markdown",
   "metadata": {
    "kernel": "Python 3 (ipykernel)",
    "nbgrader": {
     "grade": false,
     "grade_id": "c-035",
     "locked": true,
     "schema_version": 3,
     "solution": false,
     "task": false
    }
   },
   "source": [
    "\n",
    "# <font color=\"green\"> Problem 3 :  重力加速度</font>\n",
    "我々(質量$m$の物体とする)が地球で感じる力は $mg$ ($g$ : 重力加速度)であるが, その正体は, 地球と物体の間で働く万有引力\n",
    "\n",
    "$$ G\\frac{mM}{R^2} $$\n",
    "\n",
    "である. ここで,\n",
    "* $G = 6.67408 \\times 10^{-11} [\\mbox{m}^3 \\mbox{kg}^{-1} \\mbox{s}^{-2}] $ 万有引力定数\n",
    "* $M = 5.972 \\times 10^{24} [kg]$ 地球の全質量\n",
    "* $R = 6.371 \\times 10^6 [\\mbox{m}]$ 地球の中心(正確には重心)と物体の距離. 実際は地球の半径と思えば良い.\n",
    "\n",
    "すなわち,\n",
    "\n",
    "$$ g = G\\frac{M}{R^2}$$ \n",
    "\n",
    "これを元に, $g$ の値を求めてみよ(もちろんおなじみの値 $9.80665\\cdots [\\mbox{m} / \\mbox{s}^2]$が求まるはずである)\n"
   ]
  },
  {
   "cell_type": "code",
   "execution_count": null,
   "metadata": {
    "kernel": "Python 3 (ipykernel)",
    "nbgrader": {
     "grade": true,
     "grade_id": "p-004",
     "locked": false,
     "points": 1,
     "schema_version": 3,
     "solution": true,
     "task": false
    }
   },
   "outputs": [],
   "source": [
    "BEGIN SOLUTION\n",
    "END SOLUTION"
   ]
  }
 ],
 "metadata": {
  "celltoolbar": "Create Assignment",
  "kernelspec": {
   "display_name": "Python 3 (ipykernel)",
   "language": "python",
   "name": "python3"
  },
  "language_info": {
   "codemirror_mode": {
    "name": "ipython",
    "version": 3
   },
   "file_extension": ".py",
   "mimetype": "text/x-python",
   "name": "python",
   "nbconvert_exporter": "python",
   "pygments_lexer": "ipython3",
   "version": "3.10.6"
  }
 },
 "nbformat": 4,
 "nbformat_minor": 4
}
