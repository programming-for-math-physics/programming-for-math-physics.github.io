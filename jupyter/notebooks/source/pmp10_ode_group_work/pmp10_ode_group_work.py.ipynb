{
  "cells": [
    {
      "cell_type": "markdown",
      "metadata": {
        "kernel": "Python 3 (ipykernel)",
        "nbgrader": {
          "grade": false,
          "grade_id": "c-001",
          "locked": true,
          "schema_version": 3,
          "solution": false,
          "task": false
        }
      },
      "source": [
        "\n",
        "#  物理シミュレーション + アニメーション のグループワーク",
        ""
      ]
    },
    {
      "cell_type": "markdown",
      "metadata": {
        "kernel": "Python 3 (ipykernel)",
        "nbgrader": {
          "grade": false,
          "grade_id": "c-002",
          "locked": true,
          "schema_version": 3,
          "solution": false,
          "task": false
        }
      },
      "source": [
        "\n",
        "# <font color=\"green\"> Problem 1 :  課題</font>",
        "\n",
        "pmp09やスライドを参考にしながら, グループ共同で以下を行え\n",
        "\n",
        "* 以下のスペックを満たす問題をひとつ, グループで設定する\n",
        "* それをシミュレートして, アニメーションする\n",
        "* 問題のスペック(以下を満たす問題を自分たちで設定)\n",
        "  * 物体(質点)が2個以上登場する(まずは2個で良い)\n",
        "  * 物体に「なんらかの力」が働く. 好きに設定する. 物理法則に忠実かどうかは自由\n",
        "    * 物体間の引力? 斥力? 距離との関係\n",
        "    * 重力\n",
        "    * 衝突\n",
        "    * 抵抗(速度に比例, 速度の2乗に比例? ご自由に?)\n",
        "    * どこかからバネのようなもので引かれている? 磁石みたいなもの?\n",
        "    * ランダムな力\n",
        "    * 要するに何でも良い\n",
        "    * etc.\n",
        "* ルール: グループで作業をすること. そのために,\n",
        "  * 誰がコードを書くかを決める(必ず一人に決める. pmp09とかが完成している人は遠慮する :-)\n",
        "  * その人の画面を共有する\n",
        "  * 残りの人はそれに, 手出しではなく, 口出しをする\n",
        "  * 途中でバトンタッチしても良い(コピペしたければ他の人のシートにアクセスするのがよいでしょう. パスワードは一時的にいつものシートに復活させておきました)\n",
        "  * 今日の趣旨はあくまでアニメーションまでやってみること. 問題設定に時間をかける必要はない. 5-10分で決めて始めてください\n",
        "  * 授業のラスト30分に出来たものを見せられるようにする\n",
        "\n",
        "* 以下も参考に\n",
        "  * 授業HPの 微分方程式スライド\n",
        "  * 授業HPの Visual Python, Numpy, Matplotlib スライド\n",
        "\n",
        ""
      ]
    },
    {
      "cell_type": "code",
      "metadata": {
        "kernel": "Python 3 (ipykernel)",
        "nbgrader": {
          "grade": false,
          "grade_id": "c-003",
          "locked": true,
          "schema_version": 3,
          "solution": false,
          "task": false
        }
      },
      "source": [
        ""
      ],
      "execution_count": null,
      "outputs": []
    },
    {
      "cell_type": "code",
      "metadata": {
        "kernel": "Python 3 (ipykernel)",
        "nbgrader": {
          "grade": false,
          "grade_id": "c-004",
          "locked": true,
          "schema_version": 3,
          "solution": false,
          "task": false
        }
      },
      "source": [
        "# VPythonが動くかどうかのチェック用.\n",
        "# アニメーションがうまく出なかったら, Kernel -> Restart and Clear Output をしてからこのセルを実行してみてください\n",
        "# それでダメなら連絡ください\n",
        "\n",
        "from vpython import *\n",
        "sphere()\n",
        ""
      ],
      "execution_count": null,
      "outputs": []
    }
  ],
  "metadata": {
    "celltoolbar": "Create Assignment",
    "kernelspec": {
      "display_name": "Python 3 (ipykernel)",
      "language": "python",
      "name": "python3"
    },
    "language_info": {
      "codemirror_mode": {
        "name": "ipython",
        "version": 3
      },
      "file_extension": ".py",
      "mimetype": "text/x-python",
      "name": "python",
      "nbconvert_exporter": "python",
      "pygments_lexer": "ipython3",
      "version": "3.8.10"
    }
  },
  "nbformat": 4,
  "nbformat_minor": 4
}