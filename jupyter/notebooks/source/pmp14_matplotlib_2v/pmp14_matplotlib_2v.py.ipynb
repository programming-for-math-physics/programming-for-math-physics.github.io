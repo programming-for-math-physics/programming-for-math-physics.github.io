{
  "cells": [
    {
      "cell_type": "markdown",
      "metadata": {
        "kernel": "Python 3 (ipykernel)",
        "nbgrader": {
          "grade": false,
          "grade_id": "c-001",
          "locked": true,
          "schema_version": 3,
          "solution": false,
          "task": false
        }
      },
      "source": [
        "\n",
        "#  matplotlib で2変数関数を表示する",
        "\n",
        "* 1入力(x), 1出力(y)の関数を表示するには, xを横軸, yを縦軸にとり, plot, scatter, barなどで表示すれば良い\n",
        "\n",
        "* 2入力(x, y), 1出力(z)の関数を表示するにはどうしたらよいか?\n",
        "* 1つの方法はzを色で表示する(pcolor)方法\n",
        "* もう1つの方法はz = f(x,y)のグラフを曲面(3D)で表示する方法\n",
        ""
      ]
    },
    {
      "cell_type": "markdown",
      "metadata": {
        "kernel": "Python 3 (ipykernel)",
        "nbgrader": {
          "grade": false,
          "grade_id": "c-002",
          "locked": true,
          "schema_version": 3,
          "solution": false,
          "task": false
        }
      },
      "source": [
        "\n",
        "# 1. 色で表示する",
        "\n",
        "* import matplotlib.pyplot as plt としておいて plt.pcolor という関数を呼び出すのが基本\n",
        "* データの渡し方:\n",
        "* pcolorに渡すのは, 2次元の格子点の, xの値だけを並べた2次元配列(またはリスト), yの値だけを並べた2次元配列(またはリスト), zの値だけを並べた2次元配列(またはリスト).\n",
        "* shading='auto' はpcolorを使うときのおまじないだと思ってください(理解したい人は https://matplotlib.org/stable/api/_as_gen/matplotlib.pyplot.pcolor.html?highlight=pcolor#matplotlib.pyplot.pcolor )\n",
        "* 下記を実行して納得して下さい\n",
        ""
      ]
    },
    {
      "cell_type": "code",
      "metadata": {
        "kernel": "Python 3 (ipykernel)",
        "nbgrader": {
          "grade": false,
          "grade_id": "c-003",
          "locked": false,
          "schema_version": 3,
          "solution": false,
          "task": false
        }
      },
      "source": [
        "import matplotlib.pyplot as plt\n",
        "import numpy as np\n",
        "\n",
        "def pcolor_a_few_2d():\n",
        "    print(\"pcolor_a_few_2d\")\n",
        "    X = np.array([ [ 0,1,2,3 ], [ 0,1,2,3 ], [ 0,1,2,3 ], [ 0,1,2,3 ] ])\n",
        "    Y = np.array([ [ 4,4,4,4 ], [ 5,5,5,5 ], [ 6,6,6,6 ], [ 7,7,7,7 ] ])\n",
        "    Z = X * X - Y * Y\n",
        "    plt.pcolor(X, Y, Z, shading='auto')\n",
        "    plt.show()\n",
        "\n",
        "pcolor_a_few_2d()"
      ],
      "execution_count": null,
      "outputs": []
    },
    {
      "cell_type": "markdown",
      "metadata": {
        "kernel": "Python 3 (ipykernel)",
        "nbgrader": {
          "grade": false,
          "grade_id": "c-004",
          "locked": true,
          "schema_version": 3,
          "solution": false,
          "task": false
        }
      },
      "source": [
        "\n",
        "* 上の点の与え方はいかにもまだるっこしい\n",
        "* できれば, X = [ 0, 1, 2, 3 ], Y = [ 4, 5, 6, 7 ] と書くだけで済ませたい\n",
        "* それをやるのが np.meshgrid という関数\n",
        ""
      ]
    },
    {
      "cell_type": "code",
      "metadata": {
        "kernel": "Python 3 (ipykernel)",
        "nbgrader": {
          "grade": false,
          "grade_id": "c-005",
          "locked": false,
          "schema_version": 3,
          "solution": false,
          "task": false
        }
      },
      "source": [
        "import matplotlib.pyplot as plt\n",
        "import numpy as np\n",
        "\n",
        "def pcolor_a_few_with_meshgrid():\n",
        "    print(\"pcolor_a_few_with_meshgrid\")\n",
        "    X = np.array([ 0,1,2,3 ])\n",
        "    Y = np.array([ 4,5,6,7 ])\n",
        "    X,Y = np.meshgrid(X, Y)\n",
        "    Z = X * X - Y * Y\n",
        "    plt.pcolor(X, Y, Z, shading='auto')\n",
        "    plt.show()\n",
        "\n",
        "pcolor_a_few_with_meshgrid()"
      ],
      "execution_count": null,
      "outputs": []
    },
    {
      "cell_type": "markdown",
      "metadata": {
        "kernel": "Python 3 (ipykernel)",
        "nbgrader": {
          "grade": false,
          "grade_id": "c-006",
          "locked": true,
          "schema_version": 3,
          "solution": false,
          "task": false
        }
      },
      "source": [
        "\n",
        "* もちろん座標をベタに書くことはほとんどしない\n",
        ""
      ]
    },
    {
      "cell_type": "code",
      "metadata": {
        "kernel": "Python 3 (ipykernel)",
        "nbgrader": {
          "grade": false,
          "grade_id": "c-007",
          "locked": false,
          "schema_version": 3,
          "solution": false,
          "task": false
        }
      },
      "source": [
        "import matplotlib.pyplot as plt\n",
        "import numpy as np\n",
        "\n",
        "def pcolor_with_meshgrid():\n",
        "    print(\"pcolor_with_meshgrid\")\n",
        "    X = np.linspace(0,3,101)\n",
        "    Y = np.linspace(4,7,101)\n",
        "    X,Y = np.meshgrid(X, Y)\n",
        "    Z = X * X - Y * Y\n",
        "    plt.pcolor(X, Y, Z, shading='auto')\n",
        "    plt.show()\n",
        "\n",
        "pcolor_with_meshgrid()"
      ],
      "execution_count": null,
      "outputs": []
    },
    {
      "cell_type": "markdown",
      "metadata": {
        "kernel": "Python 3 (ipykernel)",
        "nbgrader": {
          "grade": false,
          "grade_id": "c-008",
          "locked": true,
          "schema_version": 3,
          "solution": false,
          "task": false
        }
      },
      "source": [
        "\n",
        "# 2. 曲面(3D)で表示する",
        "\n",
        "* 若干おまじないと手順が増える\n",
        "* おまじない: `from mpl_toolkits.mplot3d import Axes3D`\n",
        "* 手順として, 最終的に plot_surface という関数を呼べば良いのだが, \n",
        "```\n",
        "    fig = plt.figure()\n",
        "    ax = fig.add_subplot(111, projection=\"3d\")\n",
        "```\n",
        "という手順を踏んだ上で, axに対してplot_surfaceを呼び出す\n",
        ""
      ]
    },
    {
      "cell_type": "code",
      "metadata": {
        "kernel": "Python 3 (ipykernel)",
        "nbgrader": {
          "grade": false,
          "grade_id": "c-009",
          "locked": false,
          "schema_version": 3,
          "solution": false,
          "task": false
        }
      },
      "source": [
        "import matplotlib.pyplot as plt\n",
        "from mpl_toolkits.mplot3d import Axes3D\n",
        "import numpy as np\n",
        "\n",
        "def plot3d():\n",
        "    print(\"plot3d\")\n",
        "    X = np.linspace(-1,1,101)\n",
        "    Y = np.linspace(-1,1,101)\n",
        "    X,Y = np.meshgrid(X, Y)\n",
        "    Z = 2 - X * X - Y * Y\n",
        "    fig = plt.figure()\n",
        "    axis = fig.add_subplot(111, projection=\"3d\")\n",
        "    axis.plot_surface(X, Y, Z)\n",
        "    plt.show()\n",
        "\n",
        "plot3d()"
      ],
      "execution_count": null,
      "outputs": []
    },
    {
      "cell_type": "markdown",
      "metadata": {
        "kernel": "Python 3 (ipykernel)",
        "nbgrader": {
          "grade": false,
          "grade_id": "c-010",
          "locked": true,
          "schema_version": 3,
          "solution": false,
          "task": false
        }
      },
      "source": [
        "\n",
        "# 3. 参考 fig, axisについて",
        "\n",
        " * 上記で登場した\n",
        "```\n",
        "    fig = plt.figure()\n",
        "    axis = fig.add_subplot(111, projection=\"3d\")\n",
        "```\n",
        "は, 3D表示のためだけにあるわけではなく, 一般にグラフの表示をカスタマイズしたり, 複数のグラフを表示したりするのに使える\n",
        "\n",
        " * まず説明のために, 先に説明した pcolor を(あえて), fig, ax を経由して表示することが出来る\n",
        ""
      ]
    },
    {
      "cell_type": "code",
      "metadata": {
        "kernel": "Python 3 (ipykernel)",
        "nbgrader": {
          "grade": false,
          "grade_id": "c-011",
          "locked": false,
          "schema_version": 3,
          "solution": false,
          "task": false
        }
      },
      "source": [
        "import matplotlib.pyplot as plt\n",
        "import numpy as np\n",
        "\n",
        "def pcolor_with_fig_axis():\n",
        "    print(\"pcolor_with_fig_axis\")\n",
        "    X = np.linspace(0,3,101)\n",
        "    Y = np.linspace(4,7,101)\n",
        "    X,Y = np.meshgrid(X, Y)\n",
        "    Z = X * X - Y * Y\n",
        "    fig = plt.figure()\n",
        "    axis = fig.add_subplot(111)\n",
        "    axis.pcolor(X, Y, Z, shading='auto')\n",
        "    plt.show()\n",
        "\n",
        "pcolor_with_fig_axis()"
      ],
      "execution_count": null,
      "outputs": []
    },
    {
      "cell_type": "markdown",
      "metadata": {
        "kernel": "Python 3 (ipykernel)",
        "nbgrader": {
          "grade": false,
          "grade_id": "c-012",
          "locked": true,
          "schema_version": 3,
          "solution": false,
          "task": false
        }
      },
      "source": [
        "\n",
        " * このようにしておくと, \n",
        "  1. 別のグラフを同じ窓に配置する\n",
        "  1. グラフのラベルや範囲などをカスタマイズすることが出来る\n",
        ""
      ]
    },
    {
      "cell_type": "code",
      "metadata": {
        "kernel": "Python 3 (ipykernel)",
        "nbgrader": {
          "grade": false,
          "grade_id": "c-013",
          "locked": false,
          "schema_version": 3,
          "solution": false,
          "task": false
        }
      },
      "source": [
        "import matplotlib.pyplot as plt\n",
        "import numpy as np\n",
        "\n",
        "def pcolor_2x3_axes():\n",
        "    print(\"pcolor_2x3_axes\")\n",
        "    X = np.linspace(0,3,101)\n",
        "    Y = np.linspace(0,3,101)\n",
        "    X,Y = np.meshgrid(X, Y)\n",
        "    fig = plt.figure()\n",
        "    axis1 = fig.add_subplot(231)\n",
        "    axis2 = fig.add_subplot(232)\n",
        "    axis3 = fig.add_subplot(233)\n",
        "    axis4 = fig.add_subplot(234)\n",
        "    axis5 = fig.add_subplot(235)\n",
        "    axis6 = fig.add_subplot(236)\n",
        "    axis1.pcolor(X, Y, Y - 1 * X, shading='auto')\n",
        "    axis2.pcolor(X, Y, Y - 2 * X, shading='auto')\n",
        "    axis3.pcolor(X, Y, Y - 3 * X, shading='auto')\n",
        "    axis4.pcolor(X, Y, Y - 4 * X, shading='auto')\n",
        "    axis5.pcolor(X, Y, Y - 5 * X, shading='auto')\n",
        "    axis6.pcolor(X, Y, Y - 6 * X, shading='auto')\n",
        "    plt.show()\n",
        "\n",
        "pcolor_2x3_axes()"
      ],
      "execution_count": null,
      "outputs": []
    },
    {
      "cell_type": "markdown",
      "metadata": {
        "kernel": "Python 3 (ipykernel)",
        "nbgrader": {
          "grade": false,
          "grade_id": "c-014",
          "locked": true,
          "schema_version": 3,
          "solution": false,
          "task": false
        }
      },
      "source": [
        "\n",
        "* 上記 fig.add_subplot(23$x$) は 2 x 3 のタイルを準備し, その中の$x$番目の位置にグラフを追加するコマンド\n",
        "* 返された値 (axisと呼ばれる)がひとつの「グラフ」を表すと思えば良い\n",
        "* なおもちろん上のように6つも文を並べる代わりにもう少しスマートな書き方は以下"
      ]
    },
    {
      "cell_type": "code",
      "metadata": {
        "kernel": "Python 3 (ipykernel)",
        "nbgrader": {
          "grade": false,
          "grade_id": "c-015",
          "locked": false,
          "schema_version": 3,
          "solution": false,
          "task": false
        }
      },
      "source": [
        "import matplotlib.pyplot as plt\n",
        "import numpy as np\n",
        "\n",
        "def pcolor_2x3_axes_loop():\n",
        "    print(\"pcolor_2x3_axes_loop\")\n",
        "    X = np.linspace(0,3,101)\n",
        "    Y = np.linspace(0,3,101)\n",
        "    X,Y = np.meshgrid(X, Y)\n",
        "    fig = plt.figure()\n",
        "    for k in range(1,7):\n",
        "        axis = fig.add_subplot(230 + k)\n",
        "        axis.pcolor(X, Y, Y - k * X, shading='auto')\n",
        "    plt.show()\n",
        "\n",
        "pcolor_2x3_axes_loop()"
      ],
      "execution_count": null,
      "outputs": []
    },
    {
      "cell_type": "markdown",
      "metadata": {
        "kernel": "Python 3 (ipykernel)",
        "nbgrader": {
          "grade": false,
          "grade_id": "c-016",
          "locked": true,
          "schema_version": 3,
          "solution": false,
          "task": false
        }
      },
      "source": [
        "\n",
        "* axisに対しては色々な属性を設定してグラフをカスタマイズできる\n",
        "* たとえばx軸, y軸につけるラベル, x, yの範囲など\n",
        "* 詳しくは, https://matplotlib.org/3.1.0/api/axes_api.html\n",
        ""
      ]
    },
    {
      "cell_type": "code",
      "metadata": {
        "kernel": "Python 3 (ipykernel)",
        "nbgrader": {
          "grade": false,
          "grade_id": "c-017",
          "locked": false,
          "schema_version": 3,
          "solution": false,
          "task": false
        }
      },
      "source": [
        "import matplotlib.pyplot as plt\n",
        "import numpy as np\n",
        "\n",
        "def pcolor_with_label():\n",
        "    print(\"pcolor_with_label\")\n",
        "    X = np.linspace(0,3,101)\n",
        "    Y = np.linspace(0,3,101)\n",
        "    X,Y = np.meshgrid(X, Y)\n",
        "    fig = plt.figure()\n",
        "    axis = fig.add_subplot(111)\n",
        "    axis.set_xlabel(\"X\")\n",
        "    axis.set_ylabel(\"Y\")\n",
        "    axis.set_xlim((-1,4))\n",
        "    axis.set_ylim((-1,4))\n",
        "    axis.pcolor(X, Y, Y - X, shading='auto')\n",
        "    plt.show()\n",
        "\n",
        "pcolor_with_label()"
      ],
      "execution_count": null,
      "outputs": []
    }
  ],
  "metadata": {
    "celltoolbar": "Create Assignment",
    "kernelspec": {
      "display_name": "Python 3 (ipykernel)",
      "language": "python",
      "name": "python3"
    },
    "language_info": {
      "codemirror_mode": {
        "name": "ipython",
        "version": 3
      },
      "file_extension": ".py",
      "mimetype": "text/x-python",
      "name": "python",
      "nbconvert_exporter": "python",
      "pygments_lexer": "ipython3",
      "version": "3.8.10"
    }
  },
  "nbformat": 4,
  "nbformat_minor": 4
}