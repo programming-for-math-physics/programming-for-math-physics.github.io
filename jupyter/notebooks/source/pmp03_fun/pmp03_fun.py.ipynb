{
 "cells": [
  {
   "cell_type": "markdown",
   "metadata": {
    "kernel": "Python 3 (ipykernel)",
    "nbgrader": {
     "grade": false,
     "grade_id": "c-001",
     "locked": true,
     "schema_version": 3,
     "solution": false,
     "task": false
    }
   },
   "source": [
    "\n",
    "# 1. 関数定義\n",
    "プログラムを(高機能電卓を越えて)プログラムたらしめる最たるものがこの「関数定義」(自分で好きな関数を定義できる機能)である. \n",
    "\n",
    "関数はこれまでも$|x|$ (`abs`), $\\sin$ (`math.sin`), $\\exp$ (`math.exp`) など色々なものが「使える」ということを述べたがそれらは最初からPythonに備わっていた関数である.\n",
    "\n",
    "この節のポイントは__自分で関数を新たに定義でき__, それを上記のような関数と同じように使える, ということである.\n",
    "\n",
    "手始めに, 以下は与えられた入力$x$に対して$x^2$を計算する関数(squareと名付けた)の定義である.\n"
   ]
  },
  {
   "cell_type": "code",
   "execution_count": null,
   "metadata": {
    "kernel": "Python 3 (ipykernel)",
    "nbgrader": {
     "grade": false,
     "grade_id": "c-002",
     "locked": true,
     "schema_version": 3,
     "solution": false,
     "task": false
    }
   },
   "outputs": [],
   "source": [
    "def square(x):\n",
    "    return x * x"
   ]
  },
  {
   "cell_type": "markdown",
   "metadata": {
    "kernel": "Python 3 (ipykernel)",
    "nbgrader": {
     "grade": false,
     "grade_id": "c-003",
     "locked": true,
     "schema_version": 3,
     "solution": false,
     "task": false
    }
   },
   "source": [
    "これは数学でいうところの定義:\n",
    "\n",
    "定義: 関数square を \n",
    "$$ {\\rm square}(x) \\equiv x * x $$\n",
    "と定義する.\n",
    "\n",
    "というのと同じである.\n",
    "\n",
    "一旦このセルを(`Shift + Enter`で)実行すると, squareという名前(実は変数. 後述)が上記の関数として定義され, 以下のように呼び出せるようになる."
   ]
  },
  {
   "cell_type": "code",
   "execution_count": null,
   "metadata": {
    "kernel": "Python 3 (ipykernel)",
    "nbgrader": {
     "grade": false,
     "grade_id": "c-004",
     "locked": true,
     "schema_version": 3,
     "solution": false,
     "task": false
    }
   },
   "outputs": [],
   "source": [
    "square(30)"
   ]
  },
  {
   "cell_type": "code",
   "execution_count": null,
   "metadata": {
    "kernel": "Python 3 (ipykernel)",
    "nbgrader": {
     "grade": false,
     "grade_id": "c-005",
     "locked": true,
     "schema_version": 3,
     "solution": false,
     "task": false
    }
   },
   "outputs": [],
   "source": [
    "square(50)"
   ]
  },
  {
   "cell_type": "markdown",
   "metadata": {
    "kernel": "Python 3 (ipykernel)",
    "nbgrader": {
     "grade": false,
     "grade_id": "c-006",
     "locked": true,
     "schema_version": 3,
     "solution": false,
     "task": false
    }
   },
   "source": [
    "\n",
    "もうひとつ例を見せておく. 以下は, 3辺の長さ$a, b, c$を入力として与えられたら, その三角形の面積をヘロンの公式で求める関数である.\n"
   ]
  },
  {
   "cell_type": "code",
   "execution_count": null,
   "metadata": {
    "kernel": "Python 3 (ipykernel)",
    "nbgrader": {
     "grade": false,
     "grade_id": "c-007",
     "locked": true,
     "schema_version": 3,
     "solution": false,
     "task": false
    }
   },
   "outputs": [],
   "source": [
    "def helon(a, b, c):\n",
    "    s = (a + b + c) / 2\n",
    "    return (s * (s - a) * (s - b) * (s - c)) ** 0.5"
   ]
  },
  {
   "cell_type": "markdown",
   "metadata": {
    "kernel": "Python 3 (ipykernel)",
    "nbgrader": {
     "grade": false,
     "grade_id": "c-008",
     "locked": true,
     "schema_version": 3,
     "solution": false,
     "task": false
    }
   },
   "source": [
    "\n",
    "一度これが定義されれば以下のように任意の3数を3辺の長さに持つ三角形の面積が計算できる\n"
   ]
  },
  {
   "cell_type": "code",
   "execution_count": null,
   "metadata": {
    "kernel": "Python 3 (ipykernel)",
    "nbgrader": {
     "grade": false,
     "grade_id": "c-009",
     "locked": true,
     "schema_version": 3,
     "solution": false,
     "task": false
    }
   },
   "outputs": [],
   "source": [
    "helon(7, 8, 9)"
   ]
  },
  {
   "cell_type": "code",
   "execution_count": null,
   "metadata": {
    "kernel": "Python 3 (ipykernel)",
    "nbgrader": {
     "grade": false,
     "grade_id": "c-010",
     "locked": true,
     "schema_version": 3,
     "solution": false,
     "task": false
    }
   },
   "outputs": [],
   "source": [
    "helon(1, 1, 1)"
   ]
  },
  {
   "cell_type": "markdown",
   "metadata": {
    "kernel": "Python 3 (ipykernel)",
    "nbgrader": {
     "grade": false,
     "grade_id": "c-011",
     "locked": true,
     "schema_version": 3,
     "solution": false,
     "task": false
    }
   },
   "source": [
    "\n",
    "## 1-1. 関数定義にまつわる用語\n",
    "上記関数定義において,\n",
    "\n",
    " * helon を関数定義の「関数名」\n",
    " * `s = (a + b + c) / 2` と `return (s * (s - a) * (s - b) * (s - c)) ** 0.5` は関数定義の「本体」\n",
    " * a, b, c は入力を受け取る変数であり, それらを「パラメータ」\n",
    "\n",
    "などと呼ぶ.\n",
    "\n",
    "さてこのhelon関数の定義を見てもわかるとおり, 関数定義の本体にも複数の文を並べて書くことができる. そして想像通り, それらは関数が使われ(呼び出され)たら, 上から順に実行されていく(セルに複数の文を書いたときの規則と同じ). "
   ]
  },
  {
   "cell_type": "markdown",
   "metadata": {
    "kernel": "Python 3 (ipykernel)",
    "nbgrader": {
     "grade": false,
     "grade_id": "c-012",
     "locked": true,
     "schema_version": 3,
     "solution": false,
     "task": false
    }
   },
   "source": [
    "\n",
    "## 1-2. return文\n",
    "さて, square関数定義内の\n",
    "```\n",
    "    return x * x\n",
    "```\n",
    "やhelon関数定義内の\n",
    "```\n",
    "    return (s * (s - a) * (s - b) * (s - c)) ** 0.5\n",
    "```\n",
    "における, `return`という記法は何を意味するのだろうか. それは,\n",
    "\n",
    " * その関数呼び出しの値を, `return`以下にかかれている式を評価した結果とする (「式」を評価した結果を返す(returnする)\n",
    " * その時点で関数の中身の実行を終了する(returnの後ろに続く文があっても実行されない)\n",
    "\n",
    "という二つの効果を持つ. したがって多くの関数の見た目は, いくつかの文が並んでおり最後の行がreturn文という形をしているが, 後に述べるように, 条件文(if)や繰り返し(for)を伴う関数では, そうではない(ことに実質的な意味がある)場合もある. そのような例は後に見ることにして今はとりあえず, 規則の理解に集中する.\n",
    "\n",
    "例えば, 意味がないのを承知で, 以下のような関数定義を書いたら,\n"
   ]
  },
  {
   "cell_type": "code",
   "execution_count": null,
   "metadata": {
    "kernel": "Python 3 (ipykernel)",
    "nbgrader": {
     "grade": false,
     "grade_id": "c-013",
     "locked": true,
     "schema_version": 3,
     "solution": false,
     "task": false
    }
   },
   "outputs": [],
   "source": [
    "def f(x):\n",
    "    return x * x * x\n",
    "    return x * x"
   ]
  },
  {
   "cell_type": "markdown",
   "metadata": {
    "kernel": "Python 3 (ipykernel)",
    "nbgrader": {
     "grade": false,
     "grade_id": "c-014",
     "locked": true,
     "schema_version": 3,
     "solution": false,
     "task": false
    }
   },
   "source": [
    "\n",
    "これは $x^3$ を計算する関数の定義になる. この関数が呼び出されたら, 最初の `return x * x * x` が実行された時点で関数の実行は終了し, 返り値(結果)は `x * x * x`を計算した値で確定する.\n",
    "\n",
    "上のような関数定義をわざわざ書きたくなる人はいないだろうが, 逆のパターン, return文を書き忘れる, という間違いはおそらく多くの人が一度や二度は体験する. \n",
    "\n",
    "例えばヘロンの公式で三角形の面積を計算する関数を書くつもりで,"
   ]
  },
  {
   "cell_type": "code",
   "execution_count": null,
   "metadata": {
    "kernel": "Python 3 (ipykernel)",
    "nbgrader": {
     "grade": false,
     "grade_id": "c-015",
     "locked": true,
     "schema_version": 3,
     "solution": false,
     "task": false
    }
   },
   "outputs": [],
   "source": [
    "def helon(a, b, c):\n",
    "    s = (a + b + c) / 2\n",
    "    (s * (s - a) * (s - b) * (s - c)) ** 0.5"
   ]
  },
  {
   "cell_type": "markdown",
   "metadata": {
    "kernel": "Python 3 (ipykernel)",
    "nbgrader": {
     "grade": false,
     "grade_id": "c-016",
     "locked": true,
     "schema_version": 3,
     "solution": false,
     "task": false
    }
   },
   "source": [
    "\n",
    "のように書いてしまったとする. そのような場合の規則は,\n",
    "\n",
    "return文を実行することなく関数の中身の実行が終了した場合は, `None`という結果が帰る\n",
    "\n",
    "というものである.\n",
    "\n",
    "「`None`って一体なに? `None`という結果が返ると言われても... だから何?」としか言えない, という疑問はもっともである. ともかく`None`は, 1とか2.3とか, TrueとかFalseとか, そういう値の一種なのだがそれらのどれとも違う「変な値」とだけ思っておけば良い. そして, `None`に対して, 数を対象とした演算(+ とか)を行うと以下のようなエラーが出る, というところが重要である.\n"
   ]
  },
  {
   "cell_type": "code",
   "execution_count": null,
   "metadata": {
    "kernel": "Python 3 (ipykernel)",
    "nbgrader": {
     "grade": false,
     "grade_id": "c-017",
     "locked": true,
     "schema_version": 3,
     "solution": false,
     "task": false
    }
   },
   "outputs": [],
   "source": [
    "# error\n",
    "None + 3"
   ]
  },
  {
   "cell_type": "markdown",
   "metadata": {
    "kernel": "Python 3 (ipykernel)",
    "nbgrader": {
     "grade": false,
     "grade_id": "c-018",
     "locked": true,
     "schema_version": 3,
     "solution": false,
     "task": false
    }
   },
   "source": [
    "\n",
    "```\n",
    "---------------------------------------------------------------------------\n",
    "TypeError                                 Traceback (most recent call last)\n",
    "<ipython-input-12-7cf993271d73> in <module>\n",
    "----> 1 None + 3\n",
    "\n",
    "TypeError: unsupported operand type(s) for +: 'NoneType' and 'int'\n",
    "```"
   ]
  },
  {
   "cell_type": "markdown",
   "metadata": {
    "kernel": "Python 3 (ipykernel)",
    "nbgrader": {
     "grade": false,
     "grade_id": "c-019",
     "locked": true,
     "schema_version": 3,
     "solution": false,
     "task": false
    }
   },
   "source": [
    "\n",
    "わざわざこんなことを書く人はいないが, ポイントは, return の書き忘れによって結果的にこのような演算をしてしまうことがある, ということ.\n"
   ]
  },
  {
   "cell_type": "code",
   "execution_count": null,
   "metadata": {
    "kernel": "Python 3 (ipykernel)",
    "nbgrader": {
     "grade": false,
     "grade_id": "c-020",
     "locked": true,
     "schema_version": 3,
     "solution": false,
     "task": false
    }
   },
   "outputs": [],
   "source": [
    "# error\n",
    "def helon(a, b, c):\n",
    "    s = (a + b + c) / 2\n",
    "    (s * (s - a) * (s - b) * (s - c)) ** 0.5\n",
    "\n",
    "helon(3, 4, 5) + 1"
   ]
  },
  {
   "cell_type": "markdown",
   "metadata": {
    "kernel": "Python 3 (ipykernel)",
    "nbgrader": {
     "grade": false,
     "grade_id": "c-021",
     "locked": true,
     "schema_version": 3,
     "solution": false,
     "task": false
    }
   },
   "source": [
    "\n",
    "```\n",
    "---------------------------------------------------------------------------\n",
    "TypeError                                 Traceback (most recent call last)\n",
    "<ipython-input-13-8f1d97331d6c> in <module>\n",
    "      4 \n",
    "      5 \n",
    "----> 6 helon(3, 4, 5) + 1\n",
    "\n",
    "TypeError: unsupported operand type(s) for +: 'NoneType' and 'int'\n",
    "```\n"
   ]
  },
  {
   "cell_type": "markdown",
   "metadata": {
    "kernel": "Python 3 (ipykernel)",
    "nbgrader": {
     "grade": false,
     "grade_id": "c-022",
     "locked": true,
     "schema_version": 3,
     "solution": false,
     "task": false
    }
   },
   "source": [
    "\n",
    "__自ら, `None`などと書いた覚えがないのにこのようなエラーが現れたら, returnの書き忘れを疑う__と良い\n"
   ]
  },
  {
   "cell_type": "markdown",
   "metadata": {
    "kernel": "Python 3 (ipykernel)",
    "nbgrader": {
     "grade": false,
     "grade_id": "c-023",
     "locked": true,
     "schema_version": 3,
     "solution": false,
     "task": false
    }
   },
   "source": [
    "\n",
    "## 1-3. 複数の文を並べるときの記法上の規則\n",
    "関数定義の本体に複数の文が書けると述べた.\n",
    "\n",
    "```\n",
    "def helon(a, b, c):\n",
    "    s = (a + b + c) / 2\n",
    "    return (s * (s - a) * (s - b) * (s - c)) ** 0.5\n",
    "```\n",
    "\n",
    "例えばこの定義では, `s = (a + b + c) / 2`と`return (s * (s - a) * (s - b) * (s - c)) ** 0.5`が本体を構成する文であるが, このように複数の文を並べる時に, \n",
    "\n",
    " 1. 必ず1文字以上字下げをする\n",
    " 1. 字下げの量(文字数)を全て揃える\n",
    "\n",
    "という規則がある. つまり,"
   ]
  },
  {
   "cell_type": "code",
   "execution_count": null,
   "metadata": {
    "kernel": "Python 3 (ipykernel)",
    "nbgrader": {
     "grade": false,
     "grade_id": "c-024",
     "locked": true,
     "schema_version": 3,
     "solution": false,
     "task": false
    }
   },
   "outputs": [],
   "source": [
    "# error\n",
    "def helon(a, b, c):\n",
    "    s = (a + b + c) / 2\n",
    "      return (s * (s - a) * (s - b) * (s - c)) ** 0.5"
   ]
  },
  {
   "cell_type": "markdown",
   "metadata": {
    "kernel": "Python 3 (ipykernel)",
    "nbgrader": {
     "grade": false,
     "grade_id": "c-025",
     "locked": true,
     "schema_version": 3,
     "solution": false,
     "task": false
    }
   },
   "source": [
    "という書き方はしてはならない(規則2に違反)し,"
   ]
  },
  {
   "cell_type": "code",
   "execution_count": null,
   "metadata": {
    "kernel": "Python 3 (ipykernel)",
    "nbgrader": {
     "grade": false,
     "grade_id": "c-026",
     "locked": true,
     "schema_version": 3,
     "solution": false,
     "task": false
    }
   },
   "outputs": [],
   "source": [
    "# error\n",
    "def helon(a, b, c):\n",
    "s = (a + b + c) / 2\n",
    "return (s * (s - a) * (s - b) * (s - c)) ** 0.5"
   ]
  },
  {
   "cell_type": "markdown",
   "metadata": {
    "kernel": "Python 3 (ipykernel)",
    "nbgrader": {
     "grade": false,
     "grade_id": "c-027",
     "locked": true,
     "schema_version": 3,
     "solution": false,
     "task": false
    }
   },
   "source": [
    "もダメ(規則1に違反).\n",
    "\n",
    "以下はどちらもOK (字下げの量は自由)"
   ]
  },
  {
   "cell_type": "code",
   "execution_count": null,
   "metadata": {
    "kernel": "Python 3 (ipykernel)",
    "nbgrader": {
     "grade": false,
     "grade_id": "c-028",
     "locked": true,
     "schema_version": 3,
     "solution": false,
     "task": false
    }
   },
   "outputs": [],
   "source": [
    "def helon(a, b, c):\n",
    " s = (a + b + c) / 2\n",
    " return (s * (s - a) * (s - b) * (s - c)) ** 0.5"
   ]
  },
  {
   "cell_type": "code",
   "execution_count": null,
   "metadata": {
    "kernel": "Python 3 (ipykernel)",
    "nbgrader": {
     "grade": false,
     "grade_id": "c-029",
     "locked": true,
     "schema_version": 3,
     "solution": false,
     "task": false
    }
   },
   "outputs": [],
   "source": [
    "def helon(a, b, c):\n",
    "       s = (a + b + c) / 2\n",
    "       return (s * (s - a) * (s - b) * (s - c)) ** 0.5"
   ]
  },
  {
   "cell_type": "markdown",
   "metadata": {
    "kernel": "Python 3 (ipykernel)",
    "nbgrader": {
     "grade": false,
     "grade_id": "c-030",
     "locked": true,
     "schema_version": 3,
     "solution": false,
     "task": false
    }
   },
   "source": [
    "\n",
    "字下げをするときは, スペースキーを何度も押すのではなく, Tabキーを1回押すのが推奨.\n",
    "\n",
    "常に一貫した量の字下げをしてくれる\n"
   ]
  },
  {
   "cell_type": "code",
   "execution_count": null,
   "metadata": {
    "kernel": "Python 3 (ipykernel)",
    "nbgrader": {
     "grade": false,
     "grade_id": "c-031",
     "locked": true,
     "schema_version": 3,
     "solution": false,
     "task": false
    }
   },
   "outputs": [],
   "source": [
    "def helon(a, b, c):\n",
    "    s = (a + b + c) / 2\n",
    "    return (s * (s - a) * (s - b) * (s - c)) ** 0.5"
   ]
  },
  {
   "cell_type": "markdown",
   "metadata": {
    "kernel": "Python 3 (ipykernel)",
    "nbgrader": {
     "grade": false,
     "grade_id": "c-032",
     "locked": true,
     "schema_version": 3,
     "solution": false,
     "task": false
    }
   },
   "source": [
    "\n",
    "# 2. これまでに登場した式・文のまとめ\n",
    "さてこれまでに学んだことを整理すると, \n",
    "\n",
    " * (様々な)式. 算術式, 関数呼び出し式など\n",
    " * 変数の概念. それが式の中で使えること\n",
    " * import\n",
    " * 代入文\n",
    " * 関数定義\n",
    " * return文\n",
    "\n",
    "などがある. \n",
    "\n",
    "それらを流れの中で用法とともに学んできたが, ここで一度, 「文法」--- どのような文字列がプログラムとしてとりあえず合法か = セルの中に書けるもの --- をきちんと整理しておく.\n",
    "\n",
    "前述の通りプログラミング言語は数学や英語の記法を人間に読ませる場合と違い, 読者が多少の間違いを補って読んでくれることを期待できない. その杓子定規さが初学者を遠ざける一方で, 以下のような記法で厳密に定義されていて, 人間の言語のような細かな例外規則がなく, 覚えることは少ない. 例えば英語では, 5文型なるものを習う\n",
    "\n",
    "```\n",
    "<文> ::= <主語> <動詞句>  (S V) \n",
    "       | <主語> <動詞句> <補語> (S V C)\n",
    "       | <主語> <動詞句> <目的語> (S V O)\n",
    "       | <主語> <動詞句> <目的語> <目的語> (S V O O)\n",
    "       | <主語> <動詞句> <目的語> <補語> (S V O C)\n",
    "```\n",
    "\n",
    "これらは一見すると, 英文法というものを簡単なものだと思わせてくれる公式だが, 実際の英語学習者は, この文型に収まらない文がたくさんある(例えば命令文)ことを知っているし, この文型に収まっていても文法的に間違っている文がたくさんある(例えば呼応: This are a pen が間違いとか)ことも知っている. \n",
    "\n",
    "上記の規則をより精密にしていって, 例えば\n",
    "\n",
    "```\n",
    "<文> ::= <1,2人称単数主語> <1,2人称単数動詞>\n",
    "       | <3人称単数主語> <3人称単数動詞>\n",
    "       | ...\n",
    "```\n",
    "\n",
    "のように精緻化していっても, 結局例外が生じ, 果てしのない話になっていくことは目に見えている. \n",
    "\n",
    "したがって英語学習者は, これらはせいぜい理解を助けるための道具に過ぎないと思って, 「あまり本気にはしていない」というのが本当のところだろう.\n",
    "\n",
    "それに対してプログラミング言語は人工的な言語であるし, 入力されたプログラムの文法的な正しさも, その実行規則も, コンピュータ(プログラム)で実現するものであるから, 文法を厳密に, 比較的短く書き表すことが可能である(というよりも, そうでないとそれをコンピュータで読み取ったり実行したりすることがやりにくくて仕方がないので, わざわざややこしい例外を作ったりしないというだけである). \n",
    "\n",
    "したがって上記の英語5文型のノリで書いたものが「厳密に」正しい文法になる.\n",
    "\n",
    "これまでに説明した範囲を文法規則で表したものが以下になる.\n",
    "\n",
    "```\n",
    "<セル> ::= <文>*  \n",
    "\n",
    "<文> ::= <代入文>\n",
    "     | <関数定義文>\n",
    "     | <リターン文>\n",
    "     | <import文>\n",
    "     | <式>\n",
    "\n",
    "<代入文> ::= <完全名> = <式>\n",
    "\n",
    "<関数定義文> ::= def <名前> '(' ')' : <文>+\n",
    "               | def <名前> '(' <名前> ( ',' <名前> )* ) ':' <文>+\n",
    "\n",
    "<リターン文> ::= return <式>\n",
    "\n",
    "<import文> ::= import <完全名> (as 名前)?\n",
    "             | from <完全名> import 名前 (, 名前)*\n",
    "             | from <完全名> import '*'\n",
    "\n",
    "<式> ::= <数値リテラル>\n",
    "       | True\n",
    "       | False\n",
    "       | None\n",
    "       | <完全名>\n",
    "       | <単項演算式>\n",
    "       | <二項演算式>\n",
    "       | <関数呼び出し式>\n",
    "       | '(' <式> ')'\n",
    "\n",
    "数値リテラル ::= 省略 (1, 234, 567.8, 6.23e23 など)\n",
    "\n",
    "完全名 ::= 名前 ( '.' 名前 )*\n",
    "\n",
    "名前 ::= A-Za-z_ (A-Za-z0-9_)*  (アルファベット, 数字, _の並び. ただし一文字目はアルファベットまたは _ . 変数名の規則で述べたとおり)\n",
    "\n",
    "単項演算式 ::= 単項演算子 式 \n",
    "単項演算子 ::= '-' | not\n",
    "\n",
    "二項演算式 ::= 式 二項演算子 式\n",
    "二項演算子 ::= 以下のどれか '+', '-', '*', '/', '//', '%', '**', '<', '<=', '>=', '>', '==', '!=', and, or\n",
    "\n",
    "```\n",
    "\n",
    "これは, 眺めているだけでなんとなく意味はわかると思うが, 一応説明.\n",
    "\n",
    "また, 本物のPythonの全文法(ここで習わないものを含めて)はここにある. これを見てマスターせよということではなく, プログラミング言語の文法をきちんと定義するためにこのような表記を世の中でもしている, ということを見るために一度見てみると良い, ということ.\n",
    "\n",
    "これを読むときに注意すべき点\n",
    "\n",
    " * `<...> ::= ...` のような表記は, 「文(として正しい文字列)は, 右辺に書かれたような文字列である」という言明を表している. 例えば,\n",
    "```\n",
    "<リターン文> ::= return <式>\n",
    "```\n",
    "は, 「リターン文として正しい文字列というものは, return の後に式(として正しい文字列)を並べたものである」と読む. したがって, xyz という文字列が正しい式であるならば(実際そうである), return xyz は正しいリターン文, ということになる\n",
    " * ::= の右辺が | で区切られている場合, 「それらのどれか」という意味になる. 例えば,\n",
    "```\n",
    "<文> ::= \n",
    "```\n",
    "の右辺には5つの選択肢が | で区切って書かれており, これはすでに見たように, 文(として正しい文字列)は, 代入文(として正しい文字列), 関数定義文(として正しい文字列), リターン文(として正しい文字列), import文(として正しい文字列), 式(として正しい文字列), のどれかである, ということを示している. \n",
    " * * は, 0個以上の並び, + は1個以上の並びを表している. 例えば,\n",
    "\n",
    "\n",
    "\n",
    "は数学で言うところの square($x$) $\\equiv x * x$ という定義をするための, Python流の (Pythonの文法規則に則った)書き方である. その文法規則とは以下のようなものである.\n",
    "\n",
    "```\n",
    "def 関数名(変数名, 変数名, ..., 変数名):\n",
    "    文\n",
    "    ...\n",
    "    文\n",
    "```\n"
   ]
  },
  {
   "cell_type": "markdown",
   "metadata": {
    "kernel": "Python 3 (ipykernel)",
    "nbgrader": {
     "grade": false,
     "grade_id": "c-033",
     "locked": true,
     "schema_version": 3,
     "solution": false,
     "task": false
    }
   },
   "source": [
    "\n",
    "# <font color=\"green\"> Problem 1 :  内積</font>\n",
    "4つの数 $a, b, c, d$ を受け取り, ベクトル $(a, b)$ と $(c, d)$の内積を計算する\n",
    "関数, `inner(a, b, c, d)` を書き, 適当な例を使って確かめよ."
   ]
  },
  {
   "cell_type": "code",
   "execution_count": null,
   "metadata": {
    "kernel": "Python 3 (ipykernel)",
    "nbgrader": {
     "grade": true,
     "grade_id": "p-001",
     "locked": false,
     "points": 1,
     "schema_version": 3,
     "solution": true,
     "task": false
    }
   },
   "outputs": [],
   "source": [
    "BEGIN SOLUTION\n",
    "END SOLUTION"
   ]
  },
  {
   "cell_type": "code",
   "execution_count": null,
   "metadata": {
    "kernel": "Python 3 (ipykernel)",
    "nbgrader": {
     "grade": true,
     "grade_id": "p-002",
     "locked": true,
     "points": 1,
     "schema_version": 3,
     "solution": true,
     "task": false
    }
   },
   "outputs": [],
   "source": [
    "BEGIN SOLUTION\n",
    "END SOLUTION\n",
    "# test\n",
    "assert(inner(1,2,3,4) == 11)\n",
    "assert(inner(3,4,3,4) == 25)"
   ]
  },
  {
   "cell_type": "markdown",
   "metadata": {
    "kernel": "Python 3 (ipykernel)",
    "nbgrader": {
     "grade": false,
     "grade_id": "c-034",
     "locked": true,
     "schema_version": 3,
     "solution": false,
     "task": false
    }
   },
   "source": [
    "\n",
    "# <font color=\"green\"> Problem 2 :  2次方程式の解</font>\n",
    "$a, b, c$を与えられ, 2次方程式\n",
    "\n",
    "$$ ax^2 + bx + c = 0 $$\n",
    "\n",
    "の解(のひとつ; どちらでもよい)を返す関数\n",
    "`solve_q(a, b, c)`を書け. ただし, $a \\neq 0$\n",
    "を仮定して良い.\n",
    "$\\sqrt{\\cdot}$を計算する関数は`math`モジュール内の`sqrt`関数．\n",
    "\n",
    "上記方程式が実数解を持つことを仮定しても良いが,\n",
    "そう仮定する代わりに, `cmath`モジュールの`sqrt`関数(負の数の$\\sqrt{\\cdot}$を計算できる)を使っても良い\n"
   ]
  },
  {
   "cell_type": "code",
   "execution_count": null,
   "metadata": {
    "kernel": "Python 3 (ipykernel)",
    "nbgrader": {
     "grade": true,
     "grade_id": "p-003",
     "locked": false,
     "points": 1,
     "schema_version": 3,
     "solution": true,
     "task": false
    }
   },
   "outputs": [],
   "source": [
    "BEGIN SOLUTION\n",
    "END SOLUTION"
   ]
  },
  {
   "cell_type": "code",
   "execution_count": null,
   "metadata": {
    "kernel": "Python 3 (ipykernel)",
    "nbgrader": {
     "grade": true,
     "grade_id": "p-004",
     "locked": true,
     "points": 1,
     "schema_version": 3,
     "solution": true,
     "task": false
    }
   },
   "outputs": [],
   "source": [
    "BEGIN SOLUTION\n",
    "END SOLUTION\n",
    "# test\n",
    "def check_q(a, b, c):\n",
    "    x = solve_q(a, b, c)\n",
    "    return abs(a * x * x + b * x + c) < 1.0e-3\n",
    "\n",
    "assert(check_q(1,5,3))\n",
    "assert(check_q(3,4,-1))"
   ]
  },
  {
   "cell_type": "markdown",
   "metadata": {
    "kernel": "Python 3 (ipykernel)",
    "nbgrader": {
     "grade": false,
     "grade_id": "c-035",
     "locked": true,
     "schema_version": 3,
     "solution": false,
     "task": false
    }
   },
   "source": [
    "\n",
    "# <font color=\"green\"> Problem 3 :  お手軽な極限値の計算</font>\n",
    "$$ f(x) = \\frac{x}{\\sin x} + \\cos x $$ \n",
    "\n",
    "を計算するPython関数をかけ. そして, $x\\rightarrow 0$ での極限値を近似せよ. 答えを `f0` という名前の変数に格納せよ.\n",
    "\n",
    "ヒント: もちろん $f(0)$を直接計算しようとすると0での割り算が発生する. そうする代わりにかなり小さな$h > 0$に対して$f(0 + h)$ を計算すれば, 極限値の近似値が求まる. 高校までのやり方と比べるとあまりに簡単な方法\n"
   ]
  },
  {
   "cell_type": "code",
   "execution_count": null,
   "metadata": {
    "kernel": "Python 3 (ipykernel)",
    "nbgrader": {
     "grade": true,
     "grade_id": "p-005",
     "locked": false,
     "points": 1,
     "schema_version": 3,
     "solution": true,
     "task": false
    }
   },
   "outputs": [],
   "source": [
    "BEGIN SOLUTION\n",
    "END SOLUTION"
   ]
  },
  {
   "cell_type": "markdown",
   "metadata": {
    "kernel": "Python 3 (ipykernel)",
    "nbgrader": {
     "grade": false,
     "grade_id": "c-036",
     "locked": true,
     "schema_version": 3,
     "solution": false,
     "task": false
    }
   },
   "source": [
    "* 以下の math.isclose($x$, $y$, rel_tol=1.0e-3) は, xとyの相対誤差 ($|x-y|/\\max(|x|,|y|)$) $< 10^{-3}$のときに真を返す"
   ]
  },
  {
   "cell_type": "code",
   "execution_count": null,
   "metadata": {
    "kernel": "Python 3 (ipykernel)",
    "nbgrader": {
     "grade": true,
     "grade_id": "p-006",
     "locked": true,
     "points": 1,
     "schema_version": 3,
     "solution": true,
     "task": false
    }
   },
   "outputs": [],
   "source": [
    "BEGIN SOLUTION\n",
    "END SOLUTION\n",
    "# test\n",
    "assert(math.isclose(f0, 2.0, rel_tol=1.0e-3))"
   ]
  },
  {
   "cell_type": "markdown",
   "metadata": {
    "kernel": "Python 3 (ipykernel)",
    "nbgrader": {
     "grade": false,
     "grade_id": "c-037",
     "locked": true,
     "schema_version": 3,
     "solution": false,
     "task": false
    }
   },
   "source": [
    "\n",
    "# <font color=\"green\"> Problem 4 :  微分係数の計算</font>\n",
    "微分係数の定義:\n",
    "$$ f'(a) = \\lim_{h\\rightarrow 0} \\frac{f(a + h) - f(a)}{h} $$\n",
    "に従えば，$h$を0に近い数(例えば0.001)に対して，\n",
    "$$ f'(a) \\approx \\frac{f(a + h) - f(a)}{h} $$\n",
    "が成り立つ．これを利用して具体的な$a$に対する微分係数の近似値が簡単に計算できる．\n",
    "難しい記号操作をする必要はなく，必要なのは，$f(a)$の値が計算できる事だけである．\n",
    "\n",
    "これを利用して，$\\log x$の，$x = a$における\n",
    "微分係数の近似値を求める関数{\\tt log\\_prime(a)}を書き,\n",
    "自分の知る事実\n",
    "$(\\log x)' \\approx 1/x$であることを, いくつかの$a$に対して確かめてみよ．\n",
    "\n",
    "注: $h$をいくらにすればよいかについてはあまり深く\n",
    "悩む必要はないが以下に注意して適度な値を選ぶ.\n",
    "\n",
    "* $h \\rightarrow 0$での極限を知りたいのだから, 一般的には小さい方がよい\n",
    "* 一方あまり小さくしすぎると, $a + h$の計算が, 計算機が固定の桁数しか表せないことよる「丸め誤差」を起こしてしまい, 逆に誤差が大きくなってしまう (最悪の場合, $a + h = a$になってしまう.  ためしに, $1 + 10^{-16}$ を計算してみよ).  したがって無闇に$h$を小さくすればいいというわけではない.  一般には$a$に比べて$h$が相対的に小さすぎては困る.\n"
   ]
  },
  {
   "cell_type": "code",
   "execution_count": null,
   "metadata": {
    "kernel": "Python 3 (ipykernel)",
    "nbgrader": {
     "grade": true,
     "grade_id": "p-007",
     "locked": false,
     "points": 1,
     "schema_version": 3,
     "solution": true,
     "task": false
    }
   },
   "outputs": [],
   "source": [
    "BEGIN SOLUTION\n",
    "END SOLUTION"
   ]
  },
  {
   "cell_type": "code",
   "execution_count": null,
   "metadata": {
    "kernel": "Python 3 (ipykernel)",
    "nbgrader": {
     "grade": true,
     "grade_id": "p-008",
     "locked": true,
     "points": 1,
     "schema_version": 3,
     "solution": true,
     "task": false
    }
   },
   "outputs": [],
   "source": [
    "BEGIN SOLUTION\n",
    "END SOLUTION\n",
    "# test\n",
    "import math\n",
    "def check_log_prime(a):\n",
    "    return math.isclose(log_prime(a), 1/a, rel_tol=1.0e-3)\n",
    "\n",
    "assert(check_log_prime(1.0))\n",
    "assert(check_log_prime(2.0))\n",
    "assert(check_log_prime(3.0))\n",
    "assert(check_log_prime(0.1))\n",
    "assert(check_log_prime(0.01))\n",
    "assert(check_log_prime(0.001))"
   ]
  }
 ],
 "metadata": {
  "celltoolbar": "Create Assignment",
  "kernelspec": {
   "display_name": "Python 3 (ipykernel)",
   "language": "python",
   "name": "python3"
  },
  "language_info": {
   "codemirror_mode": {
    "name": "ipython",
    "version": 3
   },
   "file_extension": ".py",
   "mimetype": "text/x-python",
   "name": "python",
   "nbconvert_exporter": "python",
   "pygments_lexer": "ipython3",
   "version": "3.10.6"
  }
 },
 "nbformat": 4,
 "nbformat_minor": 4
}
