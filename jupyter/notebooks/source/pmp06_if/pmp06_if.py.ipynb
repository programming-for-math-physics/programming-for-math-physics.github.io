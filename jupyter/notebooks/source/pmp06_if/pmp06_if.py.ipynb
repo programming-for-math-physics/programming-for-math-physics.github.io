{
  "cells": [
    {
      "cell_type": "markdown",
      "metadata": {
        "kernel": "Python 3 (ipykernel)",
        "nbgrader": {
          "grade": false,
          "grade_id": "c-001",
          "locked": true,
          "schema_version": 3,
          "solution": false,
          "task": false
        }
      },
      "source": [
        "\n",
        "#  if文",
        "\n",
        " * 関数定義, for文, に加え, もう一つの重要な文が if文\n",
        " * 条件によってことなる計算をさせたい時に使う\n",
        " * <a href=\"https://docs.python.org/ja/3.8/tutorial/controlflow.html#if-statements\" target=\"_blank\">チュートリアル if文の節</a>も参照\n",
        ""
      ]
    },
    {
      "cell_type": "markdown",
      "metadata": {
        "kernel": "Python 3 (ipykernel)",
        "nbgrader": {
          "grade": false,
          "grade_id": "c-002",
          "locked": true,
          "schema_version": 3,
          "solution": false,
          "task": false
        }
      },
      "source": [
        "\n",
        "# 1. 簡単な例",
        "\n",
        "##  絶対値を計算する関数",
        "\n",
        " * もし「こう」だったら「こうする」, 違ったら「ああする」\n",
        "```\n",
        "if こう:\n",
        "   こうする\n",
        "else:\n",
        "   ああする\n",
        "```\n",
        ""
      ]
    },
    {
      "cell_type": "code",
      "metadata": {
        "kernel": "Python 3 (ipykernel)",
        "nbgrader": {
          "grade": false,
          "grade_id": "c-003",
          "locked": true,
          "schema_version": 3,
          "solution": false,
          "task": false
        }
      },
      "source": [
        "def absolute_value(x):\n",
        "    if x < 0:\n",
        "        return -x\n",
        "    else:\n",
        "        return x"
      ],
      "execution_count": null,
      "outputs": []
    },
    {
      "cell_type": "code",
      "metadata": {
        "kernel": "Python 3 (ipykernel)",
        "nbgrader": {
          "grade": false,
          "grade_id": "c-004",
          "locked": true,
          "schema_version": 3,
          "solution": false,
          "task": false
        }
      },
      "source": [
        "absolute_value(3)"
      ],
      "execution_count": null,
      "outputs": []
    },
    {
      "cell_type": "code",
      "metadata": {
        "kernel": "Python 3 (ipykernel)",
        "nbgrader": {
          "grade": false,
          "grade_id": "c-005",
          "locked": true,
          "schema_version": 3,
          "solution": false,
          "task": false
        }
      },
      "source": [
        "absolute_value(-2.1)"
      ],
      "execution_count": null,
      "outputs": []
    },
    {
      "cell_type": "markdown",
      "metadata": {
        "kernel": "Python 3 (ipykernel)",
        "nbgrader": {
          "grade": false,
          "grade_id": "c-006",
          "locked": true,
          "schema_version": 3,
          "solution": false,
          "task": false
        }
      },
      "source": [
        "\n",
        "##  xの符号(xが正ならば1, 0ならば0, 負ならば-1を返す関数). ",
        "\n",
        "* 「こう」だったらと「それ以外」の2ケースではすまない場合は `elif` を必要なだけ使う\n",
        "```\n",
        "if Aだったら:\n",
        "   こうする\n",
        "elif (Aじゃなくて)Bだったら\n",
        "   こうする\n",
        "else: \n",
        "   こうする\n",
        "```\n",
        ""
      ]
    },
    {
      "cell_type": "code",
      "metadata": {
        "kernel": "Python 3 (ipykernel)",
        "nbgrader": {
          "grade": false,
          "grade_id": "c-007",
          "locked": true,
          "schema_version": 3,
          "solution": false,
          "task": false
        }
      },
      "source": [
        "def sign(x):\n",
        "    if x < 0:\n",
        "        return -1\n",
        "    elif x == 0:\n",
        "        return 0\n",
        "    else:\n",
        "        return 1"
      ],
      "execution_count": null,
      "outputs": []
    },
    {
      "cell_type": "code",
      "metadata": {
        "kernel": "Python 3 (ipykernel)",
        "nbgrader": {
          "grade": false,
          "grade_id": "c-008",
          "locked": true,
          "schema_version": 3,
          "solution": false,
          "task": false
        }
      },
      "source": [
        "sign(3.1)"
      ],
      "execution_count": null,
      "outputs": []
    },
    {
      "cell_type": "code",
      "metadata": {
        "kernel": "Python 3 (ipykernel)",
        "nbgrader": {
          "grade": false,
          "grade_id": "c-009",
          "locked": true,
          "schema_version": 3,
          "solution": false,
          "task": false
        }
      },
      "source": [
        "sign(0)"
      ],
      "execution_count": null,
      "outputs": []
    },
    {
      "cell_type": "code",
      "metadata": {
        "kernel": "Python 3 (ipykernel)",
        "nbgrader": {
          "grade": false,
          "grade_id": "c-010",
          "locked": true,
          "schema_version": 3,
          "solution": false,
          "task": false
        }
      },
      "source": [
        "sign(-1)"
      ],
      "execution_count": null,
      "outputs": []
    },
    {
      "cell_type": "markdown",
      "metadata": {
        "kernel": "Python 3 (ipykernel)",
        "nbgrader": {
          "grade": false,
          "grade_id": "c-011",
          "locked": true,
          "schema_version": 3,
          "solution": false,
          "task": false
        }
      },
      "source": [
        "\n",
        "# 2. if文の文法",
        "\n",
        " 1. \n",
        "```\n",
        "if 式 :\n",
        "    文\n",
        "    ...\n",
        "    文\n",
        "```\n",
        " 2.\n",
        "```\n",
        "if 式 :\n",
        "    文\n",
        "    ...\n",
        "    文\n",
        "else :\n",
        "    文\n",
        "    ...\n",
        "    文\n",
        "```\n",
        " 3.\n",
        "```\n",
        "if 式 :\n",
        "    文\n",
        "    ...\n",
        "    文\n",
        "elif 式 :\n",
        "    文\n",
        "    ...\n",
        "    文\n",
        "else :\n",
        "    文\n",
        "    ...\n",
        "    文\n",
        "```\n",
        "\n",
        " * `if 式` の直後に並べる文を__then節__, else 以降に並べる文を__else節__と呼ぶ. \n",
        " * else節は省略できる\n",
        " * 3つ以上の選択肢(節)を作りたい場合は「elif 式 : 」という節(あまり一般的な用語ではないが, __elif節__と呼ぶことにする)を好きなだけならべることができる(else if の省略だと思えば良い)\n",
        " * 関数呼び出しやfor文と同じ文法上の注意\n",
        "  - then節, elif 節, else節に並べる文には字下げが必要\n",
        "  - 複数の文を節内に並べる場合は同じだけ字下げする\n",
        "\n",
        "意味(動作)は\n",
        "\n",
        " * 「式」を計算する\n",
        " * 結果が真 (True)の場合はthen節が実行される\n",
        " * 偽 (False)の場合はそれ以降の節(次のelif節ないしelse節)が実行される\n",
        ""
      ]
    },
    {
      "cell_type": "markdown",
      "metadata": {
        "kernel": "Python 3 (ipykernel)",
        "nbgrader": {
          "grade": false,
          "grade_id": "c-012",
          "locked": true,
          "schema_version": 3,
          "solution": false,
          "task": false
        }
      },
      "source": [
        "\n",
        "# <font color=\"green\"> Problem 1 :  小さくない方</font>",
        "\n",
        "2数$a, b$を与えられ, そのうちの大きくない方を返す関数 `min2(a, b)`を書け\n",
        "\n",
        "注: この関数は普通 min と呼ぶべきものであろうが, Pythonには組み込み関数としてminが備わっているため, それと名前が衝突しないよう, min2と名付けている\n",
        ""
      ]
    },
    {
      "cell_type": "code",
      "metadata": {
        "kernel": "Python 3 (ipykernel)",
        "nbgrader": {
          "grade": true,
          "grade_id": "p-001",
          "locked": false,
          "schema_version": 3,
          "solution": true,
          "task": false,
          "points": 1
        }
      },
      "source": [
        "BEGIN SOLUTION\n",
        "END SOLUTION"
      ],
      "execution_count": null,
      "outputs": []
    },
    {
      "cell_type": "code",
      "metadata": {
        "kernel": "Python 3 (ipykernel)",
        "nbgrader": {
          "grade": true,
          "grade_id": "p-002",
          "locked": true,
          "schema_version": 3,
          "solution": true,
          "task": false,
          "points": 1
        }
      },
      "source": [
        "BEGIN SOLUTION\n",
        "END SOLUTION\n",
        "# test\n",
        "assert(min2(3, 5) == 3), min2(3, 5)\n",
        "assert(min2(4, 2) == 2), min2(4, 2)\n",
        "assert(min2(1, 1) == 1), min2(1, 1)\n",
        "print(\"OK\")"
      ],
      "execution_count": null,
      "outputs": []
    },
    {
      "cell_type": "markdown",
      "metadata": {
        "kernel": "Python 3 (ipykernel)",
        "nbgrader": {
          "grade": false,
          "grade_id": "c-013",
          "locked": true,
          "schema_version": 3,
          "solution": false,
          "task": false
        }
      },
      "source": [
        "\n",
        "# <font color=\"green\"> Problem 2 :  三角形が作れるか</font>",
        "\n",
        "3数 a, b, c (すべて正の実数であることを仮定して良い)を与えられ, 3辺をa, b, cとする三角形が存在するか否かを計算する(それに応じてTrueまたはFalse)を返す関数make_triangle(a, b, c)を書け.\n",
        ""
      ]
    },
    {
      "cell_type": "code",
      "metadata": {
        "kernel": "Python 3 (ipykernel)",
        "nbgrader": {
          "grade": true,
          "grade_id": "p-003",
          "locked": false,
          "schema_version": 3,
          "solution": true,
          "task": false,
          "points": 1
        }
      },
      "source": [
        "BEGIN SOLUTION\n",
        "END SOLUTION"
      ],
      "execution_count": null,
      "outputs": []
    },
    {
      "cell_type": "code",
      "metadata": {
        "kernel": "Python 3 (ipykernel)",
        "nbgrader": {
          "grade": true,
          "grade_id": "p-004",
          "locked": true,
          "schema_version": 3,
          "solution": true,
          "task": false,
          "points": 1
        }
      },
      "source": [
        "BEGIN SOLUTION\n",
        "END SOLUTION\n",
        "# test\n",
        "assert(make_triangle(1,1,1)), (1,1,1)\n",
        "assert(not make_triangle(1,2,3)), (1,2,3)\n",
        "assert(not make_triangle(1,3,2)), (1,3,2)\n",
        "assert(not make_triangle(2,1,3)), (2,1,3)\n",
        "assert(not make_triangle(2,3,1)), (2,3,1)\n",
        "assert(not make_triangle(3,1,2)), (3,1,2)\n",
        "assert(not make_triangle(3,2,1)), (3,2,1)\n",
        "assert(make_triangle(7,8,9)), (7,8,9)\n",
        "assert(make_triangle(7,9,8)), (7,9,8)\n",
        "assert(make_triangle(8,7,9)), (8,7,9)\n",
        "assert(make_triangle(8,9,7)), (8,9,7)\n",
        "assert(make_triangle(9,7,8)), (9,7,8)\n",
        "assert(make_triangle(9,8,7)), (9,8,7)\n",
        "print(\"OK\")"
      ],
      "execution_count": null,
      "outputs": []
    },
    {
      "cell_type": "markdown",
      "metadata": {
        "kernel": "Python 3 (ipykernel)",
        "nbgrader": {
          "grade": false,
          "grade_id": "c-014",
          "locked": true,
          "schema_version": 3,
          "solution": false,
          "task": false
        }
      },
      "source": [
        "\n",
        "# <font color=\"green\"> Problem 3 :  解の数</font>",
        "\n",
        "3数 a, b, c を与えられ, 方程式\n",
        "\n",
        "$$ ax^2 + bx + c = 0 $$\n",
        "\n",
        "の実数解の個数を計算する関数 count_roots(a, b,c) を書け. \n",
        "ただし無限にある場合は, Noneを返すようにせよ.\n",
        "\n",
        "注: $a = 0$ などの「退化したケース」も正しく処理するようにせよ(if文がたくさん並ぶ)\n",
        ""
      ]
    },
    {
      "cell_type": "code",
      "metadata": {
        "kernel": "Python 3 (ipykernel)",
        "nbgrader": {
          "grade": true,
          "grade_id": "p-005",
          "locked": false,
          "schema_version": 3,
          "solution": true,
          "task": false,
          "points": 1
        }
      },
      "source": [
        "BEGIN SOLUTION\n",
        "END SOLUTION"
      ],
      "execution_count": null,
      "outputs": []
    },
    {
      "cell_type": "code",
      "metadata": {
        "kernel": "Python 3 (ipykernel)",
        "nbgrader": {
          "grade": true,
          "grade_id": "p-006",
          "locked": true,
          "schema_version": 3,
          "solution": true,
          "task": false,
          "points": 1
        }
      },
      "source": [
        "BEGIN SOLUTION\n",
        "END SOLUTION\n",
        "# test\n",
        "assert(count_roots(2, 3, 2) == 0), (2,3,2)\n",
        "assert(count_roots(2, 4, 2) == 1), (2,4,2)\n",
        "assert(count_roots(2, 5, 2) == 2), (2,5,2)\n",
        "assert(count_roots(0, 3, 2) == 1), (0,3,2)\n",
        "assert(count_roots(0, 0, 2) == 0), (0,0,2)\n",
        "assert(count_roots(0, 0, 0) == None), (0,0,0)\n",
        "print(\"OK\")"
      ],
      "execution_count": null,
      "outputs": []
    }
  ],
  "metadata": {
    "celltoolbar": "Create Assignment",
    "kernelspec": {
      "display_name": "Python 3 (ipykernel)",
      "language": "python",
      "name": "python3"
    },
    "language_info": {
      "codemirror_mode": {
        "name": "ipython",
        "version": 3
      },
      "file_extension": ".py",
      "mimetype": "text/x-python",
      "name": "python",
      "nbconvert_exporter": "python",
      "pygments_lexer": "ipython3",
      "version": "3.8.10"
    }
  },
  "nbformat": 4,
  "nbformat_minor": 4
}