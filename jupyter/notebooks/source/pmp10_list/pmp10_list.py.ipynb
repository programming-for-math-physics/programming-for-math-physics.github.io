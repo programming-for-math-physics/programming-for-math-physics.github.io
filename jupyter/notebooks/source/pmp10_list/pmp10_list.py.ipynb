{
 "cells": [
  {
   "cell_type": "markdown",
   "metadata": {
    "kernel": "Python 3 (ipykernel)",
    "nbgrader": {
     "grade": false,
     "grade_id": "c-001",
     "locked": true,
     "schema_version": 3,
     "solution": false,
     "task": false
    }
   },
   "source": [
    "\n",
    "#  リスト, タプル, 辞書, (numpy)配列, その他, 複数のデータを束ねたデータ\n",
    "* 複数の数値, 複数の(Visual Python)のオブジェ, など, 複数のデータを扱うのに最もストレートな方法は, その数だけの変数を用意することである\n",
    "* しかしこの方法には明らかに限界がある. 例えば100個の粒子の運動を追跡していくのに, 各粒子の位置, 速度, それぞれのx,y,z成分をひとつずつの変数にしたら, 変数が600個必要になる\n",
    "* 仮に根性でやったとしても, $n$を与えられて「$n$個」の粒子の運動を追跡せよと言われたら, 変数を何個用意していいかわからない\n",
    "* ある文を100回, または(与えられた)$n$回実行するのに for 文が決定的に重要であった\n",
    "* それと同じように, 一つのデータ, したがってひとつの変数に代入できるデータ, でありながら, 内部に多数, 100個でも, $n$個でも, のデータを持つことが出来る機能が決定的に重要\n",
    "* そのために\n",
    " * Pythonにもともと備わったいくつかのデータ構造(リスト, タプル, 辞書など)\n",
    " * 多数の数値を扱うのに特化したnumpyというライブラリ(モジュール)の, 配列\n",
    "がある\n",
    "* 本ゼミにおいてはnumpy配列が特に重要なため, リスト, タプル, 辞書は最小限の説明に留める\n"
   ]
  },
  {
   "cell_type": "markdown",
   "metadata": {
    "kernel": "Python 3 (ipykernel)",
    "nbgrader": {
     "grade": false,
     "grade_id": "c-002",
     "locked": true,
     "schema_version": 3,
     "solution": false,
     "task": false
    }
   },
   "source": [
    "\n",
    "# 1. リスト\n",
    "* 以下の最小限の説明に加えて以下を時間のある時に読んでおくと良い\n",
    "* https://docs.python.org/ja/3/tutorial/introduction.html#lists\n",
    "* https://docs.python.org/ja/3/tutorial/datastructures.html#more-on-lists\n",
    "\n",
    "## 1-1. リスト式\n",
    "* __文法:__ 以下のような記法(リスト式)でリストを作ることが出来る\n",
    "\n",
    "```\n",
    "[ 式 , 式 , ... , 式 ]\n",
    "```"
   ]
  },
  {
   "cell_type": "markdown",
   "metadata": {
    "kernel": "Python 3 (ipykernel)",
    "nbgrader": {
     "grade": false,
     "grade_id": "c-003",
     "locked": true,
     "schema_version": 3,
     "solution": false,
     "task": false
    }
   },
   "source": [
    "\n",
    "* 一番簡単な例\n"
   ]
  },
  {
   "cell_type": "code",
   "execution_count": null,
   "metadata": {
    "kernel": "Python 3 (ipykernel)",
    "nbgrader": {
     "grade": false,
     "grade_id": "c-004",
     "locked": false,
     "schema_version": 3,
     "solution": false,
     "task": false
    }
   },
   "outputs": [],
   "source": [
    "[ 1.0, 1.2, 1.4, 1.6, 1.8, 2.0 ]"
   ]
  },
  {
   "cell_type": "markdown",
   "metadata": {
    "kernel": "Python 3 (ipykernel)",
    "nbgrader": {
     "grade": false,
     "grade_id": "c-005",
     "locked": true,
     "schema_version": 3,
     "solution": false,
     "task": false
    }
   },
   "source": [
    "\n",
    "* リストは絵で書けば以下のようなものだと思えば良い\n",
    "* 値を入れる「箱」が一列に並んでいる\n",
    "\n",
    "<img src=\"img/list.svg\" />\n",
    "\n",
    "* Jupyter環境のバグで, 上の絵が上手く表示されていないと思われる\n",
    "* 絵を正しく表示するにはこのnotebookをJupyterLab環境で表示する. それにはページ左上隅の Jupyterアイコンで初期ページに行き, 左のフォルダから pmp11_list -&gt pmp11_list.py.ipynb を選び表示する (以下でも同様)\n"
   ]
  },
  {
   "cell_type": "markdown",
   "metadata": {
    "kernel": "Python 3 (ipykernel)",
    "nbgrader": {
     "grade": false,
     "grade_id": "c-006",
     "locked": true,
     "schema_version": 3,
     "solution": false,
     "task": false
    }
   },
   "source": [
    "\n",
    "* 要素数は任意で, 特に0個でもよい\n"
   ]
  },
  {
   "cell_type": "code",
   "execution_count": null,
   "metadata": {
    "kernel": "Python 3 (ipykernel)",
    "nbgrader": {
     "grade": false,
     "grade_id": "c-007",
     "locked": false,
     "schema_version": 3,
     "solution": false,
     "task": false
    }
   },
   "outputs": [],
   "source": [
    "[]"
   ]
  },
  {
   "cell_type": "markdown",
   "metadata": {
    "kernel": "Python 3 (ipykernel)",
    "nbgrader": {
     "grade": false,
     "grade_id": "c-008",
     "locked": true,
     "schema_version": 3,
     "solution": false,
     "task": false
    }
   },
   "source": [
    "\n",
    "* 各要素の式は計算を伴う__任意の式__であって良い\n",
    "* 当然変数を含んだりしていてもよい\n",
    "* リストは式そのものを覚えているのではなくあくまで計算した結果を保持している\n"
   ]
  },
  {
   "cell_type": "code",
   "execution_count": null,
   "metadata": {
    "kernel": "Python 3 (ipykernel)",
    "nbgrader": {
     "grade": false,
     "grade_id": "c-009",
     "locked": false,
     "schema_version": 3,
     "solution": false,
     "task": false
    }
   },
   "outputs": [],
   "source": [
    "x = 7 ** 8\n",
    "\n",
    "[ 1+2, 3*4, 5/6, x ]"
   ]
  },
  {
   "cell_type": "markdown",
   "metadata": {
    "kernel": "Python 3 (ipykernel)",
    "nbgrader": {
     "grade": false,
     "grade_id": "c-010",
     "locked": true,
     "schema_version": 3,
     "solution": false,
     "task": false
    }
   },
   "source": [
    "\n",
    "* 重要なことはこれ(リストの式)自身が「式」の一種であって, 他の式が許される任意の場所で許されること\n",
    "* 例えば当然, 代入文の右辺に書ける\n"
   ]
  },
  {
   "cell_type": "code",
   "execution_count": null,
   "metadata": {
    "kernel": "Python 3 (ipykernel)",
    "nbgrader": {
     "grade": false,
     "grade_id": "c-011",
     "locked": false,
     "schema_version": 3,
     "solution": false,
     "task": false
    }
   },
   "outputs": [],
   "source": [
    "l = [ 1+2, 3**4, 5/6, x ]\n",
    "\n",
    "l"
   ]
  },
  {
   "cell_type": "markdown",
   "metadata": {
    "kernel": "Python 3 (ipykernel)",
    "nbgrader": {
     "grade": false,
     "grade_id": "c-012",
     "locked": true,
     "schema_version": 3,
     "solution": false,
     "task": false
    }
   },
   "source": [
    "\n",
    "* 当然, 関数の返り値として返すことも出来る\n"
   ]
  },
  {
   "cell_type": "code",
   "execution_count": null,
   "metadata": {
    "kernel": "Python 3 (ipykernel)",
    "nbgrader": {
     "grade": false,
     "grade_id": "c-013",
     "locked": false,
     "schema_version": 3,
     "solution": false,
     "task": false
    }
   },
   "outputs": [],
   "source": [
    "def mk_list():\n",
    "    return [ 1+2, 3**4, 5/6, x ]\n",
    "\n",
    "mk_list()"
   ]
  },
  {
   "cell_type": "markdown",
   "metadata": {
    "kernel": "Python 3 (ipykernel)",
    "nbgrader": {
     "grade": false,
     "grade_id": "c-014",
     "locked": true,
     "schema_version": 3,
     "solution": false,
     "task": false
    }
   },
   "source": [
    "\n",
    "## 1-2. リストに対する操作\n",
    "__要点:__\n",
    "\n",
    "* len関数 : `len(リスト)` でリストの長さ\n",
    "* appendメソッド : `リスト.append(要素)` でリスト末尾に要素を追加\n",
    "* 添字式 : `リスト[i]` でリストのi番目の要素\n",
    "* 代入 : `リスト[i] = x` でリストのi番目の要素を変更\n",
    "* リストの連結 : `リスト + リスト` で二つのリストを連結\n",
    "* リストの繰り返し : `リスト * 整数` で同じリストを繰り返す(多数回連結)\n"
   ]
  },
  {
   "cell_type": "markdown",
   "metadata": {
    "kernel": "Python 3 (ipykernel)",
    "nbgrader": {
     "grade": false,
     "grade_id": "c-015",
     "locked": true,
     "schema_version": 3,
     "solution": false,
     "task": false
    }
   },
   "source": [
    "\n",
    "### 1-2-1. len関数"
   ]
  },
  {
   "cell_type": "code",
   "execution_count": null,
   "metadata": {
    "kernel": "Python 3 (ipykernel)",
    "nbgrader": {
     "grade": false,
     "grade_id": "c-016",
     "locked": false,
     "schema_version": 3,
     "solution": false,
     "task": false
    }
   },
   "outputs": [],
   "source": [
    "l = [ 1.0, 1.2, 1.4, 1.6, 1.8, 2.0 ]\n",
    "\n",
    "len(l)"
   ]
  },
  {
   "cell_type": "markdown",
   "metadata": {
    "kernel": "Python 3 (ipykernel)",
    "nbgrader": {
     "grade": false,
     "grade_id": "c-017",
     "locked": true,
     "schema_version": 3,
     "solution": false,
     "task": false
    }
   },
   "source": [
    "\n",
    "### 1-2-2. appendメソッド\n",
    "appendはリストの末尾に要素を追加する\n",
    "\n",
    "<img src=\"img/append.svg\" />\n"
   ]
  },
  {
   "cell_type": "code",
   "execution_count": null,
   "metadata": {
    "kernel": "Python 3 (ipykernel)",
    "nbgrader": {
     "grade": false,
     "grade_id": "c-018",
     "locked": false,
     "schema_version": 3,
     "solution": false,
     "task": false
    }
   },
   "outputs": [],
   "source": [
    "l.append(3.0)\n",
    "\n",
    "l"
   ]
  },
  {
   "cell_type": "markdown",
   "metadata": {
    "kernel": "Python 3 (ipykernel)",
    "nbgrader": {
     "grade": false,
     "grade_id": "c-019",
     "locked": true,
     "schema_version": 3,
     "solution": false,
     "task": false
    }
   },
   "source": [
    "\n",
    "### 1-2-3. 添字式\n",
    "* 添字は0から始まる\n"
   ]
  },
  {
   "cell_type": "code",
   "execution_count": null,
   "metadata": {
    "kernel": "Python 3 (ipykernel)",
    "nbgrader": {
     "grade": false,
     "grade_id": "c-020",
     "locked": false,
     "schema_version": 3,
     "solution": false,
     "task": false
    }
   },
   "outputs": [],
   "source": [
    "l[0]"
   ]
  },
  {
   "cell_type": "markdown",
   "metadata": {
    "kernel": "Python 3 (ipykernel)",
    "nbgrader": {
     "grade": false,
     "grade_id": "c-021",
     "locked": true,
     "schema_version": 3,
     "solution": false,
     "task": false
    }
   },
   "source": [
    "\n",
    "* 0から始まる帰結として, $n$要素のリストの最後の添字は$n-1$\n",
    "* 範囲外の添字でアクセスするとエラーになるので注意\n"
   ]
  },
  {
   "cell_type": "code",
   "execution_count": null,
   "metadata": {
    "kernel": "Python 3 (ipykernel)",
    "nbgrader": {
     "grade": false,
     "grade_id": "c-022",
     "locked": false,
     "schema_version": 3,
     "solution": false,
     "task": false
    }
   },
   "outputs": [],
   "source": [
    "l[6]"
   ]
  },
  {
   "cell_type": "code",
   "execution_count": null,
   "metadata": {
    "kernel": "Python 3 (ipykernel)",
    "nbgrader": {
     "grade": false,
     "grade_id": "c-023",
     "locked": false,
     "schema_version": 3,
     "solution": false,
     "task": false
    }
   },
   "outputs": [],
   "source": [
    "# error\n",
    "l[7]"
   ]
  },
  {
   "cell_type": "markdown",
   "metadata": {
    "kernel": "Python 3 (ipykernel)",
    "nbgrader": {
     "grade": false,
     "grade_id": "c-024",
     "locked": true,
     "schema_version": 3,
     "solution": false,
     "task": false
    }
   },
   "source": [
    "\n",
    "### 1-2-4. 要素の更新"
   ]
  },
  {
   "cell_type": "code",
   "execution_count": null,
   "metadata": {
    "kernel": "Python 3 (ipykernel)",
    "nbgrader": {
     "grade": false,
     "grade_id": "c-025",
     "locked": false,
     "schema_version": 3,
     "solution": false,
     "task": false
    }
   },
   "outputs": [],
   "source": [
    "l[3] = 30\n",
    "\n",
    "l"
   ]
  },
  {
   "cell_type": "markdown",
   "metadata": {
    "kernel": "Python 3 (ipykernel)",
    "nbgrader": {
     "grade": false,
     "grade_id": "c-026",
     "locked": true,
     "schema_version": 3,
     "solution": false,
     "task": false
    }
   },
   "source": [
    "\n",
    "### 1-2-5. 連結"
   ]
  },
  {
   "cell_type": "code",
   "execution_count": null,
   "metadata": {
    "kernel": "Python 3 (ipykernel)",
    "nbgrader": {
     "grade": false,
     "grade_id": "c-027",
     "locked": false,
     "schema_version": 3,
     "solution": false,
     "task": false
    }
   },
   "outputs": [],
   "source": [
    "ll = l + l\n",
    "\n",
    "ll"
   ]
  },
  {
   "cell_type": "markdown",
   "metadata": {
    "kernel": "Python 3 (ipykernel)",
    "nbgrader": {
     "grade": false,
     "grade_id": "c-028",
     "locked": true,
     "schema_version": 3,
     "solution": false,
     "task": false
    }
   },
   "source": [
    "\n",
    "### 1-2-6. 繰り返し"
   ]
  },
  {
   "cell_type": "code",
   "execution_count": null,
   "metadata": {
    "kernel": "Python 3 (ipykernel)",
    "nbgrader": {
     "grade": false,
     "grade_id": "c-029",
     "locked": false,
     "schema_version": 3,
     "solution": false,
     "task": false
    }
   },
   "outputs": [],
   "source": [
    "lx = l * 5\n",
    "\n",
    "lx"
   ]
  },
  {
   "cell_type": "markdown",
   "metadata": {
    "kernel": "Python 3 (ipykernel)",
    "nbgrader": {
     "grade": false,
     "grade_id": "c-030",
     "locked": true,
     "schema_version": 3,
     "solution": false,
     "task": false
    }
   },
   "source": [
    "\n",
    "## 1-3. for文によるリストの作成\n",
    "* 柔軟にリストを作るために必要なのはappendという操作で, 一回実行する度に1個要素が増えるので, appendを$n$回繰り返せば$n$要素のリストが出来る\n",
    "* appendを$n$回繰り返すのに当然ことながら for 文が使える\n",
    "\n",
    "* 例えば長さnが与えられたら, 球(VPythonのsphere)を$n$個等間隔に表示し, それらを入れたリストを返す関数\n"
   ]
  },
  {
   "cell_type": "code",
   "execution_count": null,
   "metadata": {
    "kernel": "Python 3 (ipykernel)",
    "nbgrader": {
     "grade": false,
     "grade_id": "c-031",
     "locked": false,
     "schema_version": 3,
     "solution": false,
     "task": false
    }
   },
   "outputs": [],
   "source": [
    "#\n",
    "# なぜか絵が出なかったら, メニューから Kernel -> Restart & Clear Outputしてみてね\n",
    "#\n",
    "\n",
    "from vpython import *\n",
    "\n",
    "def many_spheres(n):\n",
    "    cv = canvas()\n",
    "    S = []\n",
    "    for i in range(n):\n",
    "        x = vector(i, 0, 0)\n",
    "        S.append(sphere(pos=x, radius=0.1))\n",
    "    return cv,S\n",
    "\n",
    "cv,S = many_spheres(10)"
   ]
  },
  {
   "cell_type": "markdown",
   "metadata": {
    "kernel": "Python 3 (ipykernel)",
    "nbgrader": {
     "grade": false,
     "grade_id": "c-032",
     "locked": true,
     "schema_version": 3,
     "solution": false,
     "task": false
    }
   },
   "source": [
    "\n",
    "## 1-4. for文によるリストの走査\n",
    "* これまでfor文は\n",
    "```\n",
    "for i in range(a, b):\n",
    "    ...\n",
    "    ...\n",
    "```\n",
    "で i = a, a+1, a+2, ..., b-1 として文(...)を実行するものとして理解していた\n",
    "* 実はfor文は, 「リストの要素を順に処理する」ために使える\n",
    "\n",
    "```\n",
    "for x in リスト:\n",
    "    ...\n",
    "    ...\n",
    "```\n",
    "で, リストの各要素xに対して ... を実行する\n"
   ]
  },
  {
   "cell_type": "code",
   "execution_count": null,
   "metadata": {
    "kernel": "Python 3 (ipykernel)",
    "nbgrader": {
     "grade": false,
     "grade_id": "c-033",
     "locked": false,
     "schema_version": 3,
     "solution": false,
     "task": false
    }
   },
   "outputs": [],
   "source": [
    "l = [ 2, 3, 5, 7, 9 ]\n",
    "\n",
    "for x in l:\n",
    "    print(x)"
   ]
  },
  {
   "cell_type": "markdown",
   "metadata": {
    "kernel": "Python 3 (ipykernel)",
    "nbgrader": {
     "grade": false,
     "grade_id": "c-034",
     "locked": true,
     "schema_version": 3,
     "solution": false,
     "task": false
    }
   },
   "source": [
    "\n",
    "例えば以下は与えられたリストに含まれるの全要素の和を計算する関数\n"
   ]
  },
  {
   "cell_type": "code",
   "execution_count": null,
   "metadata": {
    "kernel": "Python 3 (ipykernel)",
    "nbgrader": {
     "grade": false,
     "grade_id": "c-035",
     "locked": false,
     "schema_version": 3,
     "solution": false,
     "task": false
    }
   },
   "outputs": [],
   "source": [
    "def sum_list(l):\n",
    "    s = 0\n",
    "    for x in l:\n",
    "        s = s + x\n",
    "    return x\n",
    "\n",
    "sum_list([1,3,6])"
   ]
  },
  {
   "cell_type": "markdown",
   "metadata": {
    "kernel": "Python 3 (ipykernel)",
    "nbgrader": {
     "grade": false,
     "grade_id": "c-036",
     "locked": true,
     "schema_version": 3,
     "solution": false,
     "task": false
    }
   },
   "source": [
    "\n",
    "* 例えばその後それらの球を乱数でブルブルと動かすにはこんなことをすれば良い\n",
    "* rgは乱数生成器で, 使い方は下で説明する\n"
   ]
  },
  {
   "cell_type": "code",
   "execution_count": null,
   "metadata": {
    "kernel": "Python 3 (ipykernel)",
    "nbgrader": {
     "grade": false,
     "grade_id": "c-037",
     "locked": false,
     "schema_version": 3,
     "solution": false,
     "task": false
    }
   },
   "outputs": [],
   "source": [
    "from vpython import *\n",
    "import random\n",
    "\n",
    "def move_random_all(S, rg):\n",
    "    for s in S:\n",
    "        # S中の各s (sphere)に対して, posを少し, 変更\n",
    "        v = vector(rg.random() - 0.5, rg.random() - 0.5, rg.random() - 0.5)\n",
    "        s.pos = s.pos + 0.2 * v\n",
    "\n",
    "def vibrating_balls():\n",
    "    cv,S = many_spheres(10)        # 10個のsphereを生成\n",
    "    rg = random.Random()\n",
    "    for t in range(1000):       # 1000回, ブルブル動かす\n",
    "        move_random_all(S, rg)\n",
    "        rate(30)\n",
    "    return cv,S\n",
    "\n",
    "cv,S = vibrating_balls()"
   ]
  },
  {
   "cell_type": "markdown",
   "metadata": {
    "kernel": "Python 3 (ipykernel)",
    "nbgrader": {
     "grade": false,
     "grade_id": "c-038",
     "locked": true,
     "schema_version": 3,
     "solution": false,
     "task": false
    }
   },
   "source": [
    "\n",
    "#  参考: 乱数生成器の使い方\n",
    "* モジュールrandomをimport\n",
    "* rg = random.Random() で乱数生成器を作成(して変数へ代入)\n",
    "* rg.random() で実数の乱数\n",
    "* rg.randint() で整数の乱数\n",
    "\n",
    "* 詳しくは https://docs.python.org/ja/3/library/random.html\n"
   ]
  },
  {
   "cell_type": "code",
   "execution_count": null,
   "metadata": {
    "kernel": "Python 3 (ipykernel)",
    "nbgrader": {
     "grade": false,
     "grade_id": "c-039",
     "locked": false,
     "schema_version": 3,
     "solution": false,
     "task": false
    }
   },
   "outputs": [],
   "source": [
    "import random\n",
    "rg = random.Random()  # 乱数生成器を作る\n",
    "print(rg.random())           # [0,1]の実数をひとつ生成する\n",
    "print(rg.randint(50, 100))   # [50,100]の整数をひとつ生成する\n",
    "for i in range(10):          # 当然こうして多数の乱数を生成できる\n",
    "    print(rg.random())"
   ]
  },
  {
   "cell_type": "markdown",
   "metadata": {
    "kernel": "Python 3 (ipykernel)",
    "nbgrader": {
     "grade": false,
     "grade_id": "c-040",
     "locked": true,
     "schema_version": 3,
     "solution": false,
     "task": false
    }
   },
   "source": [
    "\n",
    "# <font color=\"green\"> Problem 1 :  $n$個の惑星のシミュレーション</font>\n",
    "* この問題はチームで協力してひとつのプログラムを作るようにすること\n",
    "* 以前にやった, 太陽と1つの惑星のシミュレーションを, 太陽と$n$個の惑星のシミュレーションに拡張したもの. その問題の答えを参考にすると良い\n",
    "\n",
    "以下の設定で $(n+1)$ 個の球の動きをVPythonで可視化せよ\n",
    "\n",
    "* 原点に太陽がいて, 動かない\n",
    "* 太陽以外に$n$個の惑星がいて, 太陽(のみ)から力を受ける(惑星間の力は無視)\n",
    "* $i$番目の惑星は, 時刻$t=0$において位置が$(i+2,0,0)$, 速度が$(0,1/\\sqrt{n},0)$\n",
    "* 位置$x$にいる惑星は, 太陽から力を受けて以下の加速度を持つ\n",
    "\n",
    "$$ a = - \\frac{x}{|x|^3} $$\n",
    "\n",
    "* 時間の刻み(dtの値)は0.005付近から適当に試行錯誤してみよ\n",
    "* 大きくしすぎると惑星がすっ飛んでいったりとおかしな挙動になってしまう\n",
    "* なお, ここでは理由は説明しないが, 加速度を計算した後,\n",
    "```\n",
    " 位置 += 速度 * dt\n",
    " 速度 += 加速度 * dt\n",
    "```\n",
    "とする代わりに\n",
    "```\n",
    " 速度 += 加速度 * dt\n",
    " 位置 += 速度 * dt\n",
    "```\n",
    "とする(つまり速度を先に更新する = 位置を更新するのに, 更新後の速度を使う)と, 誤差が小さくなる.\n"
   ]
  },
  {
   "cell_type": "code",
   "execution_count": null,
   "metadata": {
    "kernel": "Python 3 (ipykernel)",
    "nbgrader": {
     "grade": true,
     "grade_id": "p-001",
     "locked": false,
     "points": 1,
     "schema_version": 3,
     "solution": true,
     "task": false
    }
   },
   "outputs": [],
   "source": [
    "BEGIN SOLUTION\n",
    "END SOLUTION"
   ]
  },
  {
   "cell_type": "markdown",
   "metadata": {
    "kernel": "Python 3 (ipykernel)",
    "nbgrader": {
     "grade": false,
     "grade_id": "c-041",
     "locked": true,
     "schema_version": 3,
     "solution": false,
     "task": false
    }
   },
   "source": [
    "\n",
    "## 1-5. (参考) リストの内包表記\n",
    "* これまでリストを作るのにいくつかのやり方を学んだ\n",
    " * リスト式 `[ 式, 式, ... , 式 ]`\n",
    " * リストにappendを繰り返して成長させる\n",
    "前者は一定個数の要素の, 短いリストにしか使えない. 後者は長いリストでも$n$要素のリストでも作れるが, そのために一々for文を書くのが面倒なこともある\n",
    "* よりお手軽に長いリストを簡単に作れる(ときもある)のがリスト内包表記\n",
    "* より詳しくは https://docs.python.org/ja/3/tutorial/datastructures.html#list-comprehensions\n",
    "\n",
    "__文法:__\n",
    "\n",
    "```\n",
    "[ 式 for 変数名 in 式' ]\n",
    "```\n",
    "\n",
    "ここで式' のところには for 文と同様, range(...) 式やリストになる式が来る.\n",
    "\n",
    "例を見たほうが早いので例を見せる\n"
   ]
  },
  {
   "cell_type": "code",
   "execution_count": null,
   "metadata": {
    "kernel": "Python 3 (ipykernel)",
    "nbgrader": {
     "grade": false,
     "grade_id": "c-042",
     "locked": false,
     "schema_version": 3,
     "solution": false,
     "task": false
    }
   },
   "outputs": [],
   "source": [
    "[ i * i for i in range(10) ]"
   ]
  },
  {
   "cell_type": "code",
   "execution_count": null,
   "metadata": {
    "kernel": "Python 3 (ipykernel)",
    "nbgrader": {
     "grade": false,
     "grade_id": "c-043",
     "locked": false,
     "schema_version": 3,
     "solution": false,
     "task": false
    }
   },
   "outputs": [],
   "source": [
    "import math\n",
    "[ math.sin(math.pi * i / 100) for i in range(100) ]"
   ]
  },
  {
   "cell_type": "markdown",
   "metadata": {
    "kernel": "Python 3 (ipykernel)",
    "nbgrader": {
     "grade": false,
     "grade_id": "c-044",
     "locked": true,
     "schema_version": 3,
     "solution": false,
     "task": false
    }
   },
   "source": [
    "\n",
    "見ての通り文法的にはfor 文に似ている. for文の文法は\n",
    "\n",
    "```\n",
    "for x in R:\n",
    "  文\n",
    "```\n",
    "\n",
    "であり, 「R中の各要素xに対し, 文を実行」ということである.\n",
    "\n",
    "リスト内包表記は\n",
    "\n",
    "```\n",
    "[ 式 for x in R ]\n",
    "```\n",
    "\n",
    "であり,「R中の各要素xに対し, 式を評価」し, その結果をリストにするということである. \n"
   ]
  },
  {
   "cell_type": "code",
   "execution_count": null,
   "metadata": {
    "kernel": "Python 3 (ipykernel)",
    "nbgrader": {
     "grade": false,
     "grade_id": "c-045",
     "locked": false,
     "schema_version": 3,
     "solution": false,
     "task": false
    }
   },
   "outputs": [],
   "source": [
    "[ i * i for i in range(10) ]"
   ]
  },
  {
   "cell_type": "markdown",
   "metadata": {
    "kernel": "Python 3 (ipykernel)",
    "nbgrader": {
     "grade": false,
     "grade_id": "c-046",
     "locked": true,
     "schema_version": 3,
     "solution": false,
     "task": false
    }
   },
   "source": [
    "\n",
    "を, あえてリスト内包表記を使わないで書くならば以下と同じことである.\n"
   ]
  },
  {
   "cell_type": "code",
   "execution_count": null,
   "metadata": {
    "kernel": "Python 3 (ipykernel)",
    "nbgrader": {
     "grade": false,
     "grade_id": "c-047",
     "locked": false,
     "schema_version": 3,
     "solution": false,
     "task": false
    }
   },
   "outputs": [],
   "source": [
    "L = []\n",
    "\n",
    "for i in range(10):\n",
    "    L.append(i * i)\n",
    "\n",
    "L"
   ]
  },
  {
   "cell_type": "markdown",
   "metadata": {
    "kernel": "Python 3 (ipykernel)",
    "nbgrader": {
     "grade": false,
     "grade_id": "c-048",
     "locked": true,
     "schema_version": 3,
     "solution": false,
     "task": false
    }
   },
   "source": [
    "\n",
    "例として, 以前にやった積分を行う関数を取り上げる\n"
   ]
  },
  {
   "cell_type": "code",
   "execution_count": null,
   "metadata": {
    "kernel": "Python 3 (ipykernel)",
    "nbgrader": {
     "grade": false,
     "grade_id": "c-049",
     "locked": false,
     "schema_version": 3,
     "solution": false,
     "task": false
    }
   },
   "outputs": [],
   "source": [
    "def integral(f, a, b, n):\n",
    "    s = 0\n",
    "    dx = (b - a) / n\n",
    "    for i in range(n):\n",
    "        x = a + i * dx\n",
    "        s += f(x) * dx\n",
    "    return s"
   ]
  },
  {
   "cell_type": "code",
   "execution_count": null,
   "metadata": {
    "kernel": "Python 3 (ipykernel)",
    "nbgrader": {
     "grade": false,
     "grade_id": "c-050",
     "locked": false,
     "schema_version": 3,
     "solution": false,
     "task": false
    }
   },
   "outputs": [],
   "source": [
    "import math\n",
    "integral(math.sin, 0, math.pi/2, 100)"
   ]
  },
  {
   "cell_type": "markdown",
   "metadata": {
    "kernel": "Python 3 (ipykernel)",
    "nbgrader": {
     "grade": false,
     "grade_id": "c-051",
     "locked": true,
     "schema_version": 3,
     "solution": false,
     "task": false
    }
   },
   "source": [
    "\n",
    "* これをリスト内包表記を使って書いて見る\n"
   ]
  },
  {
   "cell_type": "code",
   "execution_count": null,
   "metadata": {
    "kernel": "Python 3 (ipykernel)",
    "nbgrader": {
     "grade": false,
     "grade_id": "c-052",
     "locked": false,
     "schema_version": 3,
     "solution": false,
     "task": false
    }
   },
   "outputs": [],
   "source": [
    "def integral2(f, a, b, n):\n",
    "    dx = (b - a) / n\n",
    "    return sum([ f(a + i * dx) * dx for i in range(n) ])"
   ]
  },
  {
   "cell_type": "code",
   "execution_count": null,
   "metadata": {
    "kernel": "Python 3 (ipykernel)",
    "nbgrader": {
     "grade": false,
     "grade_id": "c-053",
     "locked": false,
     "schema_version": 3,
     "solution": false,
     "task": false
    }
   },
   "outputs": [],
   "source": [
    "import math\n",
    "integral2(math.sin, 0, math.pi/2, 100)"
   ]
  },
  {
   "cell_type": "markdown",
   "metadata": {
    "kernel": "Python 3 (ipykernel)",
    "nbgrader": {
     "grade": false,
     "grade_id": "c-054",
     "locked": true,
     "schema_version": 3,
     "solution": false,
     "task": false
    }
   },
   "source": [
    "\n",
    "* または以下のようにしたほうが見やすいかも知れない\n"
   ]
  },
  {
   "cell_type": "code",
   "execution_count": null,
   "metadata": {
    "kernel": "Python 3 (ipykernel)",
    "nbgrader": {
     "grade": false,
     "grade_id": "c-055",
     "locked": false,
     "schema_version": 3,
     "solution": false,
     "task": false
    }
   },
   "outputs": [],
   "source": [
    "def integral3(f, a, b, n):\n",
    "    dx = (b - a) / n\n",
    "    X = [ a + i * dx for i in range(n) ] # 分割点のx座標だけを並べたもの\n",
    "    return sum([ f(x) * dx for x in X ])"
   ]
  },
  {
   "cell_type": "code",
   "execution_count": null,
   "metadata": {
    "kernel": "Python 3 (ipykernel)",
    "nbgrader": {
     "grade": false,
     "grade_id": "c-056",
     "locked": false,
     "schema_version": 3,
     "solution": false,
     "task": false
    }
   },
   "outputs": [],
   "source": [
    "import math\n",
    "integral3(math.sin, 0, math.pi/2, 100)"
   ]
  },
  {
   "cell_type": "markdown",
   "metadata": {
    "kernel": "Python 3 (ipykernel)",
    "nbgrader": {
     "grade": false,
     "grade_id": "c-057",
     "locked": true,
     "schema_version": 3,
     "solution": false,
     "task": false
    }
   },
   "source": [
    "\n",
    "* リスト内包表記は見やすく, 美しいプログラムを書くのに貢献する\n",
    "* リスト内包表記に限らずプログラムの「見た目の良さ」「美しさ」を大切にしたほうが良い\n",
    "* 「美しさ」は主観的で, 確かな基準を示すのが難しいが, 数学の計算をしているなら, 「見慣れた数式に見た目が近い」というのはひとつの基準である\n",
    "* 「見慣れた数式に見た目が近い」$\\approx$「読みやすい・理解しやすい」$\\approx$「間違いを起こしにくい・間違いに気づきやすい」ということにつながる\n"
   ]
  },
  {
   "cell_type": "markdown",
   "metadata": {
    "kernel": "Python 3 (ipykernel)",
    "nbgrader": {
     "grade": false,
     "grade_id": "c-058",
     "locked": true,
     "schema_version": 3,
     "solution": false,
     "task": false
    }
   },
   "source": [
    "\n",
    "# 2. タプル\n",
    "* タプルについては説明を省略する. 以下を読んでおくと良い\n",
    "* リストと似たものであり, この授業ではなくても十分生きていける\n",
    "* https://docs.python.org/ja/3/tutorial/datastructures.html#tuples-and-sequences\n"
   ]
  },
  {
   "cell_type": "markdown",
   "metadata": {
    "kernel": "Python 3 (ipykernel)",
    "nbgrader": {
     "grade": false,
     "grade_id": "c-059",
     "locked": true,
     "schema_version": 3,
     "solution": false,
     "task": false
    }
   },
   "source": [
    "\n",
    "# 3. 辞書\n",
    "* 辞書についても説明を省略する. \n",
    "* 本当はPythonが強力な言語であるための重要な機能だが, この授業ではなくても十分生きていける\n",
    "* https://docs.python.org/ja/3/tutorial/datastructures.html#dictionaries\n"
   ]
  }
 ],
 "metadata": {
  "celltoolbar": "Create Assignment",
  "kernelspec": {
   "display_name": "Python 3 (ipykernel)",
   "language": "python",
   "name": "python3"
  },
  "language_info": {
   "codemirror_mode": {
    "name": "ipython",
    "version": 3
   },
   "file_extension": ".py",
   "mimetype": "text/x-python",
   "name": "python",
   "nbconvert_exporter": "python",
   "pygments_lexer": "ipython3",
   "version": "3.10.6"
  }
 },
 "nbformat": 4,
 "nbformat_minor": 4
}
