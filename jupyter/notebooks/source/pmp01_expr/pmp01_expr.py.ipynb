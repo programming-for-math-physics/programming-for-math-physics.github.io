{
 "cells": [
  {
   "cell_type": "markdown",
   "metadata": {
    "kernel": "Python 3",
    "nbgrader": {
     "grade": false,
     "grade_id": "c-001",
     "locked": true,
     "schema_version": 3,
     "solution": false,
     "task": false
    }
   },
   "source": [
    "\n",
    "#  式\n",
    "Pythonの色々な式について学ぶ.\n",
    "\n",
    "# 1. 算術演算や比較式\n",
    "以下を `Shift + Enter` で実行してみよ.\n"
   ]
  },
  {
   "cell_type": "code",
   "execution_count": null,
   "metadata": {
    "kernel": "Python 3",
    "nbgrader": {
     "grade": false,
     "grade_id": "c-002",
     "locked": true,
     "schema_version": 3,
     "solution": false,
     "task": false
    }
   },
   "outputs": [],
   "source": [
    "1 + 2"
   ]
  },
  {
   "cell_type": "markdown",
   "metadata": {
    "kernel": "Python 3",
    "nbgrader": {
     "grade": false,
     "grade_id": "c-003",
     "locked": true,
     "schema_version": 3,
     "solution": false,
     "task": false
    }
   },
   "source": [
    "\n",
    "以下でも同様で, セルに何かが入力されていたら`Shift + Enter` で実行してみよう.\n",
    "\n",
    "心構えとしては, 何も考えずに `Shift + Enter` を叩き続けても無意味なので, \n",
    "\n",
    " * 「正しいPythonの式や文」の知識を広げているという(英語の勉強を例文を読みながらやっているときのような)意識で読む\n",
    " * 実行したら出てくる結果を予測しながら実行する\n",
    "\n",
    "途中からは, 自分でセルに(正しく)プログラムを入力する演習が始まる."
   ]
  },
  {
   "cell_type": "code",
   "execution_count": null,
   "metadata": {
    "kernel": "Python 3",
    "nbgrader": {
     "grade": false,
     "grade_id": "c-004",
     "locked": true,
     "schema_version": 3,
     "solution": false,
     "task": false
    }
   },
   "outputs": [],
   "source": [
    "3 * 4"
   ]
  },
  {
   "cell_type": "markdown",
   "metadata": {
    "kernel": "Python 3",
    "nbgrader": {
     "grade": false,
     "grade_id": "c-005",
     "locked": true,
     "schema_version": 3,
     "solution": false,
     "task": false
    }
   },
   "source": [
    "\n",
    "最もよく使うのは以下のような数学でもよく現れる式.\n",
    "式の優先度は普段数学でおなじみの規則で処理してくれる"
   ]
  },
  {
   "cell_type": "code",
   "execution_count": null,
   "metadata": {
    "kernel": "Python 3",
    "nbgrader": {
     "grade": false,
     "grade_id": "c-006",
     "locked": true,
     "schema_version": 3,
     "solution": false,
     "task": false
    }
   },
   "outputs": [],
   "source": [
    "5 + 6 * 7"
   ]
  },
  {
   "cell_type": "markdown",
   "metadata": {
    "kernel": "Python 3",
    "nbgrader": {
     "grade": false,
     "grade_id": "c-007",
     "locked": true,
     "schema_version": 3,
     "solution": false,
     "task": false
    }
   },
   "source": [
    "\n",
    "もちろん小数点付きの数(__浮動小数点数__)も使える"
   ]
  },
  {
   "cell_type": "code",
   "execution_count": null,
   "metadata": {
    "kernel": "Python 3",
    "nbgrader": {
     "grade": false,
     "grade_id": "c-008",
     "locked": true,
     "schema_version": 3,
     "solution": false,
     "task": false
    }
   },
   "outputs": [],
   "source": [
    "1.2 * 3.4"
   ]
  },
  {
   "cell_type": "markdown",
   "metadata": {
    "kernel": "Python 3",
    "nbgrader": {
     "grade": false,
     "grade_id": "c-009",
     "locked": true,
     "schema_version": 3,
     "solution": false,
     "task": false
    }
   },
   "source": [
    "\n",
    "割り算をすると結果はひとりでに浮動小数点数になる\n"
   ]
  },
  {
   "cell_type": "code",
   "execution_count": null,
   "metadata": {
    "kernel": "Python 3",
    "nbgrader": {
     "grade": false,
     "grade_id": "c-010",
     "locked": true,
     "schema_version": 3,
     "solution": false,
     "task": false
    }
   },
   "outputs": [],
   "source": [
    "89 / 10"
   ]
  },
  {
   "cell_type": "markdown",
   "metadata": {
    "kernel": "Python 3",
    "nbgrader": {
     "grade": false,
     "grade_id": "c-011",
     "locked": true,
     "schema_version": 3,
     "solution": false,
     "task": false
    }
   },
   "source": [
    "\n",
    "// で, __端数切り捨ての割り算__ になる"
   ]
  },
  {
   "cell_type": "code",
   "execution_count": null,
   "metadata": {
    "kernel": "Python 3",
    "nbgrader": {
     "grade": false,
     "grade_id": "c-012",
     "locked": true,
     "schema_version": 3,
     "solution": false,
     "task": false
    }
   },
   "outputs": [],
   "source": [
    "89 // 10"
   ]
  },
  {
   "cell_type": "markdown",
   "metadata": {
    "kernel": "Python 3",
    "nbgrader": {
     "grade": false,
     "grade_id": "c-013",
     "locked": true,
     "schema_version": 3,
     "solution": false,
     "task": false
    }
   },
   "source": [
    "\n",
    "絶対値が非常に小さい(大きい)浮動小数点数は, いわゆる指数表記が便利で, $a \\times 10^b$ を $a$ e $b$ のように書く. 以下は, $6.02 \\times 10^{23}$ ということ\n"
   ]
  },
  {
   "cell_type": "code",
   "execution_count": null,
   "metadata": {
    "kernel": "Python 3",
    "nbgrader": {
     "grade": false,
     "grade_id": "c-014",
     "locked": true,
     "schema_version": 3,
     "solution": false,
     "task": false
    }
   },
   "outputs": [],
   "source": [
    "6.02e23"
   ]
  },
  {
   "cell_type": "markdown",
   "metadata": {
    "kernel": "Python 3",
    "nbgrader": {
     "grade": false,
     "grade_id": "c-015",
     "locked": true,
     "schema_version": 3,
     "solution": false,
     "task": false
    }
   },
   "source": [
    "\n",
    "$1.60\\times 10^{-19}$\n"
   ]
  },
  {
   "cell_type": "code",
   "execution_count": null,
   "metadata": {
    "kernel": "Python 3",
    "nbgrader": {
     "grade": false,
     "grade_id": "c-016",
     "locked": true,
     "schema_version": 3,
     "solution": false,
     "task": false
    }
   },
   "outputs": [],
   "source": [
    "1.60e-19"
   ]
  },
  {
   "cell_type": "markdown",
   "metadata": {
    "kernel": "Python 3",
    "nbgrader": {
     "grade": false,
     "grade_id": "c-017",
     "locked": true,
     "schema_version": 3,
     "solution": false,
     "task": false
    }
   },
   "source": [
    "\n",
    "** は累乗の演算子. $a$ `**` $b$ で $a^b$ が計算できる"
   ]
  },
  {
   "cell_type": "code",
   "execution_count": null,
   "metadata": {
    "kernel": "Python 3",
    "nbgrader": {
     "grade": false,
     "grade_id": "c-018",
     "locked": true,
     "schema_version": 3,
     "solution": false,
     "task": false
    }
   },
   "outputs": [],
   "source": [
    "3 ** 4"
   ]
  },
  {
   "cell_type": "markdown",
   "metadata": {
    "kernel": "Python 3",
    "nbgrader": {
     "grade": false,
     "grade_id": "c-019",
     "locked": true,
     "schema_version": 3,
     "solution": false,
     "task": false
    }
   },
   "source": [
    "\n",
    "結果が巨大になってもOK (これは実は当たり前ではなく, 多くのプログラミング言語で備わっている整数は, 扱える数の範囲が決まっておりそれを越えるとエラーになるか, 意図しない結果になる"
   ]
  },
  {
   "cell_type": "code",
   "execution_count": null,
   "metadata": {
    "kernel": "Python 3",
    "nbgrader": {
     "grade": false,
     "grade_id": "c-020",
     "locked": true,
     "schema_version": 3,
     "solution": false,
     "task": false
    }
   },
   "outputs": [],
   "source": [
    "56 ** 78"
   ]
  },
  {
   "cell_type": "markdown",
   "metadata": {
    "kernel": "Python 3",
    "nbgrader": {
     "grade": false,
     "grade_id": "c-021",
     "locked": true,
     "schema_version": 3,
     "solution": false,
     "task": false
    }
   },
   "source": [
    "\n",
    "複素数も使える. `1j` がいわゆる虚数単位 ($\\sqrt{-1}$). \n",
    "数字の後に`j`をつければ純虚数.\n"
   ]
  },
  {
   "cell_type": "code",
   "execution_count": null,
   "metadata": {
    "kernel": "Python 3",
    "nbgrader": {
     "grade": false,
     "grade_id": "c-022",
     "locked": true,
     "schema_version": 3,
     "solution": false,
     "task": false
    }
   },
   "outputs": [],
   "source": [
    "2j * 3j"
   ]
  },
  {
   "cell_type": "code",
   "execution_count": null,
   "metadata": {
    "kernel": "Python 3",
    "nbgrader": {
     "grade": false,
     "grade_id": "c-023",
     "locked": true,
     "schema_version": 3,
     "solution": false,
     "task": false
    }
   },
   "outputs": [],
   "source": [
    "(1 + 1.73j) ** 3"
   ]
  },
  {
   "cell_type": "markdown",
   "metadata": {
    "kernel": "Python 3",
    "nbgrader": {
     "grade": false,
     "grade_id": "c-024",
     "locked": true,
     "schema_version": 3,
     "solution": false,
     "task": false
    }
   },
   "source": [
    "\n",
    "その他の色々な演算子\n",
    "\n",
    "余り"
   ]
  },
  {
   "cell_type": "code",
   "execution_count": null,
   "metadata": {
    "kernel": "Python 3",
    "nbgrader": {
     "grade": false,
     "grade_id": "c-025",
     "locked": true,
     "schema_version": 3,
     "solution": false,
     "task": false
    }
   },
   "outputs": [],
   "source": [
    "89 % 10"
   ]
  },
  {
   "cell_type": "markdown",
   "metadata": {
    "kernel": "Python 3",
    "nbgrader": {
     "grade": false,
     "grade_id": "c-026",
     "locked": true,
     "schema_version": 3,
     "solution": false,
     "task": false
    }
   },
   "source": [
    "\n",
    "比較. これらを評価(計算)すると比較結果として真理値 (True または False)が得られる\n",
    "\n",
    "$ < $"
   ]
  },
  {
   "cell_type": "code",
   "execution_count": null,
   "metadata": {
    "kernel": "Python 3",
    "nbgrader": {
     "grade": false,
     "grade_id": "c-027",
     "locked": true,
     "schema_version": 3,
     "solution": false,
     "task": false
    }
   },
   "outputs": [],
   "source": [
    "1 < 2"
   ]
  },
  {
   "cell_type": "markdown",
   "metadata": {
    "kernel": "Python 3",
    "nbgrader": {
     "grade": false,
     "grade_id": "c-028",
     "locked": true,
     "schema_version": 3,
     "solution": false,
     "task": false
    }
   },
   "source": [
    "\n",
    "$ \\leq $ は `<=`"
   ]
  },
  {
   "cell_type": "code",
   "execution_count": null,
   "metadata": {
    "kernel": "Python 3",
    "nbgrader": {
     "grade": false,
     "grade_id": "c-029",
     "locked": true,
     "schema_version": 3,
     "solution": false,
     "task": false
    }
   },
   "outputs": [],
   "source": [
    "1 <= 2"
   ]
  },
  {
   "cell_type": "markdown",
   "metadata": {
    "kernel": "Python 3",
    "nbgrader": {
     "grade": false,
     "grade_id": "c-030",
     "locked": true,
     "schema_version": 3,
     "solution": false,
     "task": false
    }
   },
   "source": [
    "\n",
    "$ > $"
   ]
  },
  {
   "cell_type": "code",
   "execution_count": null,
   "metadata": {
    "kernel": "Python 3",
    "nbgrader": {
     "grade": false,
     "grade_id": "c-031",
     "locked": true,
     "schema_version": 3,
     "solution": false,
     "task": false
    }
   },
   "outputs": [],
   "source": [
    "1 > 2"
   ]
  },
  {
   "cell_type": "markdown",
   "metadata": {
    "kernel": "Python 3",
    "nbgrader": {
     "grade": false,
     "grade_id": "c-032",
     "locked": true,
     "schema_version": 3,
     "solution": false,
     "task": false
    }
   },
   "source": [
    "\n",
    "$ \\geq $ は `>=`"
   ]
  },
  {
   "cell_type": "code",
   "execution_count": null,
   "metadata": {
    "kernel": "Python 3",
    "nbgrader": {
     "grade": false,
     "grade_id": "c-033",
     "locked": true,
     "schema_version": 3,
     "solution": false,
     "task": false
    }
   },
   "outputs": [],
   "source": [
    "1 >= 2"
   ]
  },
  {
   "cell_type": "markdown",
   "metadata": {
    "kernel": "Python 3",
    "nbgrader": {
     "grade": false,
     "grade_id": "c-034",
     "locked": true,
     "schema_version": 3,
     "solution": false,
     "task": false
    }
   },
   "source": [
    "\n",
    "__要注意:__ 一致するかどうかの比較 ($ = $) は, `=` ではなく `==` "
   ]
  },
  {
   "cell_type": "code",
   "execution_count": null,
   "metadata": {
    "kernel": "Python 3",
    "nbgrader": {
     "grade": false,
     "grade_id": "c-035",
     "locked": true,
     "schema_version": 3,
     "solution": false,
     "task": false
    }
   },
   "outputs": [],
   "source": [
    "1 == 2"
   ]
  },
  {
   "cell_type": "markdown",
   "metadata": {
    "kernel": "Python 3",
    "nbgrader": {
     "grade": false,
     "grade_id": "c-036",
     "locked": true,
     "schema_version": 3,
     "solution": false,
     "task": false
    }
   },
   "source": [
    "\n",
    "`=` は後に出てくる「変数への代入」の記号. 以下はエラーになる!"
   ]
  },
  {
   "cell_type": "code",
   "execution_count": null,
   "metadata": {
    "kernel": "Python 3",
    "nbgrader": {
     "grade": false,
     "grade_id": "c-037",
     "locked": true,
     "schema_version": 3,
     "solution": false,
     "task": false
    }
   },
   "outputs": [],
   "source": [
    "# error\n",
    "1 = 2"
   ]
  },
  {
   "cell_type": "markdown",
   "metadata": {
    "kernel": "Python 3",
    "nbgrader": {
     "grade": false,
     "grade_id": "c-038",
     "locked": true,
     "schema_version": 3,
     "solution": false,
     "task": false
    }
   },
   "source": [
    "\n",
    "# 2. 関数(の呼び出し)\n",
    "四則演算以外の多くの演算が, Pythonでは「関数」として提供されている\n"
   ]
  },
  {
   "cell_type": "markdown",
   "metadata": {
    "kernel": "Python 3",
    "nbgrader": {
     "grade": false,
     "grade_id": "c-039",
     "locked": true,
     "schema_version": 3,
     "solution": false,
     "task": false
    }
   },
   "source": [
    "絶対値$|x|$"
   ]
  },
  {
   "cell_type": "code",
   "execution_count": null,
   "metadata": {
    "kernel": "Python 3",
    "nbgrader": {
     "grade": false,
     "grade_id": "c-040",
     "locked": true,
     "schema_version": 3,
     "solution": false,
     "task": false
    }
   },
   "outputs": [],
   "source": [
    "abs(-5)"
   ]
  },
  {
   "cell_type": "markdown",
   "metadata": {
    "kernel": "Python 3",
    "nbgrader": {
     "grade": false,
     "grade_id": "c-041",
     "locked": true,
     "schema_version": 3,
     "solution": false,
     "task": false
    }
   },
   "source": [
    "大きい(小さくない)方"
   ]
  },
  {
   "cell_type": "code",
   "execution_count": null,
   "metadata": {
    "kernel": "Python 3",
    "nbgrader": {
     "grade": false,
     "grade_id": "c-042",
     "locked": true,
     "schema_version": 3,
     "solution": false,
     "task": false
    }
   },
   "outputs": [],
   "source": [
    "max(3, 4)"
   ]
  },
  {
   "cell_type": "markdown",
   "metadata": {
    "kernel": "Python 3",
    "nbgrader": {
     "grade": false,
     "grade_id": "c-043",
     "locked": true,
     "schema_version": 3,
     "solution": false,
     "task": false
    }
   },
   "source": [
    "小さい(大きくない)方"
   ]
  },
  {
   "cell_type": "code",
   "execution_count": null,
   "metadata": {
    "kernel": "Python 3",
    "nbgrader": {
     "grade": false,
     "grade_id": "c-044",
     "locked": true,
     "schema_version": 3,
     "solution": false,
     "task": false
    }
   },
   "outputs": [],
   "source": [
    "min(3, 4)"
   ]
  },
  {
   "cell_type": "markdown",
   "metadata": {
    "kernel": "Python 3",
    "nbgrader": {
     "grade": false,
     "grade_id": "c-045",
     "locked": true,
     "schema_version": 3,
     "solution": false,
     "task": false
    }
   },
   "source": [
    "四捨五入"
   ]
  },
  {
   "cell_type": "code",
   "execution_count": null,
   "metadata": {
    "kernel": "Python 3",
    "nbgrader": {
     "grade": false,
     "grade_id": "c-046",
     "locked": true,
     "schema_version": 3,
     "solution": false,
     "task": false
    }
   },
   "outputs": [],
   "source": [
    "round(1.49)"
   ]
  },
  {
   "cell_type": "code",
   "execution_count": null,
   "metadata": {
    "kernel": "Python 3",
    "nbgrader": {
     "grade": false,
     "grade_id": "c-047",
     "locked": true,
     "schema_version": 3,
     "solution": false,
     "task": false
    }
   },
   "outputs": [],
   "source": [
    "round(1.5)"
   ]
  },
  {
   "cell_type": "markdown",
   "metadata": {
    "kernel": "Python 3",
    "nbgrader": {
     "grade": false,
     "grade_id": "c-048",
     "locked": true,
     "schema_version": 3,
     "solution": false,
     "task": false
    }
   },
   "source": [
    "\n",
    "以下は予測と違うかも知れない. 2.5 ピッタリのつもりで書いても, コンピュータでは数を2進数で表す関係で僅かな誤差が出ることがある. その結果以下のような結果になることがある.\n"
   ]
  },
  {
   "cell_type": "code",
   "execution_count": null,
   "metadata": {
    "kernel": "Python 3",
    "nbgrader": {
     "grade": false,
     "grade_id": "c-049",
     "locked": true,
     "schema_version": 3,
     "solution": false,
     "task": false
    }
   },
   "outputs": [],
   "source": [
    "round(2.5)"
   ]
  },
  {
   "cell_type": "markdown",
   "metadata": {
    "kernel": "Python 3",
    "nbgrader": {
     "grade": false,
     "grade_id": "c-050",
     "locked": true,
     "schema_version": 3,
     "solution": false,
     "task": false
    }
   },
   "source": [
    "\n",
    "ここでのポイントは, Python言語では色々な計算がこのような共通の記法\n",
    "\n",
    "関数名(式, 式, 式, ...)\n",
    "\n",
    "で書ける(絶対値の関数名はabs, 最小値の関数名はmin, ...)ということ. 数学でおなじみの記法とは違うこともある. \n",
    "\n",
    "#  関数呼び出しにまつわる用語\n",
    " * このように書かれた式を__「関数適用(式)」__とか__「関数呼び出し(式)」__と言う. \n",
    "特にプログラミングの世界では後者の呼び方をすることが多く, 関数呼び出し式を評価することを, 関数を__「呼び出す」__などという.\n",
    "\n",
    " * 関数を呼び出す際の入力値 (abs(-5)の-5, min(3, 4)の3や4)のことを, その関数呼び出しの__「引数(argument)」__という. また, 関数呼び出しabsに, 引数-5を__「渡した」__などという.\n",
    "\n",
    " * 関数を呼び出した結果の値(abs(-5)であれば5, min(3, 4)であれば3)のことをその関数の__「返り値(return value)」__という. また, abs(-5)という関数呼び出しが5という値を__「返した」__などという\n",
    "\n",
    "一般にプログラミングの世界では\n",
    "\n",
    "```\n",
    "abs(-5)\n",
    "```\n",
    "\n",
    "などの関数を含んだ式を計算することを, 色々な「動作」を想起させる言葉で表現する. \n",
    "\n",
    "この式は, \n",
    "\n",
    " * absに, -5を__渡して__, __呼び出す__\n",
    " * (呼び出された)absは, 5を__返す__\n",
    "\n",
    "という具合. 数学で $|x|$ や$\\sin x$と書いた時にそのような表現をする人はいないし, そうする必要もない. なぜプログラミングではそうしたくなるのか(そう思っておくことが有用なのか)は後にわかる. 今は, 関数の式を見るとついそういうことをイメージしてしまう, 変わった人種が世の中には(ほぼ, プログラミングをする人の数だけ)いると思っていれば良い.\n",
    "\n",
    "これまでに見せた算術式や比較式, 関数呼び出し式はすべて式の一種で両者を自由に組み合わせて複雑な式を作ることができる.\n"
   ]
  },
  {
   "cell_type": "code",
   "execution_count": null,
   "metadata": {
    "kernel": "Python 3",
    "nbgrader": {
     "grade": false,
     "grade_id": "c-051",
     "locked": true,
     "schema_version": 3,
     "solution": false,
     "task": false
    }
   },
   "outputs": [],
   "source": [
    "min(abs((1+2j)**10), abs((1+1j)**20))"
   ]
  },
  {
   "cell_type": "markdown",
   "metadata": {
    "kernel": "Python 3",
    "nbgrader": {
     "grade": false,
     "grade_id": "c-052",
     "locked": true,
     "schema_version": 3,
     "solution": false,
     "task": false
    }
   },
   "source": [
    "\n",
    "# 3. モジュール(機能)のimport (輸入)\n",
    "Pythonには様々な関数が備わっており, 高校までの数学で普段使うような関数は大概備わっている. ただしそれらはある「おまじない」を唱えないと使えない.\n",
    "\n",
    "例えば$\\sin$関数くらい使えるだろうと思って以下を実行するとエラーになる\n"
   ]
  },
  {
   "cell_type": "code",
   "execution_count": null,
   "metadata": {
    "kernel": "Python 3",
    "nbgrader": {
     "grade": false,
     "grade_id": "c-053",
     "locked": true,
     "schema_version": 3,
     "solution": false,
     "task": false
    }
   },
   "outputs": [],
   "source": [
    "# error\n",
    "sin(3.0)"
   ]
  },
  {
   "cell_type": "markdown",
   "metadata": {
    "kernel": "Python 3",
    "nbgrader": {
     "grade": false,
     "grade_id": "c-054",
     "locked": true,
     "schema_version": 3,
     "solution": false,
     "task": false
    }
   },
   "source": [
    "## 3-1. import の基本\n",
    "これを解決するためには以下の「おまじない」を唱える\n"
   ]
  },
  {
   "cell_type": "code",
   "execution_count": null,
   "metadata": {
    "kernel": "Python 3",
    "nbgrader": {
     "grade": false,
     "grade_id": "c-055",
     "locked": true,
     "schema_version": 3,
     "solution": false,
     "task": false
    }
   },
   "outputs": [],
   "source": [
    "import math"
   ]
  },
  {
   "cell_type": "markdown",
   "metadata": {
    "kernel": "Python 3",
    "nbgrader": {
     "grade": false,
     "grade_id": "c-056",
     "locked": true,
     "schema_version": 3,
     "solution": false,
     "task": false
    }
   },
   "source": [
    "\n",
    "このおまじないを唱えると, `math.sin` という名前でで sin関数をつけるようになる\n"
   ]
  },
  {
   "cell_type": "code",
   "execution_count": null,
   "metadata": {
    "kernel": "Python 3",
    "nbgrader": {
     "grade": false,
     "grade_id": "c-057",
     "locked": true,
     "schema_version": 3,
     "solution": false,
     "task": false
    }
   },
   "outputs": [],
   "source": [
    "math.sin(3.0)"
   ]
  },
  {
   "cell_type": "markdown",
   "metadata": {
    "kernel": "Python 3",
    "nbgrader": {
     "grade": false,
     "grade_id": "c-058",
     "locked": true,
     "schema_version": 3,
     "solution": false,
     "task": false
    }
   },
   "source": [
    "\n",
    "ポイントは二つで,\n",
    "\n",
    " * `import math` によって `math` という__モジュール__ (あるひとかたまりの機能を備えた「部品」だと思えば良い)を実行中のプログラムに「仕入れ」てくる. \n",
    "\n",
    " * `math`というモジュールには数学でよく使う関数($\\sin$, $\\cos$など)が揃っている. それらにアクセスするためには, `math.sin`, `math.cos` のように, モジュール名.関数名という表記を用いる. \n",
    "\n",
    "比喩としては, モジュール名(math)が名字, その中の関数名が名前に相当する. 自分の家族でない人を呼ぶときは, フルネームで呼ぶのが基本, ということ. それをせずに, ただただ「あきこちゃん」と呼んでも, 矢田亜希子のことなのか, 和田アキ子のことなのかわからない(または紛らわしい)ので, こうするのが理にかなっている.\n",
    "\n",
    "色々な数学の関数を試しに使って見る.\n",
    "\n",
    "なお, `import math`をあるセルで実行したら他のセルでも`math`モジュールが使えるようになる. 上記のセルを実行していれば以下は(エラーにならずに)実行できるはずである. エラーになったら`import math`を実行せよ.\n"
   ]
  },
  {
   "cell_type": "markdown",
   "metadata": {
    "kernel": "Python 3",
    "nbgrader": {
     "grade": false,
     "grade_id": "c-059",
     "locked": true,
     "schema_version": 3,
     "solution": false,
     "task": false
    }
   },
   "source": [
    "\n",
    "$\\cos$"
   ]
  },
  {
   "cell_type": "code",
   "execution_count": null,
   "metadata": {
    "kernel": "Python 3",
    "nbgrader": {
     "grade": false,
     "grade_id": "c-060",
     "locked": true,
     "schema_version": 3,
     "solution": false,
     "task": false
    }
   },
   "outputs": [],
   "source": [
    "math.cos(3.14)"
   ]
  },
  {
   "cell_type": "markdown",
   "metadata": {
    "kernel": "Python 3",
    "nbgrader": {
     "grade": false,
     "grade_id": "c-061",
     "locked": true,
     "schema_version": 3,
     "solution": false,
     "task": false
    }
   },
   "source": [
    "\n",
    "$\\sin$"
   ]
  },
  {
   "cell_type": "code",
   "execution_count": null,
   "metadata": {
    "kernel": "Python 3",
    "nbgrader": {
     "grade": false,
     "grade_id": "c-062",
     "locked": true,
     "schema_version": 3,
     "solution": false,
     "task": false
    }
   },
   "outputs": [],
   "source": [
    "math.sin(1.57)"
   ]
  },
  {
   "cell_type": "markdown",
   "metadata": {
    "kernel": "Python 3",
    "nbgrader": {
     "grade": false,
     "grade_id": "c-063",
     "locked": true,
     "schema_version": 3,
     "solution": false,
     "task": false
    }
   },
   "source": [
    "\n",
    "$\\sqrt{x}$"
   ]
  },
  {
   "cell_type": "code",
   "execution_count": null,
   "metadata": {
    "kernel": "Python 3",
    "nbgrader": {
     "grade": false,
     "grade_id": "c-064",
     "locked": true,
     "schema_version": 3,
     "solution": false,
     "task": false
    }
   },
   "outputs": [],
   "source": [
    "math.sqrt(1.44)"
   ]
  },
  {
   "cell_type": "markdown",
   "metadata": {
    "kernel": "Python 3",
    "nbgrader": {
     "grade": false,
     "grade_id": "c-065",
     "locked": true,
     "schema_version": 3,
     "solution": false,
     "task": false
    }
   },
   "source": [
    "\n",
    "$e^x$"
   ]
  },
  {
   "cell_type": "code",
   "execution_count": null,
   "metadata": {
    "kernel": "Python 3",
    "nbgrader": {
     "grade": false,
     "grade_id": "c-066",
     "locked": true,
     "schema_version": 3,
     "solution": false,
     "task": false
    }
   },
   "outputs": [],
   "source": [
    "math.exp(3.1)"
   ]
  },
  {
   "cell_type": "markdown",
   "metadata": {
    "kernel": "Python 3",
    "nbgrader": {
     "grade": false,
     "grade_id": "c-067",
     "locked": true,
     "schema_version": 3,
     "solution": false,
     "task": false
    }
   },
   "source": [
    "\n",
    "$\\log_e x$"
   ]
  },
  {
   "cell_type": "code",
   "execution_count": null,
   "metadata": {
    "kernel": "Python 3",
    "nbgrader": {
     "grade": false,
     "grade_id": "c-068",
     "locked": true,
     "schema_version": 3,
     "solution": false,
     "task": false
    }
   },
   "outputs": [],
   "source": [
    "math.log(10)"
   ]
  },
  {
   "cell_type": "markdown",
   "metadata": {
    "kernel": "Python 3",
    "nbgrader": {
     "grade": false,
     "grade_id": "c-069",
     "locked": true,
     "schema_version": 3,
     "solution": false,
     "task": false
    }
   },
   "source": [
    "\n",
    "Pythonには多数のモジュールが最初から提供されており, すべてmathモジュールと同様の手順で使えるようになる. \n",
    "\n",
    " * Pythonに組み込みのモジュール一覧は https://docs.python.org/ja/3/library/index.html\n",
    " * 組み込みで提供されていないが, 追加でインストールするなどすれば使えるようになるモジュールは, 無数にある. この初年次ゼミで使う, VPython, numpy, scipy, matplotlibなどもすべて, モジュールとして提供されている.\n"
   ]
  },
  {
   "cell_type": "markdown",
   "metadata": {
    "kernel": "Python 3",
    "nbgrader": {
     "grade": false,
     "grade_id": "c-070",
     "locked": true,
     "schema_version": 3,
     "solution": false,
     "task": false
    }
   },
   "source": [
    "\n",
    "なおこのへんで一応注意しておくと, 数学だと普通は $\\cos x$と書くところがPython (プログラミング言語)では, `math.cos(x)`  (括弧が必須)だったり, 数学とにているが違うところが各所にある. \n",
    "\n",
    "そこは「郷に入っては郷に従え」で, あるプログラミング言語が文法を定めている以上それに厳密に従わなくてはならない. 人間のように書いた人の意図を読んで気を利かせてくれるということはない.\n"
   ]
  },
  {
   "cell_type": "markdown",
   "metadata": {
    "kernel": "Python 3",
    "nbgrader": {
     "grade": false,
     "grade_id": "c-071",
     "locked": true,
     "schema_version": 3,
     "solution": false,
     "task": false
    }
   },
   "source": [
    "\n",
    "## 3-2. 様々なimportの方法\n",
    "あるモジュールを使いたくなったら, `import モジュール名` とするのが基本だが, 他のimportの記法もある. 何も面倒な使い分けをしなくてもこの基本のやり方で全て押し通せば充分なのだが, この初年次ゼミで使う numpy, matplotlib, vpythonはどういうわけか世の中の本や紹介記事ではどれも特定の記法でやっているので, このゼミでもそれらに合わせる. そこでそれら記法を一応説明しておく.\n",
    "\n",
    "以下は全て, mathモジュールをimportし, その中の`pi`や`sin`をアクセスるための記法である.\n"
   ]
  },
  {
   "cell_type": "markdown",
   "metadata": {
    "kernel": "Python 3",
    "nbgrader": {
     "grade": false,
     "grade_id": "c-072",
     "locked": true,
     "schema_version": 3,
     "solution": false,
     "task": false
    }
   },
   "source": [
    "\n",
    "### 3-2-1. 基本形"
   ]
  },
  {
   "cell_type": "code",
   "execution_count": null,
   "metadata": {
    "kernel": "Python 3",
    "nbgrader": {
     "grade": false,
     "grade_id": "c-073",
     "locked": true,
     "schema_version": 3,
     "solution": false,
     "task": false
    }
   },
   "outputs": [],
   "source": [
    "import math\n",
    "math.pi\n",
    "math.sin(math.pi/2)"
   ]
  },
  {
   "cell_type": "markdown",
   "metadata": {
    "kernel": "Python 3",
    "nbgrader": {
     "grade": false,
     "grade_id": "c-074",
     "locked": true,
     "schema_version": 3,
     "solution": false,
     "task": false
    }
   },
   "source": [
    "\n",
    "### 3-2-2. mathの代わりに自分の好きな名前(普通は短い名前)で使えるようにする"
   ]
  },
  {
   "cell_type": "code",
   "execution_count": null,
   "metadata": {
    "kernel": "Python 3",
    "nbgrader": {
     "grade": false,
     "grade_id": "c-075",
     "locked": true,
     "schema_version": 3,
     "solution": false,
     "task": false
    }
   },
   "outputs": [],
   "source": [
    "import math as m\n",
    "m.pi\n",
    "m.sin(m.pi/2)"
   ]
  },
  {
   "cell_type": "markdown",
   "metadata": {
    "kernel": "Python 3",
    "nbgrader": {
     "grade": false,
     "grade_id": "c-076",
     "locked": true,
     "schema_version": 3,
     "solution": false,
     "task": false
    }
   },
   "source": [
    "\n",
    "### 3-2-3. モジュール名を省略する"
   ]
  },
  {
   "cell_type": "code",
   "execution_count": null,
   "metadata": {
    "kernel": "Python 3",
    "nbgrader": {
     "grade": false,
     "grade_id": "c-077",
     "locked": true,
     "schema_version": 3,
     "solution": false,
     "task": false
    }
   },
   "outputs": [],
   "source": [
    "from math import *\n",
    "pi\n",
    "sin(3.0)"
   ]
  },
  {
   "cell_type": "markdown",
   "metadata": {
    "kernel": "Python 3",
    "nbgrader": {
     "grade": false,
     "grade_id": "c-078",
     "locked": true,
     "schema_version": 3,
     "solution": false,
     "task": false
    }
   },
   "source": [
    "\n",
    "### 3-2-4. モジュール名を省略する. ただし, 特定の名前だけを使えるようにする"
   ]
  },
  {
   "cell_type": "code",
   "execution_count": null,
   "metadata": {
    "kernel": "Python 3",
    "nbgrader": {
     "grade": false,
     "grade_id": "c-079",
     "locked": true,
     "schema_version": 3,
     "solution": false,
     "task": false
    }
   },
   "outputs": [],
   "source": [
    "from math import pi,sin\n",
    "pi\n",
    "sin(3.0)"
   ]
  },
  {
   "cell_type": "markdown",
   "metadata": {
    "kernel": "Python 3",
    "nbgrader": {
     "grade": false,
     "grade_id": "c-080",
     "locked": true,
     "schema_version": 3,
     "solution": false,
     "task": false
    }
   },
   "source": [
    "\n",
    "なお, 3番目のやり方は一見すると便利そうであるが, 複数のモジュールから同じ名前が提供されている場合があり, そのような場合に名前衝突がおき, 意図しないモジュールの機能を使ってしまう危険があるのであまり無闇に使うべきではない.\n",
    "\n",
    "本初年次ゼミで使う, numpy, matplotlib, vpythonはそれぞれ以下のようにimportするのが, 世の中(世の中でこれらについて説明してある文書)での慣例になっているようである."
   ]
  },
  {
   "cell_type": "code",
   "execution_count": null,
   "metadata": {
    "kernel": "Python 3",
    "nbgrader": {
     "grade": false,
     "grade_id": "c-081",
     "locked": true,
     "schema_version": 3,
     "solution": false,
     "task": false
    }
   },
   "outputs": [],
   "source": [
    "import numpy as np\n",
    "import matplotlib.pyplot as plt\n",
    "from vpython import *"
   ]
  },
  {
   "cell_type": "markdown",
   "metadata": {
    "kernel": "Python 3",
    "nbgrader": {
     "grade": false,
     "grade_id": "c-082",
     "locked": true,
     "schema_version": 3,
     "solution": false,
     "task": false
    }
   },
   "source": [
    "\n",
    "# 4. dir関数\n",
    "`dir(...)` という特別な関数は, あるモジュールの中にどのような関数(後述するが正確には「変数」)が入っているか, 比喩で言うならば家族構成(家族に何君または何ちゃんがいるか)を列挙してくれる. たとえば`math`の中には, $\\cos$, $\\sin$, $\\exp$, $\\log$以外にも色々あるはずだ, さて何があるのだろうと思ったら以下のようにする.\n"
   ]
  },
  {
   "cell_type": "code",
   "execution_count": null,
   "metadata": {
    "kernel": "Python 3",
    "nbgrader": {
     "grade": false,
     "grade_id": "c-083",
     "locked": true,
     "schema_version": 3,
     "solution": false,
     "task": false
    }
   },
   "outputs": [],
   "source": [
    "dir(math)"
   ]
  },
  {
   "cell_type": "markdown",
   "metadata": {
    "kernel": "Python 3",
    "nbgrader": {
     "grade": false,
     "grade_id": "c-084",
     "locked": true,
     "schema_version": 3,
     "solution": false,
     "task": false
    }
   },
   "source": [
    "\n",
    "見ての通り, `acos` ($\\arccos$), `ceil` ($\\lceil x \\rceil$), `sinh` ($\\sinh$)など様々な関数があることがわかる.\n",
    "\n",
    "`dir`関数は普段数学で使う関数とはだいぶ趣きが異なるが, 要するに, なにか入力(今の場合, モジュールそのものが入力であった)を与えるとそれに応じて結果(今の場合, 「そのモジュールに含まれた関数名すべて」)が定まるあらゆるものが関数なので, プログラミング言語ではそれらを特に区別なく全て関数と呼んでいる.\n"
   ]
  },
  {
   "cell_type": "markdown",
   "metadata": {
    "kernel": "Python 3",
    "nbgrader": {
     "grade": false,
     "grade_id": "c-085",
     "locked": true,
     "schema_version": 3,
     "solution": false,
     "task": false
    }
   },
   "source": [
    "\n",
    "# 5. help関数\n",
    "あるモジュールや関数に対して, `help(...)` を実行すると(これもまた関数), 与えた入力に関するヘルプ情報(関数であればその使い方など)を表示してくれる.\n"
   ]
  },
  {
   "cell_type": "code",
   "execution_count": null,
   "metadata": {
    "kernel": "Python 3",
    "nbgrader": {
     "grade": false,
     "grade_id": "c-086",
     "locked": true,
     "schema_version": 3,
     "solution": false,
     "task": false
    }
   },
   "outputs": [],
   "source": [
    "help(math.sin)"
   ]
  },
  {
   "cell_type": "markdown",
   "metadata": {
    "kernel": "Python 3",
    "nbgrader": {
     "grade": false,
     "grade_id": "c-087",
     "locked": true,
     "schema_version": 3,
     "solution": false,
     "task": false
    }
   },
   "source": [
    "\n",
    "# <font color=\"green\"> Problem 1 :  算術式とimportの練習</font>\n",
    "* https://docs.python.org/ja/3.8/library/math.html を見ながら, 以下を計算する式をPythonで書いて, 実際に答えを出してみよ\n"
   ]
  },
  {
   "cell_type": "markdown",
   "metadata": {
    "kernel": "Python 3",
    "nbgrader": {
     "grade": false,
     "grade_id": "c-088",
     "locked": true,
     "schema_version": 3,
     "solution": false,
     "task": false
    }
   },
   "source": [
    "* 100の階乗 100! ($= 100 \\cdot 99 \\cdot \\cdots \\cdot 2 \\cdot 1$) は10進数で何桁か?"
   ]
  },
  {
   "cell_type": "code",
   "execution_count": null,
   "metadata": {
    "kernel": "Python 3",
    "nbgrader": {
     "grade": true,
     "grade_id": "p-001",
     "locked": false,
     "points": 1,
     "schema_version": 3,
     "solution": true,
     "task": false
    }
   },
   "outputs": [],
   "source": [
    "BEGIN SOLUTION\n",
    "END SOLUTION"
   ]
  },
  {
   "cell_type": "markdown",
   "metadata": {
    "kernel": "Python 3",
    "nbgrader": {
     "grade": false,
     "grade_id": "c-089",
     "locked": true,
     "schema_version": 3,
     "solution": false,
     "task": false
    }
   },
   "source": [
    "* 3辺の長さが5, 6, 7の三角形で, 長さ5と6の辺の間の角度は約何度か?"
   ]
  },
  {
   "cell_type": "code",
   "execution_count": null,
   "metadata": {
    "kernel": "Python 3",
    "nbgrader": {
     "grade": true,
     "grade_id": "p-002",
     "locked": false,
     "points": 1,
     "schema_version": 3,
     "solution": true,
     "task": false
    }
   },
   "outputs": [],
   "source": [
    "BEGIN SOLUTION\n",
    "END SOLUTION"
   ]
  },
  {
   "cell_type": "markdown",
   "metadata": {
    "kernel": "Python 3",
    "nbgrader": {
     "grade": false,
     "grade_id": "c-090",
     "locked": true,
     "schema_version": 3,
     "solution": false,
     "task": false
    }
   },
   "source": [
    "* ${}_{2021}\\mbox{C}_{37}$を4で割ったあまりはいくらか?"
   ]
  },
  {
   "cell_type": "code",
   "execution_count": null,
   "metadata": {
    "kernel": "Python 3",
    "nbgrader": {
     "grade": true,
     "grade_id": "p-003",
     "locked": false,
     "points": 1,
     "schema_version": 3,
     "solution": true,
     "task": false
    }
   },
   "outputs": [],
   "source": [
    "BEGIN SOLUTION\n",
    "END SOLUTION"
   ]
  }
 ],
 "metadata": {
  "celltoolbar": "Create Assignment",
  "kernelspec": {
   "display_name": "Python 3 (ipykernel)",
   "language": "python",
   "name": "python3"
  },
  "language_info": {
   "codemirror_mode": {
    "name": "ipython",
    "version": 3
   },
   "file_extension": ".py",
   "mimetype": "text/x-python",
   "name": "python",
   "nbconvert_exporter": "python",
   "pygments_lexer": "ipython3",
   "version": "3.10.6"
  }
 },
 "nbformat": 4,
 "nbformat_minor": 4
}
