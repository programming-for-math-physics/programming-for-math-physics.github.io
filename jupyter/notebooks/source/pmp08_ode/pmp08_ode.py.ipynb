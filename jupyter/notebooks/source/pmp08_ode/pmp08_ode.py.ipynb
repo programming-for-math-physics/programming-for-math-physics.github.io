{
  "cells": [
    {
      "cell_type": "markdown",
      "metadata": {
        "kernel": "Python 3 (ipykernel)",
        "nbgrader": {
          "grade": false,
          "grade_id": "c-001",
          "locked": true,
          "schema_version": 3,
          "solution": false,
          "task": false
        }
      },
      "source": [
        "\n",
        "#  常微分方程式",
        "\n",
        "# 1. 記号的な求解の例",
        "\n",
        "常微分方程式とは1つの入力($x$とする)の未知の関数($y(x)$, 以下$(x)$を省略して単に$y$と書く)に関する方程式で, 特に$y$の微分($y'$や$y''$)を含んだ方程式を言う. \n",
        ""
      ]
    },
    {
      "cell_type": "markdown",
      "metadata": {
        "kernel": "Python 3 (ipykernel)",
        "nbgrader": {
          "grade": false,
          "grade_id": "c-002",
          "locked": true,
          "schema_version": 3,
          "solution": false,
          "task": false
        }
      },
      "source": [
        "\n",
        "普通最初に習う一番簡単な微分方程式はこういうものである.\n",
        "\n",
        "$$ \\begin{array}{l} y' = -\\frac{y}{2x} \\\\ y(1) = 1 \\end{array} \\quad \\cdots (\\dagger) $$\n",
        "\n",
        "解き方は上記を,\n",
        "\n",
        "$$ \\frac{y'}{y} = -\\frac{1}{2x} $$\n",
        "\n",
        "と($y$だけの式 $\\times$ $y'$ $=$ $x$だけの式, という形に)変形する.\n",
        "\n",
        "そして両辺を1から$x$まで積分する.\n",
        "\n",
        "$$ \\int_1^x \\frac{y'(t)}{y(t)} dt = - \\int_1^x \\frac{1}{2t} dt $$\n",
        "\n",
        "\n",
        "$$ \\left[ \\log y(t) \\right]_1^x = -\\frac{1}{2} \\left[ \\log t \\right]_1^x $$\n",
        "\n",
        "$$ \\log y(x) - \\log y(1) = -\\frac{1}{2} \\log x $$\n",
        "\n",
        "よって \n",
        "\n",
        "$$ y = \\frac{1}{\\sqrt{x}} $$\n",
        "\n",
        "もちろんこのやり方で解が見つかる方程式は極めて限定されている.\n",
        "まず「$y$だけの式$\\times y'$ $=$ $x$だけの式」という形に変形できるために,\n",
        "右辺が「($y$だけの式) $\\times$ ($x$だけの式)」という積の形(変数分離型) \n",
        "をしていなくてはならず, その上で左辺の$y$だけの式, $x$だけの式の部分の\n",
        "原子関数を見つけられなくてはならない.\n",
        ""
      ]
    },
    {
      "cell_type": "markdown",
      "metadata": {
        "kernel": "Python 3 (ipykernel)",
        "nbgrader": {
          "grade": false,
          "grade_id": "c-003",
          "locked": true,
          "schema_version": 3,
          "solution": false,
          "task": false
        }
      },
      "source": [
        "\n",
        "# 2. 数値計算で微分方程式を解く基本アイデア",
        "\n",
        "* 一方プログラム(数値計算)で解く方法はもっと簡単でかつ一般性のあるものである.\n",
        "\n",
        "* まず, 「解く」と言っても, $y$を($-x^2+2x+1$のような)$x$の「式」として表すことが目標ではなく, __任意の$b$に対して$y(b)$の(近似)値を計算する関数を作ること__を目標とする.\n",
        "\n",
        "つまり, 以下のような関数を書くことが目標になる.\n",
        "\n",
        "> $(\\dagger)$ を満たす$y(x)$の, $x=b$における値$y(b)$を求める関数 solve($b$) を書け.\n",
        "\n",
        "* $b$が何でも良いのだから, これは数値計算としては満足の行く目標であると言える.\n",
        "\n",
        "* これを数値計算でおこなう原理は実に簡単で, $x=1$ ($y(1)=1$) からスタートして, 少しずつ$x$を増やしたときの$y(x)$の値を次々と求めていく, というだけのものである.\n",
        "\n",
        "* それをするための__鍵となる式変形は以下:__\n",
        "\n",
        "$$ y'(x) = -\\frac{y}{2 x} $$\n",
        "\n",
        "を以下のように書き換える.\n",
        "\n",
        "$h \\approx 0$のとき\n",
        "$$ \\frac{y(x+h)-y(x)}{h} \\approx -\\frac{y}{2 x} \\quad (\\ast) $$\n",
        "\n",
        "* ここで$\\approx$は微分係数の定義式\n",
        "\n",
        "$$ y'(x) = \\lim_{h\\rightarrow 0} \\frac{y(x+h)-y(x)}{h} $$\n",
        "\n",
        "を, $h \\approx 0$のとき\n",
        "\n",
        "$$ y'(x) \\approx \\frac{y(x+h)-y(x)}{h} $$\n",
        "\n",
        "と読み替えた過ぎない. \n",
        "\n",
        "* 上記のような, 微分方程式の微分係数の部分を, $y(x+h)$, $y(x)$, $h$などの近似式で置き換える式変形を__離散化__という. 数値計算を使って微分方程式を解く際のキーとなるステップはこの, 離散化という操作である.\n",
        ""
      ]
    },
    {
      "cell_type": "markdown",
      "metadata": {
        "kernel": "Python 3 (ipykernel)",
        "nbgrader": {
          "grade": false,
          "grade_id": "c-004",
          "locked": true,
          "schema_version": 3,
          "solution": false,
          "task": false
        }
      },
      "source": [
        "\n",
        "# 3. 離散化後の計算",
        "\n",
        "* ($\\ast$)から, $h\\approx 0$のとき\n",
        "\n",
        "$$ y(x+h) \\approx y(x) -\\frac{y}{2 x} \\cdot h$$\n",
        "\n",
        "* これは, __ある$x$に対する$y(x)$の値がわかっていれば, 右辺を計算することで, $y(x+h)$の近似値が得られる__ことを意味する.\n",
        "\n",
        "* 例えば$h = 0.01$に対し,\n",
        "\n",
        "$$y(1+h) \\approx y(1) + y'(1) h = 1 - \\frac{1}{2} h = 0.995 $$\n",
        "\n",
        "とわかる. こうして, $y(1)$の値をもとに$y(1+h)$を得ることが出来た.\n",
        "\n",
        "* 同じことを今度は$x = 1 + h$に適用すれば, $y(1+2h)$が求まる. すなわち,\n",
        "\n",
        "$$ \\begin{array}{rcl} y(1+2h) & \\approx & y(1+h) + y'(1+h) h \\\\\n",
        "           & = & y(1+h) -\\frac{y(1+h)}{2 (1+h)} h \\\\\n",
        "           & = & 0.995 - \\frac{0.995}{2 (1+0.01)} 0.01 \\\\\n",
        "           & = & 0.99097... \\end{array} $$\n",
        "\n",
        "* つまり以下の式\n",
        "\n",
        "$$ y(x+h) \\approx y(x) - \\frac{y(x)}{2x} h $$\n",
        "\n",
        "を繰り返し, $x = 1, 1+h, 1+2h, \\ldots$に適用していけば, __次々と, $x = 1+h, 1+2h, 1+3h, \\ldots$に対する$y(x)$の近似値が求まる__ ということである. これを, $x$がほしい$b$に達するまで繰り返せば良い.\n",
        "\n",
        "* これをプログラムにするのも簡単で, 以下のようになる.\n",
        ""
      ]
    },
    {
      "cell_type": "code",
      "metadata": {
        "kernel": "Python 3 (ipykernel)",
        "nbgrader": {
          "grade": false,
          "grade_id": "c-005",
          "locked": true,
          "schema_version": 3,
          "solution": false,
          "task": false
        }
      },
      "source": [
        "def solve(b):\n",
        "    x = 1\n",
        "    y = 1\n",
        "    h = 0.01\n",
        "    n = int((b - 1) / h)\n",
        "    for i in range(n):\n",
        "        yp = - y / (2 * x)\n",
        "        y = y + yp * h\n",
        "        x = x + h\n",
        "    return y"
      ],
      "execution_count": null,
      "outputs": []
    },
    {
      "cell_type": "markdown",
      "metadata": {
        "kernel": "Python 3 (ipykernel)",
        "nbgrader": {
          "grade": false,
          "grade_id": "c-006",
          "locked": true,
          "schema_version": 3,
          "solution": false,
          "task": false
        }
      },
      "source": [
        "\n",
        "なお, int($\\cdot$) は, 入力の端数を切り捨てて整数にする関数である. rangeが受け付けるのは整数に限られるためこのようにする.\n",
        ""
      ]
    },
    {
      "cell_type": "code",
      "metadata": {
        "kernel": "Python 3 (ipykernel)",
        "nbgrader": {
          "grade": false,
          "grade_id": "c-007",
          "locked": true,
          "schema_version": 3,
          "solution": false,
          "task": false
        }
      },
      "source": [
        "int(2.1)"
      ],
      "execution_count": null,
      "outputs": []
    },
    {
      "cell_type": "code",
      "metadata": {
        "kernel": "Python 3 (ipykernel)",
        "nbgrader": {
          "grade": false,
          "grade_id": "c-008",
          "locked": true,
          "schema_version": 3,
          "solution": false,
          "task": false
        }
      },
      "source": [
        "int(1.2345 / 0.01)"
      ],
      "execution_count": null,
      "outputs": []
    },
    {
      "cell_type": "markdown",
      "metadata": {
        "kernel": "Python 3 (ipykernel)",
        "nbgrader": {
          "grade": false,
          "grade_id": "c-009",
          "locked": true,
          "schema_version": 3,
          "solution": false,
          "task": false
        }
      },
      "source": [
        "\n",
        "上記の for 文がやっていることがポイントで,  ($\\ast$)に従って,\n",
        "\n",
        "$$ y(x+h) \\approx y(x) - \\frac{y(x)}{2x} h $$\n",
        "\n",
        "に従って, $x$から少し進んだ場所$x+h$における$y$を求めている, それだけである.\n",
        ""
      ]
    },
    {
      "cell_type": "markdown",
      "metadata": {
        "kernel": "Python 3 (ipykernel)",
        "nbgrader": {
          "grade": false,
          "grade_id": "c-010",
          "locked": true,
          "schema_version": 3,
          "solution": false,
          "task": false
        }
      },
      "source": [
        "\n",
        "__いくつか細かい問題:__\n",
        "\n",
        "* $x$を1からhずつ動かしていることから明らかなように, $b$が 1+ h $\\times$ 整数という場合でないと, 正確に x=b における値を求めていることにはならない. \n",
        "* for文の繰り返し回数を, (b-1)//h で計算しており, これは商の端数を切り捨てる(答えを整数とする)割り算であるから, 実際に求めているのは \n",
        "\n",
        "$$x = 1 + \\left\\lfloor \\frac{b-1}{h} \\right\\rfloor h$$\n",
        "\n",
        "における$y$の値ということになる($(b-1)/h$が充分大きければあまり神経質になることはなかろう). \n",
        "\n",
        "* 別の問題として, 繰り返し回数を(b-1)/hとしていることから, $b < 1$の場合におかしなことになる. \n",
        "\n",
        "* 以上の2点に気を配って直したものが以下である.\n",
        "* 一度繰り返し回数を決めたあとで, 改めてhを計算し直している. $b < 1$のときはひとりでに$h < 0$になり, $x$は1から小さい方へ向かって進む.\n",
        ""
      ]
    },
    {
      "cell_type": "code",
      "metadata": {
        "kernel": "Python 3 (ipykernel)",
        "nbgrader": {
          "grade": false,
          "grade_id": "c-011",
          "locked": true,
          "schema_version": 3,
          "solution": false,
          "task": false
        }
      },
      "source": [
        "def solve(b):\n",
        "    x = 1\n",
        "    y = 1\n",
        "    h = 0.01\n",
        "    n = int((b - 1) // h) + 1\n",
        "    h = (b - 1) / n\n",
        "    for i in range(n):\n",
        "        yp = - y / (2 * x)\n",
        "        y = y + yp * h\n",
        "        x = x + h\n",
        "    return y"
      ],
      "execution_count": null,
      "outputs": []
    },
    {
      "cell_type": "markdown",
      "metadata": {
        "kernel": "Python 3 (ipykernel)",
        "nbgrader": {
          "grade": false,
          "grade_id": "c-012",
          "locked": true,
          "schema_version": 3,
          "solution": false,
          "task": false
        }
      },
      "source": [
        "\n",
        "いくつかの$b$の値に対して, solve($b$)と, $1/\\sqrt{b}$の値を比べてみよう.\n",
        ""
      ]
    },
    {
      "cell_type": "code",
      "metadata": {
        "kernel": "Python 3 (ipykernel)",
        "nbgrader": {
          "grade": false,
          "grade_id": "c-013",
          "locked": true,
          "schema_version": 3,
          "solution": false,
          "task": false
        }
      },
      "source": [
        "import math\n",
        "\n",
        "solve(4)"
      ],
      "execution_count": null,
      "outputs": []
    },
    {
      "cell_type": "code",
      "metadata": {
        "kernel": "Python 3 (ipykernel)",
        "nbgrader": {
          "grade": false,
          "grade_id": "c-014",
          "locked": true,
          "schema_version": 3,
          "solution": false,
          "task": false
        }
      },
      "source": [
        "solve(9)"
      ],
      "execution_count": null,
      "outputs": []
    },
    {
      "cell_type": "code",
      "metadata": {
        "kernel": "Python 3 (ipykernel)",
        "nbgrader": {
          "grade": false,
          "grade_id": "c-015",
          "locked": true,
          "schema_version": 3,
          "solution": false,
          "task": false
        }
      },
      "source": [
        "solve(4) - 1/math.sqrt(4)"
      ],
      "execution_count": null,
      "outputs": []
    },
    {
      "cell_type": "code",
      "metadata": {
        "kernel": "Python 3 (ipykernel)",
        "nbgrader": {
          "grade": false,
          "grade_id": "c-016",
          "locked": true,
          "schema_version": 3,
          "solution": false,
          "task": false
        }
      },
      "source": [
        "solve(9) - 1/math.sqrt(9)"
      ],
      "execution_count": null,
      "outputs": []
    },
    {
      "cell_type": "code",
      "metadata": {
        "kernel": "Python 3 (ipykernel)",
        "nbgrader": {
          "grade": false,
          "grade_id": "c-017",
          "locked": true,
          "schema_version": 3,
          "solution": false,
          "task": false
        }
      },
      "source": [
        "solve(16) - 1/math.sqrt(16)"
      ],
      "execution_count": null,
      "outputs": []
    },
    {
      "cell_type": "code",
      "metadata": {
        "kernel": "Python 3 (ipykernel)",
        "nbgrader": {
          "grade": false,
          "grade_id": "c-018",
          "locked": true,
          "schema_version": 3,
          "solution": false,
          "task": false
        }
      },
      "source": [
        "solve(0.25) - 1/math.sqrt(0.25)"
      ],
      "execution_count": null,
      "outputs": []
    },
    {
      "cell_type": "code",
      "metadata": {
        "kernel": "Python 3 (ipykernel)",
        "nbgrader": {
          "grade": false,
          "grade_id": "c-019",
          "locked": true,
          "schema_version": 3,
          "solution": false,
          "task": false
        }
      },
      "source": [
        "solve(0.01) - 1/math.sqrt(0.01)"
      ],
      "execution_count": null,
      "outputs": []
    },
    {
      "cell_type": "markdown",
      "metadata": {
        "kernel": "Python 3 (ipykernel)",
        "nbgrader": {
          "grade": false,
          "grade_id": "c-020",
          "locked": true,
          "schema_version": 3,
          "solution": false,
          "task": false
        }
      },
      "source": [
        "\n",
        "* なお, $h$をいくらにするかは重要な問題で, 本来あまり気楽に決めてはいけないが, 上記では気楽に $h = 0.01$としている.\n",
        "* 大きな$h$を使うと繰り返し回数が少ない, つまり少ない計算の量で答えが求まる一方で, 誤差が大きくなる.\n",
        "* 逆に小さな$h$を使えば誤差が少なくなることが期待される一方, 繰り返しの回数が大きくなり, より多くの計算が必要になる.\n",
        "\n",
        "上記のsolveの中のhを変更して, 誤差や計算時間がどう変わるかを確かめてみよ.\n",
        "\n",
        "* なおこの問題では, 計算時間はhを相当小さくしても「一瞬」と感じられることだろう.\n",
        "* 実際にhの選択が重要になるのは, 同じようなことを場の方程式(電場, 磁場, 流体の速度場のような, 空間の各点に未知数が割り当てられる問題)に対して行うときで, 計算量は, 空間に設定した点の数 $\\times$ 時間方向の繰り返し数となり, 特に2次元, 3次元の問題ではたちまち膨大な量になる.\n",
        ""
      ]
    },
    {
      "cell_type": "markdown",
      "metadata": {
        "kernel": "Python 3 (ipykernel)",
        "nbgrader": {
          "grade": false,
          "grade_id": "c-021",
          "locked": true,
          "schema_version": 3,
          "solution": false,
          "task": false
        }
      },
      "source": [
        "\n",
        "# 4. より一般的な「求解関数」",
        "\n",
        "solveを改めて眺めると, ここで用いた解法は, 右辺の形がなんであってもほとんど変更なく使えるということが直ちにわかると思う.\n",
        "\n",
        "つまり,\n",
        "\n",
        "$$y'(x) = f(x, y)$$\n",
        "$$y(a) = c$$\n",
        "\n",
        "という形の方程式であれば常に適用可能で, $f(x,y)$が変数分離できる必要もなければ, 偶然にも変数分離出来た場合でも, 原子関数が簡単に見つかるような式である必要もない.\n",
        "\n",
        "擬似コードで書けば以下のようなことである.\n",
        "\n",
        "```\n",
        "    x = a\n",
        "    y = c\n",
        "    h = 十分小さな値\n",
        "    for x が b に達するまで:\n",
        "        yp = f(x, y)\n",
        "        y = y + yp * h\n",
        "        x = x + h\n",
        "```\n",
        "\n",
        "実際それを, a, b, c, f を引数として受け取る, 非常に一般性のあるPython関数として書くことができる. fは, x, yから微分方程式の右辺を計算する関数.\n",
        ""
      ]
    },
    {
      "cell_type": "code",
      "metadata": {
        "kernel": "Python 3 (ipykernel)",
        "nbgrader": {
          "grade": false,
          "grade_id": "c-022",
          "locked": true,
          "schema_version": 3,
          "solution": false,
          "task": false
        }
      },
      "source": [
        "def de_solve(a, b, c, f):\n",
        "    x = a\n",
        "    y = c\n",
        "    h = 0.01\n",
        "    n = int((b - 1) // h) + 1\n",
        "    h = (b - 1) / n\n",
        "    for i in range(n):\n",
        "        yp = f(x, y)\n",
        "        y = y + yp * h\n",
        "        x = x + h\n",
        "    return y"
      ],
      "execution_count": null,
      "outputs": []
    },
    {
      "cell_type": "markdown",
      "metadata": {
        "kernel": "Python 3 (ipykernel)",
        "nbgrader": {
          "grade": false,
          "grade_id": "c-023",
          "locked": true,
          "schema_version": 3,
          "solution": false,
          "task": false
        }
      },
      "source": [
        "\n",
        "これを用いて改めて\n",
        "\n",
        "$$ \\begin{array}{l} y' = -\\frac{y}{2x} \\\\ y(1) = 1 \\end{array} \\quad \\cdots (\\dagger) $$\n",
        "\n",
        "を解くには,\n",
        ""
      ]
    },
    {
      "cell_type": "code",
      "metadata": {
        "kernel": "Python 3 (ipykernel)",
        "nbgrader": {
          "grade": false,
          "grade_id": "c-024",
          "locked": true,
          "schema_version": 3,
          "solution": false,
          "task": false
        }
      },
      "source": [
        "def rhs(x, y):\n",
        "    return y/(2*x)\n",
        "\n",
        "de_solve(1, 4, 1, rhs)"
      ],
      "execution_count": null,
      "outputs": []
    },
    {
      "cell_type": "markdown",
      "metadata": {
        "kernel": "Python 3 (ipykernel)",
        "nbgrader": {
          "grade": false,
          "grade_id": "c-025",
          "locked": true,
          "schema_version": 3,
          "solution": false,
          "task": false
        }
      },
      "source": [
        "\n",
        "とすればよい. rhsの代わりに別の関数を渡すだけで, 別の微分方程式を解くことができる."
      ]
    },
    {
      "cell_type": "markdown",
      "metadata": {
        "kernel": "Python 3 (ipykernel)",
        "nbgrader": {
          "grade": false,
          "grade_id": "c-026",
          "locked": true,
          "schema_version": 3,
          "solution": false,
          "task": false
        }
      },
      "source": [
        "\n",
        "# 5. 物理でよく現れるケース: $x$が時刻の場合で改めて説明",
        "\n",
        "上で述べた解法は, $x$が時刻である場合にとりわけ理解しやすい.\n",
        "\n",
        "* 時刻であることがわかりやすいように$x$を$t$と書き換える.\n",
        "* $y(t)$を時刻$t$における位置だと思うことにする.\n",
        "* 関数$y(t)$を「時刻で」微分したものを物理ではしばしば, $\\dot{y}(t)$と書く.\n",
        "\n",
        "その場合微分方程式\n",
        "\n",
        "$$ \\dot{y}(t) = f(y, t) $$\n",
        "$$ y(0) = c $$\n",
        "\n",
        "は, $\\dot{y}(t)$が速度であって, この微分方程式の右辺$f(y,t)$を計算すれば, そのときの速度がわかる, という意味になる.\n",
        "\n",
        "そして以下の解法\n",
        "\n",
        "```\n",
        "    t = a\n",
        "    y = c\n",
        "    dt = 十分小さな値\n",
        "    for t が b に達するまで:\n",
        "        yp = f(y, t)\n",
        "        y = y + yp * dt\n",
        "        t = t + dt\n",
        "\n",
        "```\n",
        "\n",
        "でやっていることは, $f(y, t)$を計算すれば速度がわかるので, それを用いて\n",
        "\n",
        "```\n",
        "        y = y + yp * dt\n",
        "```\n",
        "\n",
        "によって現在位置を更新している. それは,\n",
        "\n",
        "$$微笑時間(dt)経過後の位置 = 現在の位置 + 速度 \\times dt$$\n",
        "\n",
        "という, かなり見慣れた式である.\n",
        "\n",
        "要するに, 「速度 $\\times$ 微小時間」を積み重ねて, 位置を更新し続けているに過ぎない.\n",
        ""
      ]
    },
    {
      "cell_type": "markdown",
      "metadata": {
        "kernel": "Python 3 (ipykernel)",
        "nbgrader": {
          "grade": false,
          "grade_id": "c-027",
          "locked": true,
          "schema_version": 3,
          "solution": false,
          "task": false
        }
      },
      "source": [
        "\n",
        "# 6. ニュートンの運動方程式",
        "\n",
        "力学でしばしばでてくるのが__ニュートンの運動方程式__で, 一番簡単なのは質量$m$の質点(大きさを無視できる物体)が運動するとき,\n",
        "\n",
        "$${\\LARGE m a = F} $$\n",
        "\n",
        "に従うというもの. ここで$a$が加速度, つまり$x$を$t$で二度微分したものである. それを強調して書けば,\n",
        "\n",
        "$$ {\\LARGE m \\ddot{x}(t) = F } $$\n",
        "\n",
        "与えられた状況に応じて$F$ (質点が受ける力)が異なる. 例として, 下記のようにバネにつながれた質点の運動を考えよう.\n",
        ""
      ]
    },
    {
      "cell_type": "markdown",
      "metadata": {
        "kernel": "Python 3 (ipykernel)",
        "nbgrader": {
          "grade": false,
          "grade_id": "c-028",
          "locked": true,
          "schema_version": 3,
          "solution": false,
          "task": false
        }
      },
      "source": [
        "\n",
        "<img src=\"img/spring.svg\" />\n",
        ""
      ]
    },
    {
      "cell_type": "markdown",
      "metadata": {
        "kernel": "Python 3 (ipykernel)",
        "nbgrader": {
          "grade": false,
          "grade_id": "c-029",
          "locked": true,
          "schema_version": 3,
          "solution": false,
          "task": false
        }
      },
      "source": [
        "\n",
        "バネ定数を$k$とし, (時刻と共に変わる)質点の位置を$x(t)$と書く. ただしバネが自然長の位置を$x=0$とする. すると, 質点が$x$にいるときに受ける力が$-kx(t)$だから, 運動方程式は\n",
        "\n",
        "$$ m \\ddot{x}(t) = -kx(t) $$\n",
        "\n",
        "となる. \n",
        "\n",
        "もし右辺の$\\ddot{x}(t)$が$\\dot{x}(t)$だったら, この方程式の解き方は先とほぼ同じである. 今回は$x$の2階微分が含まれるところが異なるが, 考え方はあまり変わらない.\n",
        "\n",
        "つまりは\n",
        "\n",
        "```\n",
        "  速度がわかれば微小時間(dt)経過後の位置 = 現在位置 + 速度 * dt\n",
        "加速度がわかれば微小時間(dt)経過後の速度 = 現在速度 + 加速度 * dt\n",
        "```\n",
        "\n",
        "ということである時刻での位置と速度から, 微笑時間経過後の位置と速度がわかる.\n",
        "\n",
        "プログラムにしたものは以下.\n",
        "\n",
        "mass_spring(x0, v0, T, m, k) は, 時刻0に位置x0, 速度v0の状態にいた質量$m$の質点が, 時刻$T$のときにいる位置と速度を計算する. $k$はバネ定数. \n",
        "\n",
        "なお以下の\n",
        "\n",
        "```\n",
        "return (x,v)\n",
        "```\n",
        "\n",
        "は二つの値(xとv)を結果として返すときのやり方.\n",
        ""
      ]
    },
    {
      "cell_type": "code",
      "metadata": {
        "kernel": "Python 3 (ipykernel)",
        "nbgrader": {
          "grade": false,
          "grade_id": "c-030",
          "locked": true,
          "schema_version": 3,
          "solution": false,
          "task": false
        }
      },
      "source": [
        "def mass_spring(x0, v0, T, m, k):\n",
        "    x = x0\n",
        "    v = v0\n",
        "    t = 0\n",
        "    dt = 0.01\n",
        "    n = int(T / dt)\n",
        "    dt = T / n\n",
        "    for i in range(n):\n",
        "        a = -k * x / m\n",
        "        x += v * dt\n",
        "        v += a * dt\n",
        "        t += dt\n",
        "    return (x,v)"
      ],
      "execution_count": null,
      "outputs": []
    },
    {
      "cell_type": "markdown",
      "metadata": {
        "kernel": "Python 3 (ipykernel)",
        "nbgrader": {
          "grade": false,
          "grade_id": "c-031",
          "locked": true,
          "schema_version": 3,
          "solution": false,
          "task": false
        }
      },
      "source": [
        "\n",
        "* 注: tを更新する代入文は, このプログラムにおいては不要\n",
        "* 一般には, a (加速度, つまり力)を計算するところで, t (時刻)に依存した外力などが加わる場合など, 必要な場合があるのでつけておく\n",
        ""
      ]
    },
    {
      "cell_type": "markdown",
      "metadata": {
        "kernel": "Python 3 (ipykernel)",
        "nbgrader": {
          "grade": false,
          "grade_id": "c-032",
          "locked": true,
          "schema_version": 3,
          "solution": false,
          "task": false
        }
      },
      "source": [
        "\n",
        "なおやってなくてわからない人はあまり気にしなくてよいが, この質点は,\n",
        "\n",
        "$$ x(t) = A \\sin \\left(\\sqrt{\\frac{k}{m}} t\\right) + B \\sin \\left(\\sqrt{\\frac{k}{m}} t\\right) $$\n",
        "\n",
        "という形の正弦波に沿って移動する. いわゆる単振動をする. その周期は明らかに\n",
        "\n",
        "$$ 2\\pi \\sqrt{\\frac{m}{k}} $$\n",
        "\n",
        "である.\n",
        "\n",
        "特に$x_0=0$のときは$B=0$になり, $v_0=0$のときは$A=0$になる.\n",
        "\n",
        "検算のために以下を実行してみる.\n",
        "* $m = k = 1$とする. 周期は$2\\pi$になる\n",
        "* $x_0 = 1$, $v_0 = 1$とする. 解は\n",
        "$$ x(t) = \\sin t $$\n",
        "そのものになる.\n",
        "* $T = \\pi/2$のときに原点付近に戻っている, また速度は約$-1$\n",
        "* $T = \\pi$のとき逆の振幅が最大になっている. すなわち$x_0 \\approx -1$で, $v_0 \\approx 0$\n",
        ""
      ]
    },
    {
      "cell_type": "code",
      "metadata": {
        "kernel": "Python 3 (ipykernel)",
        "nbgrader": {
          "grade": false,
          "grade_id": "c-033",
          "locked": true,
          "schema_version": 3,
          "solution": false,
          "task": false
        }
      },
      "source": [
        "import math"
      ],
      "execution_count": null,
      "outputs": []
    },
    {
      "cell_type": "code",
      "metadata": {
        "kernel": "Python 3 (ipykernel)",
        "nbgrader": {
          "grade": false,
          "grade_id": "c-034",
          "locked": true,
          "schema_version": 3,
          "solution": false,
          "task": false
        }
      },
      "source": [
        "mass_spring(1, 0, math.pi/2, 1, 1)"
      ],
      "execution_count": null,
      "outputs": []
    },
    {
      "cell_type": "code",
      "metadata": {
        "kernel": "Python 3 (ipykernel)",
        "nbgrader": {
          "grade": false,
          "grade_id": "c-035",
          "locked": true,
          "schema_version": 3,
          "solution": false,
          "task": false
        }
      },
      "source": [
        "mass_spring(1, 0, math.pi, 1, 1)"
      ],
      "execution_count": null,
      "outputs": []
    }
  ],
  "metadata": {
    "celltoolbar": "Create Assignment",
    "kernelspec": {
      "display_name": "Python 3 (ipykernel)",
      "language": "python",
      "name": "python3"
    },
    "language_info": {
      "codemirror_mode": {
        "name": "ipython",
        "version": 3
      },
      "file_extension": ".py",
      "mimetype": "text/x-python",
      "name": "python",
      "nbconvert_exporter": "python",
      "pygments_lexer": "ipython3",
      "version": "3.8.10"
    }
  },
  "nbformat": 4,
  "nbformat_minor": 4
}