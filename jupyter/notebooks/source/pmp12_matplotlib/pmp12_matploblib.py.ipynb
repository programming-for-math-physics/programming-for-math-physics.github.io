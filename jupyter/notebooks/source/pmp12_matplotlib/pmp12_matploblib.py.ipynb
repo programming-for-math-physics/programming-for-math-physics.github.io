{
  "cells": [
    {
      "cell_type": "markdown",
      "metadata": {
        "kernel": "Python 3 (ipykernel)",
        "nbgrader": {
          "grade": false,
          "grade_id": "c-001",
          "locked": true,
          "schema_version": 3,
          "solution": false,
          "task": false
        }
      },
      "source": [
        "\n",
        "#  matplotlib",
        "\n",
        "* matplotlib はグラフを描画するためのライブラリ\n",
        "* 道具・スキルの学びとしてはこれが最終章(がんばって!)\n",
        "* <a href=\"https://pmp.eidos.ic.i.u-tokyo.ac.jp/slides/pdf/visual_numpy_matplotlib.pdf\" target=\"_blank\">Visual Python, Numpy, Matplotlib スライド</a> 5 Matplotlib を参照\n",
        "\n",
        "* 詳しい情報源: https://matplotlib.org/\n",
        "* ギャラリー: 手っ取り早く, 「こんな絵を書きたいがどうすればいい?」 というときにはこれを見ると良い! https://matplotlib.org/gallery/index.html\n",
        ""
      ]
    },
    {
      "cell_type": "markdown",
      "metadata": {
        "kernel": "Python 3 (ipykernel)",
        "nbgrader": {
          "grade": false,
          "grade_id": "c-002",
          "locked": true,
          "schema_version": 3,
          "solution": false,
          "task": false
        }
      },
      "source": [
        "\n",
        "# 1. matplotlibのimport (おまじない)",
        "\n",
        "以下が多くの書籍や説明用サイトで使われているimportの仕方でこのゼミでもそれに従う\n",
        ""
      ]
    },
    {
      "cell_type": "code",
      "metadata": {
        "kernel": "Python 3 (ipykernel)",
        "nbgrader": {
          "grade": false,
          "grade_id": "c-003",
          "locked": false,
          "schema_version": 3,
          "solution": false,
          "task": false
        }
      },
      "source": [
        "import matplotlib.pyplot as plt"
      ],
      "execution_count": null,
      "outputs": []
    },
    {
      "cell_type": "markdown",
      "metadata": {
        "kernel": "Python 3 (ipykernel)",
        "nbgrader": {
          "grade": false,
          "grade_id": "c-004",
          "locked": true,
          "schema_version": 3,
          "solution": false,
          "task": false
        }
      },
      "source": [
        "\n",
        "## 1-1. 1次元(x軸とy軸)のプロット",
        "\n",
        "* $y = x^2$のグラフとか, $y=\\sin x$のグラフとか, 1変数関数のグラフを表示できる\n",
        "* 基本\n",
        " - X = x座標だけを並べたリストまたは配列,\n",
        " - Y = y座標だけを並べたリストまたは配列, を用意する\n",
        " - plt.plot(X, Y)\n",
        " - plt.show() とすると実際に絵を表示\n",
        "\n",
        "* 一番トリビアルな例\n",
        ""
      ]
    },
    {
      "cell_type": "code",
      "metadata": {
        "kernel": "Python 3 (ipykernel)",
        "nbgrader": {
          "grade": false,
          "grade_id": "c-005",
          "locked": false,
          "schema_version": 3,
          "solution": false,
          "task": false
        }
      },
      "source": [
        "import matplotlib.pyplot as plt\n",
        "def plot_a_few():\n",
        "    X = [ 1, 2, 3, 4 ]\n",
        "    Y = [ 1, 4, 9, 16 ]\n",
        "    plt.plot(X, Y)\n",
        "    plt.show()\n",
        "\n",
        "plot_a_few()"
      ],
      "execution_count": null,
      "outputs": []
    },
    {
      "cell_type": "markdown",
      "metadata": {
        "kernel": "Python 3 (ipykernel)",
        "nbgrader": {
          "grade": false,
          "grade_id": "c-006",
          "locked": true,
          "schema_version": 3,
          "solution": false,
          "task": false
        }
      },
      "source": [
        "\n",
        "* 見ての通り点の数が少ないのでカクカクした絵になる\n",
        "* 多数の点を表示するのにもちろん上のように点の座標をベタにプログラム中に書くことはせず, リスト自身をfor文やリスト内包表記を用いて作ったり, numpy の配列を作る\n",
        "* 簡単な関数なら, numpyの配列を使うのが一番手っ取り早い\n",
        ""
      ]
    },
    {
      "cell_type": "code",
      "metadata": {
        "kernel": "Python 3 (ipykernel)",
        "nbgrader": {
          "grade": false,
          "grade_id": "c-007",
          "locked": false,
          "schema_version": 3,
          "solution": false,
          "task": false
        }
      },
      "source": [
        "import matplotlib.pyplot as plt\n",
        "import numpy as np\n",
        "\n",
        "def plot_square():\n",
        "    X = np.linspace(0, 4*np.pi, 100) # 0から4*piまで99等分\n",
        "    Y = np.sin(X)                  # universal関数で100点全てにsinを計算\n",
        "    plt.plot(X, Y)\n",
        "    plt.show()                  # 描画!\n",
        "\n",
        "plot_square()"
      ],
      "execution_count": null,
      "outputs": []
    },
    {
      "cell_type": "markdown",
      "metadata": {
        "kernel": "Python 3 (ipykernel)",
        "nbgrader": {
          "grade": false,
          "grade_id": "c-008",
          "locked": true,
          "schema_version": 3,
          "solution": false,
          "task": false
        }
      },
      "source": [
        "\n",
        "* この例では特にそうする必要はないが, あえてリストを使ってみる\n",
        "* リストを徐々に(appendで)成長させる方式は要素数が最初からわかっていないときなどは便利\n",
        ""
      ]
    },
    {
      "cell_type": "code",
      "metadata": {
        "kernel": "Python 3 (ipykernel)",
        "nbgrader": {
          "grade": false,
          "grade_id": "c-009",
          "locked": false,
          "schema_version": 3,
          "solution": false,
          "task": false
        }
      },
      "source": [
        "import matplotlib.pyplot as plt\n",
        "import numpy as np\n",
        "\n",
        "def plot_square_by_for():\n",
        "    X = []\n",
        "    Y = []\n",
        "    n = 100\n",
        "    for i in range(n):\n",
        "        x = 4 * np.pi * i / (n - 1)\n",
        "        X.append(x)\n",
        "        Y.append(np.sin(x))     # こちらは1点にたいするsin\n",
        "    plt.plot(X, Y)\n",
        "    plt.show()\n",
        "\n",
        "plot_square_by_for()"
      ],
      "execution_count": null,
      "outputs": []
    },
    {
      "cell_type": "markdown",
      "metadata": {
        "kernel": "Python 3 (ipykernel)",
        "nbgrader": {
          "grade": false,
          "grade_id": "c-010",
          "locked": true,
          "schema_version": 3,
          "solution": false,
          "task": false
        }
      },
      "source": [
        "\n",
        "* 同じリストでも, もう少しスマートにリスト内包表記で書いた例\n",
        ""
      ]
    },
    {
      "cell_type": "code",
      "metadata": {
        "kernel": "Python 3 (ipykernel)",
        "nbgrader": {
          "grade": false,
          "grade_id": "c-011",
          "locked": false,
          "schema_version": 3,
          "solution": false,
          "task": false
        }
      },
      "source": [
        "def plot_square_by_list_comprehension():\n",
        "    n = 100\n",
        "    X = [ 4 * np.pi * i / (n - 1) for i in range(n) ]\n",
        "    Y = [ np.sin(x) for x in X ]\n",
        "    plt.plot(X, Y)\n",
        "    plt.show()\n",
        "\n",
        "plot_square_by_list_comprehension()"
      ],
      "execution_count": null,
      "outputs": []
    },
    {
      "cell_type": "markdown",
      "metadata": {
        "kernel": "Python 3 (ipykernel)",
        "nbgrader": {
          "grade": false,
          "grade_id": "c-012",
          "locked": true,
          "schema_version": 3,
          "solution": false,
          "task": false
        }
      },
      "source": [
        "\n",
        "## 1-2. 少し違うフレーバーの描画",
        "\n",
        "* plt.plot 関数は「与えられたx座標, y座標を線で結べ」という指令\n",
        "* plt.なんとか という色々な関数があり, 異なる表示が可能\n",
        ""
      ]
    },
    {
      "cell_type": "markdown",
      "metadata": {
        "kernel": "Python 3 (ipykernel)",
        "nbgrader": {
          "grade": false,
          "grade_id": "c-013",
          "locked": true,
          "schema_version": 3,
          "solution": false,
          "task": false
        }
      },
      "source": [
        "\n",
        "#  scatter ",
        "\n",
        "* バラバラの点として表示\n",
        ""
      ]
    },
    {
      "cell_type": "code",
      "metadata": {
        "kernel": "Python 3 (ipykernel)",
        "nbgrader": {
          "grade": false,
          "grade_id": "c-014",
          "locked": false,
          "schema_version": 3,
          "solution": false,
          "task": false
        }
      },
      "source": [
        "import matplotlib.pyplot as plt\n",
        "import numpy as np\n",
        "\n",
        "def scatter_square():\n",
        "    X = np.linspace(0, 4*np.pi, 100) # 0から4*piまで99等分\n",
        "    Y = np.sin(X)                  # universal関数で100点全てにsinを計算\n",
        "    plt.scatter(X, Y)\n",
        "    plt.show()                  # 描画!\n",
        "\n",
        "scatter_square()"
      ],
      "execution_count": null,
      "outputs": []
    },
    {
      "cell_type": "markdown",
      "metadata": {
        "kernel": "Python 3 (ipykernel)",
        "nbgrader": {
          "grade": false,
          "grade_id": "c-015",
          "locked": true,
          "schema_version": 3,
          "solution": false,
          "task": false
        }
      },
      "source": [
        "\n",
        "#  bar",
        "\n",
        "* いわゆる棒グラフ\n",
        ""
      ]
    },
    {
      "cell_type": "code",
      "metadata": {
        "kernel": "Python 3 (ipykernel)",
        "nbgrader": {
          "grade": false,
          "grade_id": "c-016",
          "locked": false,
          "schema_version": 3,
          "solution": false,
          "task": false
        }
      },
      "source": [
        "import matplotlib.pyplot as plt\n",
        "import numpy as np\n",
        "\n",
        "def bar_square():\n",
        "    X = np.linspace(0, 4*np.pi, 100) # 0から4*piまで99等分\n",
        "    Y = np.sin(X)                  # universal関数で100点全てにsinを計算\n",
        "    plt.bar(X, Y)\n",
        "    plt.show()                  # 描画!\n",
        "\n",
        "bar_square()"
      ],
      "execution_count": null,
      "outputs": []
    },
    {
      "cell_type": "markdown",
      "metadata": {
        "kernel": "Python 3 (ipykernel)",
        "nbgrader": {
          "grade": false,
          "grade_id": "c-017",
          "locked": true,
          "schema_version": 3,
          "solution": false,
          "task": false
        }
      },
      "source": [
        "\n",
        "* 全部を覚えようなどと思わなくて良い\n",
        "* ようするに, plt.xxxx の xxxx の部分を変えるだけで色々な表示が出来るということ\n",
        "* どんなのがあるのか眺めてみたければギャラリーへ https://matplotlib.org/gallery/index.html\n",
        ""
      ]
    },
    {
      "cell_type": "markdown",
      "metadata": {
        "kernel": "Python 3 (ipykernel)",
        "nbgrader": {
          "grade": false,
          "grade_id": "c-018",
          "locked": true,
          "schema_version": 3,
          "solution": false,
          "task": false
        }
      },
      "source": [
        "\n",
        "# 2. ややこしい計算結果の描画",
        "\n",
        "* さて我々がこれからしばしばやりたくなるのは, シミュレーションなどでややこしい計算をした結果を表示することである\n",
        "* 例えば質点の動きをシミュレートしたらその座標の時間変化を(例えば横軸をt, 縦軸を座標として)表示するとか, 2次元の軌跡(x(t), y(t))を表示するとか\n",
        "* その場合も表示のやり方は変わらない. 計算の結果を適切にリストや配列に保存すればよい\n",
        "\n",
        ""
      ]
    },
    {
      "cell_type": "markdown",
      "metadata": {
        "kernel": "Python 3 (ipykernel)",
        "nbgrader": {
          "grade": false,
          "grade_id": "c-019",
          "locked": true,
          "schema_version": 3,
          "solution": false,
          "task": false
        }
      },
      "source": [
        "\n",
        "例えばいつぞややった(p08_de.py), バネに繋がれた質点\n",
        "\n",
        "$$ m \\ddot{x}(t) = -kx(t) $$\n",
        "\n",
        "<img src=\"img/spring.svg\" />\n",
        "\n",
        "の動きをシミュレートする(最終時刻Tにおけるxとvを求める)関数は以下だった\n",
        ""
      ]
    },
    {
      "cell_type": "code",
      "metadata": {
        "kernel": "Python 3 (ipykernel)",
        "nbgrader": {
          "grade": false,
          "grade_id": "c-020",
          "locked": false,
          "schema_version": 3,
          "solution": false,
          "task": false
        }
      },
      "source": [
        "def mass_spring(x0, v0, T, m, k):\n",
        "    x = x0\n",
        "    v = v0\n",
        "    t = 0\n",
        "    dt = 0.01\n",
        "    n = int(T / dt)\n",
        "    dt = T / n\n",
        "    for i in range(n):\n",
        "        a = -k * x / m\n",
        "        x += v * dt\n",
        "        v += a * dt\n",
        "        t += dt\n",
        "    return (x,v)"
      ],
      "execution_count": null,
      "outputs": []
    },
    {
      "cell_type": "markdown",
      "metadata": {
        "kernel": "Python 3 (ipykernel)",
        "nbgrader": {
          "grade": false,
          "grade_id": "c-021",
          "locked": true,
          "schema_version": 3,
          "solution": false,
          "task": false
        }
      },
      "source": [
        "\n",
        "* 上記のfor文中で, 刻々とt, xが計算されている\n",
        "* それらをリストに保存して, plt.plot に渡せば表示できる\n",
        ""
      ]
    },
    {
      "cell_type": "code",
      "metadata": {
        "kernel": "Python 3 (ipykernel)",
        "nbgrader": {
          "grade": false,
          "grade_id": "c-022",
          "locked": false,
          "schema_version": 3,
          "solution": false,
          "task": false
        }
      },
      "source": [
        "import matplotlib.pyplot as plt\n",
        "import numpy as np\n",
        "def mass_spring_plot(x0, v0, T, m, k):\n",
        "    x = x0\n",
        "    v = v0\n",
        "    t = 0\n",
        "    dt = 0.01\n",
        "    n = int(T / dt)\n",
        "    dt = T / n\n",
        "    T = []                      # 追加 (tの記録用)\n",
        "    X = []                      # 追加 (xの記録用)\n",
        "    for i in range(n):\n",
        "        T.append(t)             # tを記録\n",
        "        X.append(x)             # xを記録\n",
        "        a = -k * x / m\n",
        "        x += v * dt\n",
        "        v += a * dt\n",
        "        t += dt\n",
        "    plt.plot(T, X)              # シミュレーション終了. plotを呼び出し\n",
        "    plt.show()                  # 描画!\n",
        "\n",
        "mass_spring_plot(1, 0, 10*np.pi, 1, 1)"
      ],
      "execution_count": null,
      "outputs": []
    },
    {
      "cell_type": "markdown",
      "metadata": {
        "kernel": "Python 3 (ipykernel)",
        "nbgrader": {
          "grade": false,
          "grade_id": "c-023",
          "locked": true,
          "schema_version": 3,
          "solution": false,
          "task": false
        }
      },
      "source": [
        "\n",
        "* 可視化するまでは気づきにくいことだが, 見ての通り, 本来単振動するはずの運動が, 徐々に振幅が大きくなっていることがわかる(可視化の効能)\n",
        "* いつかも述べたとおり上記で, vを先に更新してから(更新後のvを使って)xを更新したほうが誤差が少なくなる\n",
        ""
      ]
    },
    {
      "cell_type": "code",
      "metadata": {
        "kernel": "Python 3 (ipykernel)",
        "nbgrader": {
          "grade": false,
          "grade_id": "c-024",
          "locked": false,
          "schema_version": 3,
          "solution": false,
          "task": false
        }
      },
      "source": [
        "import matplotlib.pyplot as plt\n",
        "import numpy as np\n",
        "def mass_spring_plot_vx(x0, v0, T, m, k):\n",
        "    x = x0\n",
        "    v = v0\n",
        "    t = 0\n",
        "    dt = 0.01\n",
        "    n = int(T / dt)\n",
        "    dt = T / n\n",
        "    T = []                      # 追加 (tの記録用)\n",
        "    X = []                      # 追加 (xの記録用)\n",
        "    for i in range(n):\n",
        "        T.append(t)             # tを記録\n",
        "        X.append(x)             # xを記録\n",
        "        a = -k * x / m\n",
        "        v += a * dt             # vを先に更新\n",
        "        x += v * dt             # xをあとに(更新後のvで)更新\n",
        "        t += dt\n",
        "    plt.plot(T, X)              # シミュレーション終了. plotを呼び出し\n",
        "    plt.show()                  # 描画!\n",
        "\n",
        "mass_spring_plot_vx(1, 0, 10*np.pi, 1, 1)"
      ],
      "execution_count": null,
      "outputs": []
    },
    {
      "cell_type": "markdown",
      "metadata": {
        "kernel": "Python 3 (ipykernel)",
        "nbgrader": {
          "grade": false,
          "grade_id": "c-025",
          "locked": true,
          "schema_version": 3,
          "solution": false,
          "task": false
        }
      },
      "source": [
        "\n",
        "* もうひとつ, 今度は軌跡の表示をしてみよう\n",
        "* 以下はいつぞや問題にした, 動かない重い質点(太陽)の周りを回る, 軽い質点(地球)のシミュレーション\n",
        ""
      ]
    },
    {
      "cell_type": "code",
      "metadata": {
        "kernel": "Python 3 (ipykernel)",
        "nbgrader": {
          "grade": false,
          "grade_id": "c-026",
          "locked": false,
          "schema_version": 3,
          "solution": false,
          "task": false
        }
      },
      "source": [
        "from vpython import *\n",
        "import math\n",
        "def sun_and_earth():\n",
        "    G = 6.67408e-11             # 万有引力定数\n",
        "    M = 1.98892e30              # 太陽の質量[kg]\n",
        "    m = 5.9742e24               # 地球の質量[kg]\n",
        "    r = 149.6 * 1e9             # 地球と太陽の距離 [m]\n",
        "    x0 = vector(r, 0, 0)        # 初期位置\n",
        "    v0 = vector(0, math.sqrt(G * M / r), 0) # 初速\n",
        "    x = x0                                      # 地球の位置\n",
        "    v = v0\n",
        "    # 1 step = 1 日\n",
        "    dt = 86400\n",
        "    # 365 step = 1 年\n",
        "    for i in range(365 * 3):\n",
        "        dx = - x\n",
        "        a = (G * M / dx.dot(dx)) * dx.norm()\n",
        "        x += v * dt\n",
        "        v += a * dt\n",
        "    return (x,v)\n",
        "\n",
        "sun_and_earth()"
      ],
      "execution_count": null,
      "outputs": []
    },
    {
      "cell_type": "markdown",
      "metadata": {
        "kernel": "Python 3 (ipykernel)",
        "nbgrader": {
          "grade": false,
          "grade_id": "c-027",
          "locked": true,
          "schema_version": 3,
          "solution": false,
          "task": false
        }
      },
      "source": [
        "\n",
        "# <font color=\"green\"> Problem 1 :  軌跡の表示</font>",
        "\n",
        "上記(以下にもコピーした)のコードを修正し, 地球の軌跡を表示せよ\n",
        ""
      ]
    },
    {
      "cell_type": "code",
      "metadata": {
        "kernel": "Python 3 (ipykernel)",
        "nbgrader": {
          "grade": true,
          "grade_id": "p-001",
          "locked": false,
          "schema_version": 3,
          "solution": true,
          "task": false,
          "points": 1
        }
      },
      "source": [
        "BEGIN SOLUTION\n",
        "END SOLUTION\n",
        "# これを修正して地球の軌跡が出るようにせよ\n",
        "\n",
        "from vpython import *\n",
        "import math\n",
        "def sun_and_earth_plot():\n",
        "    G = 6.67408e-11             # 万有引力定数\n",
        "    M = 1.98892e30              # 太陽の質量[kg]\n",
        "    m = 5.9742e24               # 地球の質量[kg]\n",
        "    r = 149.6 * 1e9             # 地球と太陽の距離 [m]\n",
        "    x0 = vector(r, 0, 0)        # 初期位置\n",
        "    v0 = vector(0, math.sqrt(G * M / r), 0) # 初速\n",
        "    x = x0                                      # 地球の位置\n",
        "    v = v0\n",
        "    # 1 step = 1 日\n",
        "    dt = 86400\n",
        "    # 365 step = 1 年\n",
        "    for i in range(365 * 3):\n",
        "        dx = - x\n",
        "        a = (G * M / dx.dot(dx)) * dx.norm()\n",
        "        x += v * dt\n",
        "        v += a * dt\n",
        "    return (x,v)\n",
        "\n",
        "sun_and_earth_plot()"
      ],
      "execution_count": null,
      "outputs": []
    },
    {
      "cell_type": "markdown",
      "metadata": {
        "kernel": "Python 3 (ipykernel)",
        "nbgrader": {
          "grade": false,
          "grade_id": "c-028",
          "locked": true,
          "schema_version": 3,
          "solution": false,
          "task": false
        }
      },
      "source": [
        "\n",
        "* ここでも見ての通り, 誤差の関係で地球がうまく周回軌道を回ってくれない\n",
        "* vの更新とxの更新を入れ替えるとだいぶマシになる(上記を変更してやってみよ)\n",
        ""
      ]
    }
  ],
  "metadata": {
    "celltoolbar": "Create Assignment",
    "kernelspec": {
      "display_name": "Python 3 (ipykernel)",
      "language": "python",
      "name": "python3"
    },
    "language_info": {
      "codemirror_mode": {
        "name": "ipython",
        "version": 3
      },
      "file_extension": ".py",
      "mimetype": "text/x-python",
      "name": "python",
      "nbconvert_exporter": "python",
      "pygments_lexer": "ipython3",
      "version": "3.8.10"
    }
  },
  "nbformat": 4,
  "nbformat_minor": 4
}