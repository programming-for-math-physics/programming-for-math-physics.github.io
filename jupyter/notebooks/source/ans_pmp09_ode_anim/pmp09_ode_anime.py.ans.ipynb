{
  "cells": [
    {
      "cell_type": "code",
      "metadata": {
        "kernel": "Python 3 (ipykernel)",
        "nbgrader": {
          "grade": false,
          "grade_id": "c-001",
          "locked": true,
          "schema_version": 3,
          "solution": false,
          "task": false
        }
      },
      "source": [
        "from vpython import *\n",
        "\n",
        "def mass_spring_drag_anime(x0, v0, T, m, k, mu):\n",
        "    c = canvas()\n",
        "    b0 = sphere()\n",
        "    s = sphere(color=color.red, pos=vector(x0,0,0), vel=vector(v0,0,0))\n",
        "    dt = 0.01\n",
        "    n = int(T / dt)\n",
        "    dt = T / n\n",
        "    t = 0\n",
        "    for i in range(n):\n",
        "        s.acc = (-k * s.pos - mu * s.vel) / m \n",
        "        s.pos += s.vel * dt\n",
        "        s.vel += s.acc * dt\n",
        "        t += dt\n",
        "        rate(1/dt)\n",
        "    return (s.pos,s.vel)\n",
        "\n",
        "mass_spring_drag_anime(10, 0, 50, 1, 1, 0.1)"
      ],
      "execution_count": null,
      "outputs": []
    },
    {
      "cell_type": "code",
      "metadata": {
        "kernel": "Python 3 (ipykernel)",
        "nbgrader": {
          "grade": false,
          "grade_id": "c-002",
          "locked": true,
          "schema_version": 3,
          "solution": false,
          "task": false
        }
      },
      "source": [
        "from vpython import *\n",
        "\n",
        "def mass_spring_drag_real_anime(x0, v0, T, m, k, mu):\n",
        "    c = canvas()\n",
        "    # b0 = sphere()\n",
        "    s = sphere(color=color.red, pos=vector(x0,0,0), vel=vector(v0,0,0))\n",
        "    h = helix(axis=s.pos, radius=0.5)\n",
        "    floor = box(pos=vector(0,-1,0), height=0.2, width=2, length=20)\n",
        "    dt = 0.01\n",
        "    n = int(T / dt)\n",
        "    dt = T / n\n",
        "    t = 0\n",
        "    for i in range(n):\n",
        "        s.acc = (-k * s.pos - mu * s.vel) / m \n",
        "        s.pos += s.vel * dt\n",
        "        s.vel += s.acc * dt\n",
        "        h.axis = s.pos\n",
        "        t += dt\n",
        "        rate(1/dt)\n",
        "    return (s.pos,s.vel)\n",
        "\n",
        "mass_spring_drag_real_anime(10, 0, 50, 1, 1, 0.1)"
      ],
      "execution_count": null,
      "outputs": []
    },
    {
      "cell_type": "code",
      "metadata": {
        "kernel": "Python 3 (ipykernel)",
        "nbgrader": {
          "grade": false,
          "grade_id": "c-003",
          "locked": true,
          "schema_version": 3,
          "solution": false,
          "task": false
        }
      },
      "source": [
        "import math\n",
        "from vpython import *\n",
        "\n",
        "def sun_and_earth():\n",
        "    cv = canvas()\n",
        "    G = 6.67408e-11\n",
        "    scale = 1e-10\n",
        "    r = 149.6 * 1e9             # [m]\n",
        "    x0 = vector(r, 0, 0)\n",
        "    sun = sphere(color=color.yellow, radius=5, m=1.98892e30, x=vector(0,0,0))\n",
        "    v0 = vector(0, math.sqrt(G * sun.m / r), 0)\n",
        "    earth = sphere(color=color.blue, radius=1, m=5.9742e24,\n",
        "                   x=x0, v=v0, pos=x0 * scale)\n",
        "    # 1 step = 1 日\n",
        "    dt = 86400\n",
        "    # 365 step = 1 年\n",
        "    for i in range(365 * 3):\n",
        "        dx = sun.x - earth.x\n",
        "        a = (G * sun.m / dx.dot(dx)) * dx.norm()\n",
        "        earth.v += a * dt\n",
        "        earth.x += earth.v * dt\n",
        "        earth.pos = earth.x * scale\n",
        "        # 30日に一度, 軌跡を残す\n",
        "        if i % 30 == 0:\n",
        "            sphere(pos=earth.pos, color=earth.color, radius=0.5*earth.radius)\n",
        "        # 1 秒に30 step = 1ヶ月分\n",
        "        rate(30)\n",
        "\n",
        "sun_and_earth()"
      ],
      "execution_count": null,
      "outputs": []
    },
    {
      "cell_type": "code",
      "metadata": {
        "kernel": "Python 3 (ipykernel)",
        "nbgrader": {
          "grade": false,
          "grade_id": "c-004",
          "locked": true,
          "schema_version": 3,
          "solution": false,
          "task": false
        }
      },
      "source": [
        "from vpython import *\n",
        "\n",
        "def binary_star():\n",
        "    cv = canvas()\n",
        "    G = 6.67408e-11\n",
        "    scale = 1e-8\n",
        "    r = 149.6 * 1e7             # [m]\n",
        "    x0 = vector(r, 0, 0)\n",
        "    sun = sphere(color=color.yellow, radius=1, m=5.9742e24, x=vector(0,0,0))\n",
        "    earth = sphere(color=color.blue, radius=1, m=5.9742e24, x=x0)\n",
        "    v0 = vector(0, math.sqrt(2/3 * G * sun.m / r), 0)\n",
        "    sun.v = -v0\n",
        "    earth.v = v0\n",
        "    sun.pos = sun.x * scale\n",
        "    earth.pos = earth.x * scale\n",
        "\n",
        "    # 1 step = 1 日\n",
        "    dt = 86400\n",
        "    # 365 step = 1 年\n",
        "    for i in range(3650):\n",
        "        dx = sun.x - earth.x\n",
        "        earth.a = (G * sun.m / dx.dot(dx)) * dx.norm()\n",
        "        earth.v += earth.a * dt\n",
        "        earth.x += earth.v * dt\n",
        "        sun.a = -(G * earth.m / dx.dot(dx)) * dx.norm()\n",
        "        sun.v += sun.a * dt\n",
        "        sun.x += sun.v * dt\n",
        "        earth.pos = earth.x * scale\n",
        "        sun.pos = sun.x * scale\n",
        "        # 30日に一度, 軌跡を残す\n",
        "        if i % 30 == 0:\n",
        "            sphere(pos=earth.pos, color=earth.color, radius=0.5*earth.radius)\n",
        "            sphere(pos=sun.pos,   color=sun.color,   radius=0.5*sun.radius)\n",
        "        # 1 秒に30 step = 1ヶ月分\n",
        "        rate(30)\n",
        "\n",
        "binary_star()"
      ],
      "execution_count": null,
      "outputs": []
    },
    {
      "cell_type": "code",
      "metadata": {
        "kernel": "Python 3 (ipykernel)",
        "nbgrader": {
          "grade": false,
          "grade_id": "c-005",
          "locked": true,
          "schema_version": 3,
          "solution": false,
          "task": false
        }
      },
      "source": [
        "import math\n",
        "from vpython import *\n",
        "\n",
        "def free_fall(v0, theta, T):\n",
        "    cv = canvas()\n",
        "    b = box(height=0.1, length=100, width=10)\n",
        "    vel = v0 * vector(math.cos(theta), math.sin(theta), 0)\n",
        "    c = cone(vel=vel)\n",
        "    dt = 0.01\n",
        "    t = 0.0\n",
        "    n_steps = T / dt\n",
        "    g = vector(0, -9.8, 0)\n",
        "    n = 1000\n",
        "    for i in range(n):\n",
        "        c.vel += g * dt\n",
        "        c.pos += c.vel * dt\n",
        "        if c.pos.y < 0.0:\n",
        "            c.vel.y = -c.vel.y\n",
        "        rate(1/dt)\n",
        "\n",
        "free_fall(10.0, 0.4*math.pi, 100)"
      ],
      "execution_count": null,
      "outputs": []
    },
    {
      "cell_type": "code",
      "metadata": {
        "kernel": "Python 3 (ipykernel)",
        "nbgrader": {
          "grade": false,
          "grade_id": "c-006",
          "locked": true,
          "schema_version": 3,
          "solution": false,
          "task": false
        }
      },
      "source": [
        "import math\n",
        "from vpython import *\n",
        "\n",
        "\n",
        "def free_fall2(v0, theta, T, e):\n",
        "    cv = canvas()\n",
        "    b = box(height=0.1, length=100, width=10)\n",
        "    vel = v0 * vector(math.cos(theta), math.sin(theta), 0)\n",
        "    c = cone(vel=vel)\n",
        "    dt = 0.01\n",
        "    t = 0.0\n",
        "    n_steps = T / dt\n",
        "    g = vector(0, -9.8, 0)\n",
        "    n = 1000\n",
        "    for i in range(n):\n",
        "        c.vel += g * dt\n",
        "        c.pos += c.vel * dt\n",
        "        if c.pos.y < 0.0 and c.vel.y < 0:\n",
        "            c.vel.y = -e * c.vel.y\n",
        "        rate(1/dt)\n",
        "\n",
        "free_fall2(10.0, 0.4*math.pi, 100, 0.99)"
      ],
      "execution_count": null,
      "outputs": []
    }
  ],
  "metadata": {
    "celltoolbar": "Create Assignment",
    "kernelspec": {
      "display_name": "Python 3 (ipykernel)",
      "language": "python",
      "name": "python3"
    },
    "language_info": {
      "codemirror_mode": {
        "name": "ipython",
        "version": 3
      },
      "file_extension": ".py",
      "mimetype": "text/x-python",
      "name": "python",
      "nbconvert_exporter": "python",
      "pygments_lexer": "ipython3",
      "version": "3.8.10"
    }
  },
  "nbformat": 4,
  "nbformat_minor": 4
}