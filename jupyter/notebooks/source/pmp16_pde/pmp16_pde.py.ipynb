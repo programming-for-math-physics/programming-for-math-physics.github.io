{
  "cells": [
    {
      "cell_type": "markdown",
      "metadata": {
        "kernel": "Python 3 (ipykernel)",
        "nbgrader": {
          "grade": false,
          "grade_id": "c-001",
          "locked": true,
          "schema_version": 3,
          "solution": false,
          "task": false
        }
      },
      "source": [
        "\n",
        "#  偏微分方程式(1次元の例題)",
        ""
      ]
    },
    {
      "cell_type": "markdown",
      "metadata": {
        "kernel": "Python 3 (ipykernel)",
        "nbgrader": {
          "grade": false,
          "grade_id": "c-002",
          "locked": true,
          "schema_version": 3,
          "solution": false,
          "task": false
        }
      },
      "source": [
        "\n",
        "# 1. 例題",
        "\n",
        "未知の関数$u$は$x$ (場所)と$t$ (時刻)の関数(丁寧に書けば$u(t, x)$)で,\n",
        "\n",
        "$0 < x < 1$で\n",
        "$$ \\frac{\\partial u}{\\partial t} = k\\frac{\\partial u}{\\partial x}, $$\n",
        "および\n",
        "$$ u(t, 0) = u(t, 1) = 0 $$\n",
        "を満たす. \n",
        "\n",
        "場所は$x$座標ひとつなので1次元の問題.\n",
        "\n",
        "ある時刻$t$における$u(t, x)$がわかっていれば右辺が計算でき, それによって\n",
        "$$ \\frac{\\partial u}{\\partial t} $$ \n",
        "が与えられるわけだから, 少し時間が経過した後の$u$, つまり, $u(t+\\Delta t, x)$がわかる. \n",
        "\n",
        "ので, 理屈はこれまで質点の運動方程式をといてきたときと変わらない.\n",
        "\n",
        "```\n",
        "for in range(n_steps):\n",
        "  u = u + 右辺 * dt\n",
        "```\n",
        "\n",
        "違いは, ある時刻における状態が, これまではたかだか質点1つの位置(と速度)だったのに対して, すべて(多数)の$x$における値になることだけ. もちろん文字通りすべての(無限の)場所における$u$を保持することは無理なので, 値を保持する$x$の場所を適当な間隔で設定してそれらにおける値だけを追跡することにする. そのために配列が役に立つ.\n",
        ""
      ]
    },
    {
      "cell_type": "markdown",
      "metadata": {
        "kernel": "Python 3 (ipykernel)",
        "nbgrader": {
          "grade": false,
          "grade_id": "c-003",
          "locked": true,
          "schema_version": 3,
          "solution": false,
          "task": false
        }
      },
      "source": [
        "\n",
        "* まず偏微分程式\n",
        "$$ \\frac{\\partial u}{\\partial t} = k\\frac{\\partial u}{\\partial x}, $$\n",
        "\n",
        "を離散化すると,\n",
        "\n",
        "$$ \\frac{u(t+\\Delta t,x) - u(t,x)}{\\Delta t} \\approx k\\frac{u(t,x+\\Delta x) - u(t,x)}{\\Delta x} $$\n",
        "\n",
        "$$ \\therefore\n",
        "u(t+\\Delta t,x)\n",
        "\\approx u(t,x) + (u(t,x+\\Delta x) - u(t,x))\\frac{k\\Delta t}{\\Delta x}   $$\n",
        "\n",
        "* $0 = x_0 < x_1 < \\cdots x_n = 1$ と [0,1] 上に$n$個の点を等間隔に取り, 隣り合う点の間隔を$\\Delta x$ にする ($\\Delta x = 1/n$) とすると, $u(t, x+\\Delta x)$は, 配列上で$u(t, x)$の右隣の要素ということになる.\n",
        ""
      ]
    },
    {
      "cell_type": "markdown",
      "metadata": {
        "kernel": "Python 3 (ipykernel)",
        "nbgrader": {
          "grade": false,
          "grade_id": "c-004",
          "locked": true,
          "schema_version": 3,
          "solution": false,
          "task": false
        }
      },
      "source": [
        "# 2. プログラム化",
        "\n",
        "以下のプログラム`simple_pde(n, n_steps, T)`は\n",
        "  * 区間$[0,1]$で上記の微分方程式を解く. ただし,\n",
        "  * ただし, 初期状態($t=0$)で, $u(0, x) = \\sin(4\\pi x)$とする(深い意味はない)\n",
        "  * 端点($x = 0, 1$)は, 0に固定されている($u(t, 0) = u(t, 1) = 0$)\n",
        "  * 結果として$t = T$における$x$の値と$u$の値($u(T, x)$)を返す\n",
        "  * 区間$[0, 1]$は(n-1)分割, 時間$[0, T]$はn_steps分割する"
      ]
    },
    {
      "cell_type": "code",
      "metadata": {
        "kernel": "Python 3 (ipykernel)",
        "nbgrader": {
          "grade": false,
          "grade_id": "c-005",
          "locked": false,
          "schema_version": 3,
          "solution": false,
          "task": false
        }
      },
      "source": [
        "import numpy as np\n",
        "\n",
        "def simple_pde(n, n_steps, T):\n",
        "    k = 0.5\n",
        "    x = np.linspace(0,1,n)\n",
        "    u = np.sin(4 * np.pi * x)   # 初期状態\n",
        "    dt = T / n_steps\n",
        "    dx = 1.0 / (n - 1)\n",
        "    for s in range(n_steps):\n",
        "        u[1:n-1] += (k * dt / dx) * (u[2:n] - u[1:n-1])\n",
        "    return x, u\n",
        ""
      ],
      "execution_count": null,
      "outputs": []
    },
    {
      "cell_type": "markdown",
      "metadata": {
        "kernel": "Python 3 (ipykernel)",
        "nbgrader": {
          "grade": false,
          "grade_id": "c-006",
          "locked": true,
          "schema_version": 3,
          "solution": false,
          "task": false
        }
      },
      "source": [
        "\n",
        "# 3. 結果の可視化",
        ""
      ]
    },
    {
      "cell_type": "code",
      "metadata": {
        "kernel": "Python 3 (ipykernel)",
        "nbgrader": {
          "grade": false,
          "grade_id": "c-007",
          "locked": false,
          "schema_version": 3,
          "solution": false,
          "task": false
        }
      },
      "source": [
        "%matplotlib notebook\n",
        "import matplotlib.pyplot as plt\n",
        "import numpy as np\n",
        "\n",
        "def visualize_simple_pde(n, n_steps, T):\n",
        "    x, u = simple_pde(n, n_steps, T)\n",
        "    plt.plot(x, u)\n",
        "    plt.show()\n",
        "\n",
        "visualize_simple_pde(100, 1000, 1.0)"
      ],
      "execution_count": null,
      "outputs": []
    },
    {
      "cell_type": "markdown",
      "metadata": {
        "kernel": "Python 3 (ipykernel)",
        "nbgrader": {
          "grade": false,
          "grade_id": "c-008",
          "locked": true,
          "schema_version": 3,
          "solution": false,
          "task": false
        }
      },
      "source": [
        "\n",
        "# 4. アニメーション化",
        ""
      ]
    },
    {
      "cell_type": "code",
      "metadata": {
        "kernel": "Python 3 (ipykernel)",
        "nbgrader": {
          "grade": false,
          "grade_id": "c-009",
          "locked": false,
          "schema_version": 3,
          "solution": false,
          "task": false
        }
      },
      "source": [
        "%matplotlib notebook\n",
        "import matplotlib.pyplot as plt\n",
        "import matplotlib.animation as anm\n",
        "import numpy as np\n",
        "\n",
        "def simple_pde(n, n_steps, T):\n",
        "    k = 0.5\n",
        "    x = np.linspace(0,1,n)\n",
        "    u = np.sin(4 * np.pi * x)   # 初期状態\n",
        "    dt = T / n_steps\n",
        "    dx = 1.0 / (n - 1)\n",
        "    for s in range(n_steps):\n",
        "        if s == 0:\n",
        "            [ line ] = plt.plot(x, u)\n",
        "        else:\n",
        "            line.set_data(x, u)\n",
        "        u[1:n-1] += (k * dt / dx) * (u[2:n] - u[1:n-1])\n",
        "        yield [line]\n",
        "\n",
        "def animate_simple_pde(n, n_steps, T):\n",
        "    fig = plt.figure()\n",
        "    ani = anm.FuncAnimation(fig, lambda x: x, repeat=0,\n",
        "                            frames=simple_pde(n, n_steps, T), \n",
        "                            interval=1)\n",
        "    plt.show()\n",
        "    return ani\n",
        "\n",
        "animate_simple_pde(100, 1000, 1.0)"
      ],
      "execution_count": null,
      "outputs": []
    }
  ],
  "metadata": {
    "celltoolbar": "Create Assignment",
    "kernelspec": {
      "display_name": "Python 3 (ipykernel)",
      "language": "python",
      "name": "python3"
    },
    "language_info": {
      "codemirror_mode": {
        "name": "ipython",
        "version": 3
      },
      "file_extension": ".py",
      "mimetype": "text/x-python",
      "name": "python",
      "nbconvert_exporter": "python",
      "pygments_lexer": "ipython3",
      "version": "3.8.10"
    }
  },
  "nbformat": 4,
  "nbformat_minor": 4
}